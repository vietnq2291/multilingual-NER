{
 "cells": [
  {
   "cell_type": "markdown",
   "metadata": {},
   "source": [
    "# mT5"
   ]
  },
  {
   "cell_type": "code",
   "execution_count": 1,
   "metadata": {},
   "outputs": [
    {
     "name": "stderr",
     "output_type": "stream",
     "text": [
      "/home/nlp/anaconda3/envs/vietnq-ner/lib/python3.12/site-packages/tqdm/auto.py:21: TqdmWarning: IProgress not found. Please update jupyter and ipywidgets. See https://ipywidgets.readthedocs.io/en/stable/user_install.html\n",
      "  from .autonotebook import tqdm as notebook_tqdm\n"
     ]
    }
   ],
   "source": [
    "import matplotlib.pyplot as plt\n",
    "from datasets import load_dataset\n",
    "from transformers import MT5TokenizerFast, MT5ForConditionalGeneration"
   ]
  },
  {
   "cell_type": "code",
   "execution_count": 2,
   "metadata": {},
   "outputs": [],
   "source": [
    "MAX_LENGTH = 1024\n",
    "model_id = 'google/mt5-base'"
   ]
  },
  {
   "cell_type": "code",
   "execution_count": 3,
   "metadata": {},
   "outputs": [
    {
     "name": "stderr",
     "output_type": "stream",
     "text": [
      "You are using the default legacy behaviour of the <class 'transformers.models.t5.tokenization_t5.T5Tokenizer'>. This is expected, and simply means that the `legacy` (previous) behavior will be used so nothing changes for you. If you want to use the new behaviour, set `legacy=False`. This should only be set if you understand what it means, and thoroughly read the reason why this was added as explained in https://github.com/huggingface/transformers/pull/24565\n"
     ]
    },
    {
     "name": "stderr",
     "output_type": "stream",
     "text": [
      "/home/nlp/anaconda3/envs/vietnq-ner/lib/python3.12/site-packages/transformers/convert_slow_tokenizer.py:560: UserWarning: The sentencepiece tokenizer that you are converting to a fast tokenizer uses the byte fallback option which is not implemented in the fast tokenizers. In practice this means that the fast version of the tokenizer can produce unknown tokens whereas the sentencepiece version would have converted these unknown tokens into a sequence of byte tokens matching the original piece of text.\n",
      "  warnings.warn(\n"
     ]
    },
    {
     "name": "stdout",
     "output_type": "stream",
     "text": [
      "BOS: None\n",
      "SEP: None\n",
      "PAD: <pad>\n",
      "EOS: </s>\n"
     ]
    }
   ],
   "source": [
    "# Setup tokenizer\n",
    "tokenizer = MT5TokenizerFast.from_pretrained(model_id)\n",
    "\n",
    "print('BOS:', tokenizer.bos_token)\n",
    "print('SEP:', tokenizer.sep_token)\n",
    "print('PAD:', tokenizer.pad_token)\n",
    "print('EOS:', tokenizer.eos_token)"
   ]
  },
  {
   "cell_type": "markdown",
   "metadata": {},
   "source": [
    "### 1. Dataset `INSTRUCTION TUNING WITH GPT-4`"
   ]
  },
  {
   "cell_type": "code",
   "execution_count": 4,
   "metadata": {},
   "outputs": [],
   "source": [
    "# output repo in huggingface\n",
    "output_repo = 'en-mT5-instruction_tuning-gpt4'"
   ]
  },
  {
   "cell_type": "markdown",
   "metadata": {},
   "source": [
    "Load dataset"
   ]
  },
  {
   "cell_type": "code",
   "execution_count": 5,
   "metadata": {},
   "outputs": [],
   "source": [
    "# import os\n",
    "# os.makedirs('dataset', exist_ok=True)\n",
    "\n",
    "# !wget https://raw.githubusercontent.com/Instruction-Tuning-with-GPT-4/GPT-4-LLM/main/data/alpaca_gpt4_data.json -P dataset"
   ]
  },
  {
   "cell_type": "code",
   "execution_count": 6,
   "metadata": {},
   "outputs": [
    {
     "data": {
      "text/plain": [
       "Dataset({\n",
       "    features: ['instruction', 'input', 'output'],\n",
       "    num_rows: 52002\n",
       "})"
      ]
     },
     "execution_count": 6,
     "metadata": {},
     "output_type": "execute_result"
    }
   ],
   "source": [
    "en_alpaca = load_dataset('json', data_files='dataset/alpaca_gpt4_data.json')['train']\n",
    "en_alpaca"
   ]
  },
  {
   "cell_type": "code",
   "execution_count": 7,
   "metadata": {},
   "outputs": [
    {
     "data": {
      "text/plain": [
       "{'instruction': 'Sort the following list in alphabetical order.',\n",
       " 'input': 'Camouflage, Furniture, Plaster',\n",
       " 'output': 'Camouflage, Furniture, Plaster sorted in alphabetical order:\\nCamouflage, Furniture, Plaster'}"
      ]
     },
     "execution_count": 7,
     "metadata": {},
     "output_type": "execute_result"
    }
   ],
   "source": [
    "en_alpaca[232]"
   ]
  },
  {
   "cell_type": "code",
   "execution_count": 8,
   "metadata": {},
   "outputs": [],
   "source": [
    "def prompt_no_input(row):\n",
    "    return (\"Below is an instruction that describes a task. \"\n",
    "            \"Write a response that appropriately completes the request.\\n\\n\"\n",
    "            \"### Instruction: {instruction}\\n\\n### Response:\\n\").format_map(row)\n",
    "\n",
    "\n",
    "def prompt_input(row):\n",
    "    return (\"Below is an instruction that describes a task, paired with an input that provides further context. \"\n",
    "            \"Write a response that appropriately completes the request.\\n\\n\"\n",
    "            \"### Instruction: {instruction}\\n\\n### Input: {input}\\n\\n### Response:\\n\").format_map(row)\n",
    "\n",
    "def create_prompt(row):\n",
    "    return prompt_no_input(row) if row[\"input\"] == \"\" else prompt_input(row)"
   ]
  },
  {
   "cell_type": "code",
   "execution_count": 9,
   "metadata": {},
   "outputs": [
    {
     "name": "stdout",
     "output_type": "stream",
     "text": [
      "Below is an instruction that describes a task, paired with an input that provides further context. Write a response that appropriately completes the request.\n",
      "\n",
      "### Instruction: Sort the following list in alphabetical order.\n",
      "\n",
      "### Input: Camouflage, Furniture, Plaster\n",
      "\n",
      "### Response:\n",
      "\n"
     ]
    }
   ],
   "source": [
    "print(create_prompt(en_alpaca[232]))"
   ]
  },
  {
   "cell_type": "code",
   "execution_count": 10,
   "metadata": {},
   "outputs": [
    {
     "name": "stdout",
     "output_type": "stream",
     "text": [
      "Below is an instruction that describes a task. Write a response that appropriately completes the request.\n",
      "\n",
      "### Instruction: Identify the lines of longitude that divides North and South America.\n",
      "\n",
      "### Response:\n",
      "\n"
     ]
    }
   ],
   "source": [
    "print(create_prompt(en_alpaca[29]))"
   ]
  },
  {
   "cell_type": "code",
   "execution_count": 11,
   "metadata": {},
   "outputs": [
    {
     "data": {
      "text/plain": [
       "{'id': 232,\n",
       " 'text': 'Below is an instruction that describes a task, paired with an input that provides further context. Write a response that appropriately completes the request.\\n\\n### Instruction: Sort the following list in alphabetical order.\\n\\n### Input: Camouflage, Furniture, Plaster\\n\\n### Response:\\n',\n",
       " 'label': 'Camouflage, Furniture, Plaster sorted in alphabetical order:\\nCamouflage, Furniture, Plaster'}"
      ]
     },
     "execution_count": 11,
     "metadata": {},
     "output_type": "execute_result"
    }
   ],
   "source": [
    "def make_labelled_data(example, id):\n",
    "    prompt = create_prompt(example)\n",
    "    label = example['output']\n",
    "\n",
    "    return {\"id\": id, \"text\": prompt, \"label\": label}\n",
    "\n",
    "make_labelled_data(en_alpaca[232], 232)"
   ]
  },
  {
   "cell_type": "code",
   "execution_count": 12,
   "metadata": {},
   "outputs": [
    {
     "name": "stdout",
     "output_type": "stream",
     "text": [
      "> Making labelled dataset...\n",
      "Dataset({\n",
      "    features: ['id', 'text', 'label'],\n",
      "    num_rows: 52002\n",
      "})\n"
     ]
    }
   ],
   "source": [
    "print(\"> Making labelled dataset...\")\n",
    "en_alpaca_labelled = en_alpaca.map(\n",
    "    make_labelled_data,\n",
    "    with_indices=True,\n",
    "    remove_columns=[\"instruction\", \"input\", \"output\"],\n",
    ")\n",
    "print(en_alpaca_labelled)"
   ]
  },
  {
   "cell_type": "code",
   "execution_count": 13,
   "metadata": {},
   "outputs": [],
   "source": [
    "token_lengths = en_alpaca_labelled.map(\n",
    "    lambda x: {\n",
    "        'text': len(tokenizer(x['text'], padding=False, truncation=False, add_special_tokens=True)['input_ids']),\n",
    "        'label': len(tokenizer(x['label'], padding=False, truncation=False, add_special_tokens=True)['input_ids']),\n",
    "    }\n",
    ")"
   ]
  },
  {
   "cell_type": "code",
   "execution_count": 14,
   "metadata": {},
   "outputs": [
    {
     "data": {
      "image/png": "[encoded data removed]",
      "text/plain": [
       "<Figure size 1000x800 with 2 Axes>"
      ]
     },
     "metadata": {},
     "output_type": "display_data"
    },
    {
     "name": "stdout",
     "output_type": "stream",
     "text": [
      "Max text length: 664\n",
      "Max label length: 700\n",
      "Current limit: MAX_LENGTH = 1024\n"
     ]
    }
   ],
   "source": [
    "import matplotlib.pyplot as plt\n",
    "\n",
    "plt.figure(figsize=(10, 8))\n",
    "plt.subplot(1, 2, 1)\n",
    "plt.hist(token_lengths['text'])\n",
    "plt.title('Text lengths')\n",
    "\n",
    "plt.subplot(1, 2, 2)\n",
    "plt.hist(token_lengths['label'])\n",
    "plt.title('Label lengths')\n",
    "\n",
    "plt.show()\n",
    "\n",
    "print('Max text length:', max(token_lengths['text']))\n",
    "print('Max label length:', max(token_lengths['label']))\n",
    "print('Current limit: MAX_LENGTH =', MAX_LENGTH)"
   ]
  },
  {
   "cell_type": "code",
   "execution_count": 15,
   "metadata": {},
   "outputs": [
    {
     "name": "stdout",
     "output_type": "stream",
     "text": [
      "> Tokenizing dataset...\n",
      ">> Dataset is ready:\n",
      "Dataset({\n",
      "    features: ['id', 'input_ids', 'attention_mask', 'labels'],\n",
      "    num_rows: 52002\n",
      "})\n"
     ]
    }
   ],
   "source": [
    "def tokenize(samples, tokenizer, input_field, label_field, max_length=MAX_LENGTH):\n",
    "    # Tokenize\n",
    "    tokenized_input = tokenizer(samples[input_field], max_length=max_length, padding=False, truncation=True, add_special_tokens=True)\n",
    "    tokenized_label = tokenizer(samples[label_field], max_length=max_length, padding=False, truncation=True, add_special_tokens=True)\n",
    "\n",
    "    return {\n",
    "        'input_ids': tokenized_input['input_ids'],\n",
    "        'attention_mask': tokenized_input['attention_mask'],\n",
    "        'labels': tokenized_label['input_ids']\n",
    "    }\n",
    "\n",
    "print(\"> Tokenizing dataset...\")\n",
    "en_alpaca_tokenized = en_alpaca_labelled.map(\n",
    "    lambda x: tokenize(x, tokenizer, \"text\", \"label\"),\n",
    "    batched=True,\n",
    "    remove_columns=[\"text\", \"label\"],\n",
    ")\n",
    "\n",
    "print(\">> Dataset is ready:\")\n",
    "print(en_alpaca_tokenized)"
   ]
  },
  {
   "cell_type": "code",
   "execution_count": 16,
   "metadata": {},
   "outputs": [
    {
     "data": {
      "text/plain": [
       "([1071,\n",
       "  12704,\n",
       "  339,\n",
       "  461,\n",
       "  66395,\n",
       "  533,\n",
       "  259,\n",
       "  61507,\n",
       "  263,\n",
       "  259,\n",
       "  262,\n",
       "  41401,\n",
       "  261,\n",
       "  35885,\n",
       "  345,\n",
       "  514,\n",
       "  461,\n",
       "  13037,\n",
       "  533,\n",
       "  4996,\n",
       "  263,\n",
       "  259,\n",
       "  17756,\n",
       "  19730,\n",
       "  260,\n",
       "  70081,\n",
       "  259,\n",
       "  262,\n",
       "  17672,\n",
       "  533,\n",
       "  259,\n",
       "  32821,\n",
       "  484,\n",
       "  8593,\n",
       "  263,\n",
       "  287,\n",
       "  19378,\n",
       "  260,\n",
       "  259,\n",
       "  62569,\n",
       "  259,\n",
       "  165543,\n",
       "  267,\n",
       "  99574,\n",
       "  346,\n",
       "  714,\n",
       "  259,\n",
       "  98923,\n",
       "  332,\n",
       "  259,\n",
       "  131640,\n",
       "  305,\n",
       "  259,\n",
       "  164814,\n",
       "  259,\n",
       "  75107,\n",
       "  263,\n",
       "  259,\n",
       "  62569,\n",
       "  259,\n",
       "  52043,\n",
       "  267,\n",
       "  1669,\n",
       "  3513,\n",
       "  71572,\n",
       "  1638,\n",
       "  59329,\n",
       "  305,\n",
       "  12255,\n",
       "  287,\n",
       "  9463,\n",
       "  173162,\n",
       "  259,\n",
       "  62569,\n",
       "  259,\n",
       "  33632,\n",
       "  267,\n",
       "  1],\n",
       " 'Below is an instruction that describes a task, paired with an input that provides further context. Write a response that appropriately completes the request. ### Instruction: Evaluate this sentence for spelling and grammar mistakes ### Input: He finnished his meal and left the resturant ### Response:</s>')"
      ]
     },
     "execution_count": 16,
     "metadata": {},
     "output_type": "execute_result"
    }
   ],
   "source": [
    "en_alpaca_tokenized[9]['input_ids'], tokenizer.decode(en_alpaca_tokenized[9]['input_ids'])"
   ]
  },
  {
   "cell_type": "code",
   "execution_count": 17,
   "metadata": {},
   "outputs": [
    {
     "data": {
      "text/plain": [
       "([5258,\n",
       "  418,\n",
       "  2956,\n",
       "  259,\n",
       "  131640,\n",
       "  259,\n",
       "  112790,\n",
       "  281,\n",
       "  287,\n",
       "  259,\n",
       "  98923,\n",
       "  260,\n",
       "  486,\n",
       "  12382,\n",
       "  345,\n",
       "  259,\n",
       "  98923,\n",
       "  3609,\n",
       "  390,\n",
       "  267,\n",
       "  313,\n",
       "  13344,\n",
       "  259,\n",
       "  47149,\n",
       "  1638,\n",
       "  59329,\n",
       "  305,\n",
       "  12255,\n",
       "  287,\n",
       "  13306,\n",
       "  2454,\n",
       "  1],\n",
       " 'There are two spelling errors in the sentence. The corrected sentence should be: \"He finished his meal and left the restaurant.\"</s>')"
      ]
     },
     "execution_count": 17,
     "metadata": {},
     "output_type": "execute_result"
    }
   ],
   "source": [
    "en_alpaca_tokenized[9]['labels'], tokenizer.decode(en_alpaca_tokenized[9]['labels'])"
   ]
  },
  {
   "cell_type": "code",
   "execution_count": 18,
   "metadata": {},
   "outputs": [
    {
     "name": "stdout",
     "output_type": "stream",
     "text": [
      "> Pushing to hub: en-mT5-instruction_tuning-gpt4\n"
     ]
    },
    {
     "name": "stderr",
     "output_type": "stream",
     "text": [
      "Creating parquet from Arrow format: 100%|██████████| 53/53 [00:00<00:00, 188.00ba/s]\n"
     ]
    },
    {
     "name": "stderr",
     "output_type": "stream",
     "text": [
      "Uploading the dataset shards: 100%|██████████| 1/1 [00:06<00:00,  6.09s/it]\n"
     ]
    },
    {
     "data": {
      "text/plain": [
       "CommitInfo(commit_url='https://huggingface.co/datasets/nqv2291/en-mT5-instruction_tuning-gpt4/commit/4da111cf45620cc1b8147bf0abc2790b10cf6f8c', commit_message='Upload dataset', commit_description='', oid='4da111cf45620cc1b8147bf0abc2790b10cf6f8c', pr_url=None, pr_revision=None, pr_num=None)"
      ]
     },
     "execution_count": 18,
     "metadata": {},
     "output_type": "execute_result"
    }
   ],
   "source": [
    "print(f\"> Pushing to hub: {output_repo}\")\n",
    "en_alpaca_tokenized.push_to_hub(output_repo)"
   ]
  },
  {
   "cell_type": "markdown",
   "metadata": {},
   "source": [
    "### 2. Dataset `bkai-foundation-models/vi-alpaca`"
   ]
  },
  {
   "cell_type": "code",
   "execution_count": 19,
   "metadata": {},
   "outputs": [],
   "source": [
    "# output repo in huggingface\n",
    "output_repo = 'vi-mT5-instruction_tuning-bkai'"
   ]
  },
  {
   "cell_type": "code",
   "execution_count": 20,
   "metadata": {},
   "outputs": [
    {
     "data": {
      "text/plain": [
       "Dataset({\n",
       "    features: ['instruction', 'input', 'output'],\n",
       "    num_rows: 50006\n",
       "})"
      ]
     },
     "execution_count": 20,
     "metadata": {},
     "output_type": "execute_result"
    }
   ],
   "source": [
    "vi_alpaca = load_dataset('bkai-foundation-models/vi-alpaca', split='train')\n",
    "vi_alpaca"
   ]
  },
  {
   "cell_type": "code",
   "execution_count": 21,
   "metadata": {},
   "outputs": [
    {
     "data": {
      "text/plain": [
       "{'instruction': 'Tìm bài hát theo lời mô tả sau.',\n",
       " 'input': 'Một bản nhạc vui nhộn với giai điệu sôi động và lời ca bắt tai. Bài hát này thường được người ta nhảy theo và hát cùng trong các buổi tiệc hoặc sự kiện vui nhộn.',\n",
       " 'output': 'Bài hát mà bạn mô tả có thể là một bài hát như \"Happy\" của Pharrell Williams. Bài hát này có giai điệu vui nhộn, nhanh chóng và lời ca tích cực, khích lệ. Đây là một bài hát phổ biến được người ta thường chơi trong các buổi tiệc hoặc sự kiện để tạo không khí vui tươi và năng động.'}"
      ]
     },
     "execution_count": 21,
     "metadata": {},
     "output_type": "execute_result"
    }
   ],
   "source": [
    "vi_alpaca[232]"
   ]
  },
  {
   "cell_type": "code",
   "execution_count": 22,
   "metadata": {},
   "outputs": [],
   "source": [
    "def prompt_no_input(row):\n",
    "    return (\"Below is an instruction that describes a task. \"\n",
    "            \"Write a response that appropriately completes the request.\\n\\n\"\n",
    "            \"### Instruction: {instruction}\\n\\n### Response:\\n\").format_map(row)\n",
    "\n",
    "\n",
    "def prompt_input(row):\n",
    "    return (\"Below is an instruction that describes a task, paired with an input that provides further context. \"\n",
    "            \"Write a response that appropriately completes the request.\\n\\n\"\n",
    "            \"### Instruction: {instruction}\\n\\n### Input: {input}\\n\\n### Response:\\n\").format_map(row)\n",
    "\n",
    "def create_prompt(row):\n",
    "    return prompt_no_input(row) if row[\"input\"] == \"\" else prompt_input(row)"
   ]
  },
  {
   "cell_type": "code",
   "execution_count": 23,
   "metadata": {},
   "outputs": [
    {
     "name": "stdout",
     "output_type": "stream",
     "text": [
      "Below is an instruction that describes a task, paired with an input that provides further context. Write a response that appropriately completes the request.\n",
      "\n",
      "### Instruction: Tìm bài hát theo lời mô tả sau.\n",
      "\n",
      "### Input: Một bản nhạc vui nhộn với giai điệu sôi động và lời ca bắt tai. Bài hát này thường được người ta nhảy theo và hát cùng trong các buổi tiệc hoặc sự kiện vui nhộn.\n",
      "\n",
      "### Response:\n",
      "\n"
     ]
    }
   ],
   "source": [
    "print(create_prompt(vi_alpaca[232]))"
   ]
  },
  {
   "cell_type": "code",
   "execution_count": 24,
   "metadata": {},
   "outputs": [
    {
     "name": "stdout",
     "output_type": "stream",
     "text": [
      "Below is an instruction that describes a task. Write a response that appropriately completes the request.\n",
      "\n",
      "### Instruction: Viết một câu hỏi để yêu cầu thông tin tổng quát về lịch sử của Rome, Italy.\n",
      "\n",
      "### Response:\n",
      "\n"
     ]
    }
   ],
   "source": [
    "print(create_prompt(vi_alpaca[46000]))"
   ]
  },
  {
   "cell_type": "code",
   "execution_count": 25,
   "metadata": {},
   "outputs": [
    {
     "data": {
      "text/plain": [
       "{'id': 232,\n",
       " 'text': 'Below is an instruction that describes a task, paired with an input that provides further context. Write a response that appropriately completes the request.\\n\\n### Instruction: Tìm bài hát theo lời mô tả sau.\\n\\n### Input: Một bản nhạc vui nhộn với giai điệu sôi động và lời ca bắt tai. Bài hát này thường được người ta nhảy theo và hát cùng trong các buổi tiệc hoặc sự kiện vui nhộn.\\n\\n### Response:\\n',\n",
       " 'label': 'Bài hát mà bạn mô tả có thể là một bài hát như \"Happy\" của Pharrell Williams. Bài hát này có giai điệu vui nhộn, nhanh chóng và lời ca tích cực, khích lệ. Đây là một bài hát phổ biến được người ta thường chơi trong các buổi tiệc hoặc sự kiện để tạo không khí vui tươi và năng động.'}"
      ]
     },
     "execution_count": 25,
     "metadata": {},
     "output_type": "execute_result"
    }
   ],
   "source": [
    "def make_labelled_data(example, id):\n",
    "    prompt = create_prompt(example)\n",
    "    label = example['output']\n",
    "\n",
    "    return {\"id\": id, \"text\": prompt, \"label\": label}\n",
    "\n",
    "make_labelled_data(vi_alpaca[232], 232)"
   ]
  },
  {
   "cell_type": "code",
   "execution_count": 26,
   "metadata": {},
   "outputs": [
    {
     "name": "stdout",
     "output_type": "stream",
     "text": [
      "> Making labelled dataset...\n",
      "Dataset({\n",
      "    features: ['id', 'text', 'label'],\n",
      "    num_rows: 50006\n",
      "})\n"
     ]
    }
   ],
   "source": [
    "print(\"> Making labelled dataset...\")\n",
    "vi_alpaca_labelled = vi_alpaca.map(\n",
    "    make_labelled_data,\n",
    "    with_indices=True,\n",
    "    remove_columns=[\"instruction\", \"input\", \"output\"],\n",
    ")\n",
    "print(vi_alpaca_labelled)"
   ]
  },
  {
   "cell_type": "code",
   "execution_count": 27,
   "metadata": {},
   "outputs": [
    {
     "data": {
      "image/png": "[encoded data removed]",
      "text/plain": [
       "<Figure size 1000x800 with 2 Axes>"
      ]
     },
     "metadata": {},
     "output_type": "display_data"
    },
    {
     "name": "stdout",
     "output_type": "stream",
     "text": [
      "Max text length: 1086\n",
      "Max label length: 3629\n",
      "Current limit: MAX_LENGTH = 1024\n"
     ]
    }
   ],
   "source": [
    "token_lengths = vi_alpaca_labelled.map(\n",
    "    lambda x: {\n",
    "        'text': len(tokenizer(x['text'], padding=False, truncation=False, add_special_tokens=True)['input_ids']),\n",
    "        'label': len(tokenizer(x['label'], padding=False, truncation=False, add_special_tokens=True)['input_ids']),\n",
    "    }\n",
    ")\n",
    "\n",
    "plt.figure(figsize=(10, 8))\n",
    "plt.subplot(1, 2, 1)\n",
    "plt.hist(token_lengths['text'])\n",
    "plt.title('Text lengths')\n",
    "\n",
    "plt.subplot(1, 2, 2)\n",
    "plt.hist(token_lengths['label'])\n",
    "plt.title('Label lengths')\n",
    "\n",
    "plt.show()\n",
    "\n",
    "print('Max text length:', max(token_lengths['text']))\n",
    "print('Max label length:', max(token_lengths['label']))\n",
    "print('Current limit: MAX_LENGTH =', MAX_LENGTH)"
   ]
  },
  {
   "cell_type": "code",
   "execution_count": 28,
   "metadata": {},
   "outputs": [
    {
     "data": {
      "text/plain": [
       "Dataset({\n",
       "    features: ['id', 'text', 'label'],\n",
       "    num_rows: 49594\n",
       "})"
      ]
     },
     "execution_count": 28,
     "metadata": {},
     "output_type": "execute_result"
    }
   ],
   "source": [
    "# filter the dataset to only get those that has length of text <= 1024\n",
    "vi_alpaca_labelled_dropped = vi_alpaca_labelled.filter(\n",
    "    lambda x: len(x['text']) <= MAX_LENGTH\n",
    ")\n",
    "vi_alpaca_labelled_dropped"
   ]
  },
  {
   "cell_type": "code",
   "execution_count": 29,
   "metadata": {},
   "outputs": [
    {
     "data": {
      "image/png": "[encoded data removed]",
      "text/plain": [
       "<Figure size 1000x800 with 2 Axes>"
      ]
     },
     "metadata": {},
     "output_type": "display_data"
    },
    {
     "name": "stdout",
     "output_type": "stream",
     "text": [
      "Max text length: 496\n",
      "Max label length: 3629\n",
      "Current limit: MAX_LENGTH = 1024\n"
     ]
    }
   ],
   "source": [
    "token_lengths = vi_alpaca_labelled_dropped.map(\n",
    "    lambda x: {\n",
    "        'text': len(tokenizer(x['text'], padding=False, truncation=False, add_special_tokens=True)['input_ids']),\n",
    "        'label': len(tokenizer(x['label'], padding=False, truncation=False, add_special_tokens=True)['input_ids']),\n",
    "    }\n",
    ")\n",
    "\n",
    "plt.figure(figsize=(10, 8))\n",
    "plt.subplot(1, 2, 1)\n",
    "plt.hist(token_lengths['text'])\n",
    "plt.title('Text lengths')\n",
    "\n",
    "plt.subplot(1, 2, 2)\n",
    "plt.hist(token_lengths['label'])\n",
    "plt.title('Label lengths')\n",
    "\n",
    "plt.show()\n",
    "\n",
    "print('Max text length:', max(token_lengths['text']))\n",
    "print('Max label length:', max(token_lengths['label']))\n",
    "print('Current limit: MAX_LENGTH =', MAX_LENGTH)"
   ]
  },
  {
   "cell_type": "code",
   "execution_count": 30,
   "metadata": {},
   "outputs": [
    {
     "name": "stdout",
     "output_type": "stream",
     "text": [
      "> Tokenizing dataset...\n"
     ]
    },
    {
     "name": "stderr",
     "output_type": "stream",
     "text": [
      "Map: 100%|██████████| 49594/49594 [00:09<00:00, 5347.27 examples/s]"
     ]
    },
    {
     "name": "stdout",
     "output_type": "stream",
     "text": [
      ">> Dataset is ready:\n",
      "Dataset({\n",
      "    features: ['id', 'input_ids', 'attention_mask', 'labels'],\n",
      "    num_rows: 49594\n",
      "})\n"
     ]
    },
    {
     "name": "stderr",
     "output_type": "stream",
     "text": [
      "\n"
     ]
    }
   ],
   "source": [
    "def tokenize(samples, tokenizer, input_field, label_field, max_length=MAX_LENGTH):\n",
    "    # Tokenize\n",
    "    tokenized_input = tokenizer(samples[input_field], max_length=max_length, padding=False, truncation=True, add_special_tokens=True)\n",
    "    tokenized_label = tokenizer(samples[label_field], max_length=max_length, padding=False, truncation=True, add_special_tokens=True)\n",
    "\n",
    "    return {\n",
    "        'input_ids': tokenized_input['input_ids'],\n",
    "        'attention_mask': tokenized_input['attention_mask'],\n",
    "        'labels': tokenized_label['input_ids']\n",
    "    }\n",
    "\n",
    "print(\"> Tokenizing dataset...\")\n",
    "vi_alpaca_tokenized = vi_alpaca_labelled_dropped.map(\n",
    "    lambda x: tokenize(x, tokenizer, \"text\", \"label\"),\n",
    "    batched=True,\n",
    "    remove_columns=[\"text\", \"label\"],\n",
    ")\n",
    "\n",
    "print(\">> Dataset is ready:\")\n",
    "print(vi_alpaca_tokenized)"
   ]
  },
  {
   "cell_type": "code",
   "execution_count": 31,
   "metadata": {},
   "outputs": [
    {
     "data": {
      "text/plain": [
       "'Below is an instruction that describes a task, paired with an input that provides further context. Write a response that appropriately completes the request. ### Instruction: Cho trước một danh sách từ vựng, hãy tạo một từ điển trong Python lưu trữ từ và định nghĩa tương ứng. ### Input: từ vựng: [\"quả táo\", \"con chó\", \"cuốn sách\"] ### Response:</s>'"
      ]
     },
     "execution_count": 31,
     "metadata": {},
     "output_type": "execute_result"
    }
   ],
   "source": [
    "tokenizer.decode(vi_alpaca_tokenized[19]['input_ids'])"
   ]
  },
  {
   "cell_type": "code",
   "execution_count": 32,
   "metadata": {},
   "outputs": [
    {
     "data": {
      "text/plain": [
       "'Để tạo một từ điển trong Python lưu trữ từ và định nghĩa tương ứng, bạn có thể sử dụng kiểu dữ liệu từ điển. Dưới đây là một ví dụ về cách tạo từ điển từ danh sách từ vựng đã cho: ```python vocabulary = { \"quả táo\": \"một loại trái cây có hình tròn và màu đỏ, vàng hoặc xanh lá\", \"con chó\": \"loài động vật thuộc họ chó, là một loài thú cưng phổ biến\", \"cuốn sách\": \"một tập hợp các trang giấy có nội dung được viết hoặc in\", } ``` Trong ví dụ này, từ điển `vocabulary` lưu trữ từ vựng và định nghĩa tương ứng của chúng. Mỗi từ vựng được đặt làm khóa (key) trong từ điển và định nghĩa của từ vựng đó được đặt làm giá trị (value) tương ứng trong từ điển. Bạn có thể truy cập định nghĩa của một từ trong từ điển bằng cách sử dụng khóa tương ứng: ```python word = \"quả táo\" definition = vocabulary[word] print(f\"Định nghĩa của từ \\'{word}\\': {definition}\") ``` Kết quả sẽ là: ``` Định nghĩa của từ \\'quả táo\\': một loại trái cây có hình tròn và màu đỏ, vàng hoặc xanh lá ``` Bạn có thể bổ sung thêm từ vựng và định nghĩa vào từ điển này theo nhu cầu của mình.</s>'"
      ]
     },
     "execution_count": 32,
     "metadata": {},
     "output_type": "execute_result"
    }
   ],
   "source": [
    "tokenizer.decode(vi_alpaca_tokenized[19]['labels'])"
   ]
  },
  {
   "cell_type": "code",
   "execution_count": 35,
   "metadata": {},
   "outputs": [
    {
     "name": "stdout",
     "output_type": "stream",
     "text": [
      "> Pushing to hub: vi-mT5-instruction_tuning-bkai\n"
     ]
    },
    {
     "name": "stderr",
     "output_type": "stream",
     "text": [
      "Creating parquet from Arrow format: 100%|██████████| 50/50 [00:00<00:00, 111.66ba/s]\n",
      "Uploading the dataset shards: 100%|██████████| 1/1 [00:06<00:00,  6.61s/it]\n"
     ]
    },
    {
     "data": {
      "text/plain": [
       "CommitInfo(commit_url='https://huggingface.co/datasets/nqv2291/vi-mT5-instruction_tuning-bkai/commit/24600b380856fc6a50cc25102e9c01a7945e1efe', commit_message='Upload dataset', commit_description='', oid='24600b380856fc6a50cc25102e9c01a7945e1efe', pr_url=None, pr_revision=None, pr_num=None)"
      ]
     },
     "execution_count": 35,
     "metadata": {},
     "output_type": "execute_result"
    }
   ],
   "source": [
    "print(f\"> Pushing to hub: {output_repo}\")\n",
    "vi_alpaca_tokenized.push_to_hub(output_repo)"
   ]
  }
 ],
 "metadata": {
  "kernelspec": {
   "display_name": "vietnq-ner",
   "language": "python",
   "name": "python3"
  },
  "language_info": {
   "codemirror_mode": {
    "name": "ipython",
    "version": 3
   },
   "file_extension": ".py",
   "mimetype": "text/x-python",
   "name": "python",
   "nbconvert_exporter": "python",
   "pygments_lexer": "ipython3",
   "version": "3.12.3"
  }
 },
 "nbformat": 4,
 "nbformat_minor": 2
}
