{
 "cells": [
  {
   "cell_type": "code",
   "execution_count": 1,
   "metadata": {},
   "outputs": [
    {
     "name": "stderr",
     "output_type": "stream",
     "text": [
      "/home/nlp/anaconda3/envs/vietnq-ner/lib/python3.12/site-packages/tqdm/auto.py:21: TqdmWarning: IProgress not found. Please update jupyter and ipywidgets. See https://ipywidgets.readthedocs.io/en/stable/user_install.html\n",
      "  from .autonotebook import tqdm as notebook_tqdm\n"
     ]
    }
   ],
   "source": [
    "from datasets import load_dataset, Dataset, DatasetDict\n",
    "from transformers import MT5TokenizerFast\n",
    "import json\n",
    "import pandas as pd\n",
    "from data_utils.utils import *\n",
    "import matplotlib.pyplot as plt\n",
    "from omegaconf import OmegaConf\n",
    "from torch.utils.data import DataLoader"
   ]
  },
  {
   "cell_type": "code",
   "execution_count": 2,
   "metadata": {},
   "outputs": [
    {
     "name": "stderr",
     "output_type": "stream",
     "text": [
      "You are using the default legacy behaviour of the <class 'transformers.models.t5.tokenization_t5.T5Tokenizer'>. This is expected, and simply means that the `legacy` (previous) behavior will be used so nothing changes for you. If you want to use the new behaviour, set `legacy=False`. This should only be set if you understand what it means, and thoroughly read the reason why this was added as explained in https://github.com/huggingface/transformers/pull/24565\n",
      "/home/nlp/anaconda3/envs/vietnq-ner/lib/python3.12/site-packages/transformers/convert_slow_tokenizer.py:560: UserWarning: The sentencepiece tokenizer that you are converting to a fast tokenizer uses the byte fallback option which is not implemented in the fast tokenizers. In practice this means that the fast version of the tokenizer can produce unknown tokens whereas the sentencepiece version would have converted these unknown tokens into a sequence of byte tokens matching the original piece of text.\n",
      "  warnings.warn(\n"
     ]
    }
   ],
   "source": [
    "MAX_LENGTH = 1024\n",
    "model_name = 'google/mt5-base'\n",
    "tokenizer = MT5TokenizerFast.from_pretrained(model_name)"
   ]
  },
  {
   "cell_type": "markdown",
   "metadata": {},
   "source": [
    "## Dataset: ViSquad v1.1"
   ]
  },
  {
   "cell_type": "code",
   "execution_count": 3,
   "metadata": {},
   "outputs": [
    {
     "data": {
      "text/plain": [
       "(138, 18, 18)"
      ]
     },
     "execution_count": 3,
     "metadata": {},
     "output_type": "execute_result"
    }
   ],
   "source": [
    "visquad_ds_json = {}\n",
    "\n",
    "with open('datasets/ViSquadv1.1/train_ViQuAD.json') as f:\n",
    "    visquad_ds_json['train'] = json.load(f)\n",
    "with open('datasets/ViSquadv1.1/dev_ViQuAD.json') as f:\n",
    "    visquad_ds_json['dev'] = json.load(f)\n",
    "with open('datasets/ViSquadv1.1/test_ViQuAD.json') as f:\n",
    "    visquad_ds_json['test'] = json.load(f)\n",
    "\n",
    "len(visquad_ds_json['train']['data']), len(visquad_ds_json['dev']['data']), len(visquad_ds_json['test']['data'])"
   ]
  },
  {
   "cell_type": "code",
   "execution_count": 4,
   "metadata": {},
   "outputs": [],
   "source": [
    "ds_dict = {\n",
    "    'instruction': [],\n",
    "    'input': [],\n",
    "    'answer': [], \n",
    "    'split': []\n",
    "}\n",
    "\n",
    "for split_name, split_ds in visquad_ds_json.items():\n",
    "    for data_topic in split_ds['data']:\n",
    "        for data_para in data_topic['paragraphs']:\n",
    "            text = data_para['context']\n",
    "            for qa in data_para['qas']:\n",
    "                question = qa['question']\n",
    "                answer = qa['answers'][0]['text']\n",
    "                ds_dict['input'].append(text)\n",
    "                ds_dict['instruction'].append(question)\n",
    "                ds_dict['answer'].append(answer)\n",
    "                ds_dict['split'].append(split_name)"
   ]
  },
  {
   "cell_type": "code",
   "execution_count": 5,
   "metadata": {},
   "outputs": [
    {
     "data": {
      "text/html": [
       "<div>\n",
       "<style scoped>\n",
       "    .dataframe tbody tr th:only-of-type {\n",
       "        vertical-align: middle;\n",
       "    }\n",
       "\n",
       "    .dataframe tbody tr th {\n",
       "        vertical-align: top;\n",
       "    }\n",
       "\n",
       "    .dataframe thead th {\n",
       "        text-align: right;\n",
       "    }\n",
       "</style>\n",
       "<table border=\"1\" class=\"dataframe\">\n",
       "  <thead>\n",
       "    <tr style=\"text-align: right;\">\n",
       "      <th></th>\n",
       "      <th>instruction</th>\n",
       "      <th>input</th>\n",
       "      <th>answer</th>\n",
       "      <th>split</th>\n",
       "    </tr>\n",
       "  </thead>\n",
       "  <tbody>\n",
       "    <tr>\n",
       "      <th>0</th>\n",
       "      <td>Tên gọi nào được Phạm Văn Đồng sử dụng khi làm...</td>\n",
       "      <td>Phạm Văn Đồng (1 tháng 3 năm 1906 – 29 tháng 4...</td>\n",
       "      <td>Lâm Bá Kiệt</td>\n",
       "      <td>train</td>\n",
       "    </tr>\n",
       "    <tr>\n",
       "      <th>1</th>\n",
       "      <td>Phạm Văn Đồng giữ chức vụ gì trong bộ máy Nhà ...</td>\n",
       "      <td>Phạm Văn Đồng (1 tháng 3 năm 1906 – 29 tháng 4...</td>\n",
       "      <td>Thủ tướng</td>\n",
       "      <td>train</td>\n",
       "    </tr>\n",
       "    <tr>\n",
       "      <th>2</th>\n",
       "      <td>Giai đoạn năm 1955-1976, Phạm Văn Đồng nắm giữ...</td>\n",
       "      <td>Phạm Văn Đồng (1 tháng 3 năm 1906 – 29 tháng 4...</td>\n",
       "      <td>Thủ tướng Chính phủ Việt Nam Dân chủ Cộng hòa</td>\n",
       "      <td>train</td>\n",
       "    </tr>\n",
       "    <tr>\n",
       "      <th>3</th>\n",
       "      <td>Sự kiện quan trọng nào đã diễn ra vào ngày 20/...</td>\n",
       "      <td>Năm 1954, ông được giao nhiệm vụ Trưởng phái đ...</td>\n",
       "      <td>bản Hiệp định đình chỉ chiến sự ở Việt Nam, Ca...</td>\n",
       "      <td>train</td>\n",
       "    </tr>\n",
       "    <tr>\n",
       "      <th>4</th>\n",
       "      <td>Chức vụ mà Phạm Văn Đồng đảm nhiệm tại Hội ngh...</td>\n",
       "      <td>Năm 1954, ông được giao nhiệm vụ Trưởng phái đ...</td>\n",
       "      <td>Trưởng phái đoàn Chính phủ</td>\n",
       "      <td>train</td>\n",
       "    </tr>\n",
       "    <tr>\n",
       "      <th>...</th>\n",
       "      <td>...</td>\n",
       "      <td>...</td>\n",
       "      <td>...</td>\n",
       "      <td>...</td>\n",
       "    </tr>\n",
       "    <tr>\n",
       "      <th>23069</th>\n",
       "      <td>Nếu những yêu cầu mà bộ nhớ Squid không thể th...</td>\n",
       "      <td>Các yêu cầu trang được gửi cho tầng máy Squid ...</td>\n",
       "      <td>được gửi qua các máy chủ cân bằng tải (load-ba...</td>\n",
       "      <td>test</td>\n",
       "    </tr>\n",
       "    <tr>\n",
       "      <th>23070</th>\n",
       "      <td>Cần làm gì để tăng tốc độ trả lời cho người ch...</td>\n",
       "      <td>Các yêu cầu trang được gửi cho tầng máy Squid ...</td>\n",
       "      <td>các trang được kết xuất cho người chưa đăng nh...</td>\n",
       "      <td>test</td>\n",
       "    </tr>\n",
       "    <tr>\n",
       "      <th>23071</th>\n",
       "      <td>Các máy chủ cân bằng tải gửi yêu cầu cho máy c...</td>\n",
       "      <td>Các yêu cầu trang được gửi cho tầng máy Squid ...</td>\n",
       "      <td>kết xuất trang dùng dữ liệu từ CSDL</td>\n",
       "      <td>test</td>\n",
       "    </tr>\n",
       "    <tr>\n",
       "      <th>23072</th>\n",
       "      <td>Để giải quyết các yêu cầu thì máy chủ web có n...</td>\n",
       "      <td>Các yêu cầu trang được gửi cho tầng máy Squid ...</td>\n",
       "      <td>gửi lại những trang được yêu cầu và kết xuất t...</td>\n",
       "      <td>test</td>\n",
       "    </tr>\n",
       "    <tr>\n",
       "      <th>23073</th>\n",
       "      <td>Các nhóm máy chủ lớn giải quyết những nhu cầu ...</td>\n",
       "      <td>Các yêu cầu trang được gửi cho tầng máy Squid ...</td>\n",
       "      <td>Hà Lan và Hàn Quốc</td>\n",
       "      <td>test</td>\n",
       "    </tr>\n",
       "  </tbody>\n",
       "</table>\n",
       "<p>23074 rows × 4 columns</p>\n",
       "</div>"
      ],
      "text/plain": [
       "                                             instruction  \\\n",
       "0      Tên gọi nào được Phạm Văn Đồng sử dụng khi làm...   \n",
       "1      Phạm Văn Đồng giữ chức vụ gì trong bộ máy Nhà ...   \n",
       "2      Giai đoạn năm 1955-1976, Phạm Văn Đồng nắm giữ...   \n",
       "3      Sự kiện quan trọng nào đã diễn ra vào ngày 20/...   \n",
       "4      Chức vụ mà Phạm Văn Đồng đảm nhiệm tại Hội ngh...   \n",
       "...                                                  ...   \n",
       "23069  Nếu những yêu cầu mà bộ nhớ Squid không thể th...   \n",
       "23070  Cần làm gì để tăng tốc độ trả lời cho người ch...   \n",
       "23071  Các máy chủ cân bằng tải gửi yêu cầu cho máy c...   \n",
       "23072  Để giải quyết các yêu cầu thì máy chủ web có n...   \n",
       "23073  Các nhóm máy chủ lớn giải quyết những nhu cầu ...   \n",
       "\n",
       "                                                   input  \\\n",
       "0      Phạm Văn Đồng (1 tháng 3 năm 1906 – 29 tháng 4...   \n",
       "1      Phạm Văn Đồng (1 tháng 3 năm 1906 – 29 tháng 4...   \n",
       "2      Phạm Văn Đồng (1 tháng 3 năm 1906 – 29 tháng 4...   \n",
       "3      Năm 1954, ông được giao nhiệm vụ Trưởng phái đ...   \n",
       "4      Năm 1954, ông được giao nhiệm vụ Trưởng phái đ...   \n",
       "...                                                  ...   \n",
       "23069  Các yêu cầu trang được gửi cho tầng máy Squid ...   \n",
       "23070  Các yêu cầu trang được gửi cho tầng máy Squid ...   \n",
       "23071  Các yêu cầu trang được gửi cho tầng máy Squid ...   \n",
       "23072  Các yêu cầu trang được gửi cho tầng máy Squid ...   \n",
       "23073  Các yêu cầu trang được gửi cho tầng máy Squid ...   \n",
       "\n",
       "                                                  answer  split  \n",
       "0                                            Lâm Bá Kiệt  train  \n",
       "1                                              Thủ tướng  train  \n",
       "2          Thủ tướng Chính phủ Việt Nam Dân chủ Cộng hòa  train  \n",
       "3      bản Hiệp định đình chỉ chiến sự ở Việt Nam, Ca...  train  \n",
       "4                             Trưởng phái đoàn Chính phủ  train  \n",
       "...                                                  ...    ...  \n",
       "23069  được gửi qua các máy chủ cân bằng tải (load-ba...   test  \n",
       "23070  các trang được kết xuất cho người chưa đăng nh...   test  \n",
       "23071                kết xuất trang dùng dữ liệu từ CSDL   test  \n",
       "23072  gửi lại những trang được yêu cầu và kết xuất t...   test  \n",
       "23073                                 Hà Lan và Hàn Quốc   test  \n",
       "\n",
       "[23074 rows x 4 columns]"
      ]
     },
     "execution_count": 5,
     "metadata": {},
     "output_type": "execute_result"
    }
   ],
   "source": [
    "df = pd.DataFrame(ds_dict)\n",
    "df"
   ]
  },
  {
   "cell_type": "code",
   "execution_count": 6,
   "metadata": {},
   "outputs": [],
   "source": [
    "# create new column in df that measure number of tokens in input and instruction and answer\n",
    "df['input_len'] = df['input'].apply(lambda x: len(tokenizer(x)['input_ids']))\n",
    "df['instruction_len'] = df['instruction'].apply(lambda x: len(tokenizer(x)['input_ids']))\n",
    "df['answer_len'] = df['answer'].apply(lambda x: len(tokenizer(x)['input_ids']))"
   ]
  },
  {
   "cell_type": "code",
   "execution_count": 7,
   "metadata": {},
   "outputs": [
    {
     "data": {
      "text/html": [
       "<div>\n",
       "<style scoped>\n",
       "    .dataframe tbody tr th:only-of-type {\n",
       "        vertical-align: middle;\n",
       "    }\n",
       "\n",
       "    .dataframe tbody tr th {\n",
       "        vertical-align: top;\n",
       "    }\n",
       "\n",
       "    .dataframe thead th {\n",
       "        text-align: right;\n",
       "    }\n",
       "</style>\n",
       "<table border=\"1\" class=\"dataframe\">\n",
       "  <thead>\n",
       "    <tr style=\"text-align: right;\">\n",
       "      <th></th>\n",
       "      <th>input_len</th>\n",
       "      <th>instruction_len</th>\n",
       "      <th>answer_len</th>\n",
       "    </tr>\n",
       "  </thead>\n",
       "  <tbody>\n",
       "    <tr>\n",
       "      <th>count</th>\n",
       "      <td>23074.000000</td>\n",
       "      <td>23074.000000</td>\n",
       "      <td>23074.000000</td>\n",
       "    </tr>\n",
       "    <tr>\n",
       "      <th>mean</th>\n",
       "      <td>387.504681</td>\n",
       "      <td>31.839430</td>\n",
       "      <td>22.476554</td>\n",
       "    </tr>\n",
       "    <tr>\n",
       "      <th>std</th>\n",
       "      <td>152.812110</td>\n",
       "      <td>10.366111</td>\n",
       "      <td>23.381766</td>\n",
       "    </tr>\n",
       "    <tr>\n",
       "      <th>min</th>\n",
       "      <td>181.000000</td>\n",
       "      <td>4.000000</td>\n",
       "      <td>2.000000</td>\n",
       "    </tr>\n",
       "    <tr>\n",
       "      <th>25%</th>\n",
       "      <td>285.000000</td>\n",
       "      <td>24.000000</td>\n",
       "      <td>6.000000</td>\n",
       "    </tr>\n",
       "    <tr>\n",
       "      <th>50%</th>\n",
       "      <td>347.000000</td>\n",
       "      <td>31.000000</td>\n",
       "      <td>14.000000</td>\n",
       "    </tr>\n",
       "    <tr>\n",
       "      <th>75%</th>\n",
       "      <td>444.000000</td>\n",
       "      <td>38.000000</td>\n",
       "      <td>30.750000</td>\n",
       "    </tr>\n",
       "    <tr>\n",
       "      <th>max</th>\n",
       "      <td>3318.000000</td>\n",
       "      <td>108.000000</td>\n",
       "      <td>360.000000</td>\n",
       "    </tr>\n",
       "  </tbody>\n",
       "</table>\n",
       "</div>"
      ],
      "text/plain": [
       "          input_len  instruction_len    answer_len\n",
       "count  23074.000000     23074.000000  23074.000000\n",
       "mean     387.504681        31.839430     22.476554\n",
       "std      152.812110        10.366111     23.381766\n",
       "min      181.000000         4.000000      2.000000\n",
       "25%      285.000000        24.000000      6.000000\n",
       "50%      347.000000        31.000000     14.000000\n",
       "75%      444.000000        38.000000     30.750000\n",
       "max     3318.000000       108.000000    360.000000"
      ]
     },
     "execution_count": 7,
     "metadata": {},
     "output_type": "execute_result"
    }
   ],
   "source": [
    "df.describe()"
   ]
  },
  {
   "cell_type": "code",
   "execution_count": 8,
   "metadata": {},
   "outputs": [
    {
     "data": {
      "text/html": [
       "<div>\n",
       "<style scoped>\n",
       "    .dataframe tbody tr th:only-of-type {\n",
       "        vertical-align: middle;\n",
       "    }\n",
       "\n",
       "    .dataframe tbody tr th {\n",
       "        vertical-align: top;\n",
       "    }\n",
       "\n",
       "    .dataframe thead th {\n",
       "        text-align: right;\n",
       "    }\n",
       "</style>\n",
       "<table border=\"1\" class=\"dataframe\">\n",
       "  <thead>\n",
       "    <tr style=\"text-align: right;\">\n",
       "      <th></th>\n",
       "      <th>instruction</th>\n",
       "      <th>input</th>\n",
       "      <th>answer</th>\n",
       "      <th>split</th>\n",
       "      <th>input_len</th>\n",
       "      <th>instruction_len</th>\n",
       "      <th>answer_len</th>\n",
       "    </tr>\n",
       "  </thead>\n",
       "  <tbody>\n",
       "    <tr>\n",
       "      <th>0</th>\n",
       "      <td>Tên gọi nào được Phạm Văn Đồng sử dụng khi làm...</td>\n",
       "      <td>Phạm Văn Đồng (1 tháng 3 năm 1906 – 29 tháng 4...</td>\n",
       "      <td>Lâm Bá Kiệt</td>\n",
       "      <td>train</td>\n",
       "      <td>295</td>\n",
       "      <td>53</td>\n",
       "      <td>6</td>\n",
       "    </tr>\n",
       "    <tr>\n",
       "      <th>1</th>\n",
       "      <td>Phạm Văn Đồng giữ chức vụ gì trong bộ máy Nhà ...</td>\n",
       "      <td>Phạm Văn Đồng (1 tháng 3 năm 1906 – 29 tháng 4...</td>\n",
       "      <td>Thủ tướng</td>\n",
       "      <td>train</td>\n",
       "      <td>295</td>\n",
       "      <td>43</td>\n",
       "      <td>6</td>\n",
       "    </tr>\n",
       "    <tr>\n",
       "      <th>2</th>\n",
       "      <td>Giai đoạn năm 1955-1976, Phạm Văn Đồng nắm giữ...</td>\n",
       "      <td>Phạm Văn Đồng (1 tháng 3 năm 1906 – 29 tháng 4...</td>\n",
       "      <td>Thủ tướng Chính phủ Việt Nam Dân chủ Cộng hòa</td>\n",
       "      <td>train</td>\n",
       "      <td>295</td>\n",
       "      <td>33</td>\n",
       "      <td>21</td>\n",
       "    </tr>\n",
       "    <tr>\n",
       "      <th>3</th>\n",
       "      <td>Sự kiện quan trọng nào đã diễn ra vào ngày 20/...</td>\n",
       "      <td>Năm 1954, ông được giao nhiệm vụ Trưởng phái đ...</td>\n",
       "      <td>bản Hiệp định đình chỉ chiến sự ở Việt Nam, Ca...</td>\n",
       "      <td>train</td>\n",
       "      <td>235</td>\n",
       "      <td>24</td>\n",
       "      <td>70</td>\n",
       "    </tr>\n",
       "    <tr>\n",
       "      <th>4</th>\n",
       "      <td>Chức vụ mà Phạm Văn Đồng đảm nhiệm tại Hội ngh...</td>\n",
       "      <td>Năm 1954, ông được giao nhiệm vụ Trưởng phái đ...</td>\n",
       "      <td>Trưởng phái đoàn Chính phủ</td>\n",
       "      <td>train</td>\n",
       "      <td>235</td>\n",
       "      <td>35</td>\n",
       "      <td>11</td>\n",
       "    </tr>\n",
       "    <tr>\n",
       "      <th>...</th>\n",
       "      <td>...</td>\n",
       "      <td>...</td>\n",
       "      <td>...</td>\n",
       "      <td>...</td>\n",
       "      <td>...</td>\n",
       "      <td>...</td>\n",
       "      <td>...</td>\n",
       "    </tr>\n",
       "    <tr>\n",
       "      <th>23069</th>\n",
       "      <td>Nếu những yêu cầu mà bộ nhớ Squid không thể th...</td>\n",
       "      <td>Các yêu cầu trang được gửi cho tầng máy Squid ...</td>\n",
       "      <td>được gửi qua các máy chủ cân bằng tải (load-ba...</td>\n",
       "      <td>test</td>\n",
       "      <td>333</td>\n",
       "      <td>44</td>\n",
       "      <td>38</td>\n",
       "    </tr>\n",
       "    <tr>\n",
       "      <th>23070</th>\n",
       "      <td>Cần làm gì để tăng tốc độ trả lời cho người ch...</td>\n",
       "      <td>Các yêu cầu trang được gửi cho tầng máy Squid ...</td>\n",
       "      <td>các trang được kết xuất cho người chưa đăng nh...</td>\n",
       "      <td>test</td>\n",
       "      <td>333</td>\n",
       "      <td>34</td>\n",
       "      <td>40</td>\n",
       "    </tr>\n",
       "    <tr>\n",
       "      <th>23071</th>\n",
       "      <td>Các máy chủ cân bằng tải gửi yêu cầu cho máy c...</td>\n",
       "      <td>Các yêu cầu trang được gửi cho tầng máy Squid ...</td>\n",
       "      <td>kết xuất trang dùng dữ liệu từ CSDL</td>\n",
       "      <td>test</td>\n",
       "      <td>333</td>\n",
       "      <td>39</td>\n",
       "      <td>18</td>\n",
       "    </tr>\n",
       "    <tr>\n",
       "      <th>23072</th>\n",
       "      <td>Để giải quyết các yêu cầu thì máy chủ web có n...</td>\n",
       "      <td>Các yêu cầu trang được gửi cho tầng máy Squid ...</td>\n",
       "      <td>gửi lại những trang được yêu cầu và kết xuất t...</td>\n",
       "      <td>test</td>\n",
       "      <td>333</td>\n",
       "      <td>31</td>\n",
       "      <td>39</td>\n",
       "    </tr>\n",
       "    <tr>\n",
       "      <th>23073</th>\n",
       "      <td>Các nhóm máy chủ lớn giải quyết những nhu cầu ...</td>\n",
       "      <td>Các yêu cầu trang được gửi cho tầng máy Squid ...</td>\n",
       "      <td>Hà Lan và Hàn Quốc</td>\n",
       "      <td>test</td>\n",
       "      <td>333</td>\n",
       "      <td>32</td>\n",
       "      <td>10</td>\n",
       "    </tr>\n",
       "  </tbody>\n",
       "</table>\n",
       "<p>19608 rows × 7 columns</p>\n",
       "</div>"
      ],
      "text/plain": [
       "                                             instruction  \\\n",
       "0      Tên gọi nào được Phạm Văn Đồng sử dụng khi làm...   \n",
       "1      Phạm Văn Đồng giữ chức vụ gì trong bộ máy Nhà ...   \n",
       "2      Giai đoạn năm 1955-1976, Phạm Văn Đồng nắm giữ...   \n",
       "3      Sự kiện quan trọng nào đã diễn ra vào ngày 20/...   \n",
       "4      Chức vụ mà Phạm Văn Đồng đảm nhiệm tại Hội ngh...   \n",
       "...                                                  ...   \n",
       "23069  Nếu những yêu cầu mà bộ nhớ Squid không thể th...   \n",
       "23070  Cần làm gì để tăng tốc độ trả lời cho người ch...   \n",
       "23071  Các máy chủ cân bằng tải gửi yêu cầu cho máy c...   \n",
       "23072  Để giải quyết các yêu cầu thì máy chủ web có n...   \n",
       "23073  Các nhóm máy chủ lớn giải quyết những nhu cầu ...   \n",
       "\n",
       "                                                   input  \\\n",
       "0      Phạm Văn Đồng (1 tháng 3 năm 1906 – 29 tháng 4...   \n",
       "1      Phạm Văn Đồng (1 tháng 3 năm 1906 – 29 tháng 4...   \n",
       "2      Phạm Văn Đồng (1 tháng 3 năm 1906 – 29 tháng 4...   \n",
       "3      Năm 1954, ông được giao nhiệm vụ Trưởng phái đ...   \n",
       "4      Năm 1954, ông được giao nhiệm vụ Trưởng phái đ...   \n",
       "...                                                  ...   \n",
       "23069  Các yêu cầu trang được gửi cho tầng máy Squid ...   \n",
       "23070  Các yêu cầu trang được gửi cho tầng máy Squid ...   \n",
       "23071  Các yêu cầu trang được gửi cho tầng máy Squid ...   \n",
       "23072  Các yêu cầu trang được gửi cho tầng máy Squid ...   \n",
       "23073  Các yêu cầu trang được gửi cho tầng máy Squid ...   \n",
       "\n",
       "                                                  answer  split  input_len  \\\n",
       "0                                            Lâm Bá Kiệt  train        295   \n",
       "1                                              Thủ tướng  train        295   \n",
       "2          Thủ tướng Chính phủ Việt Nam Dân chủ Cộng hòa  train        295   \n",
       "3      bản Hiệp định đình chỉ chiến sự ở Việt Nam, Ca...  train        235   \n",
       "4                             Trưởng phái đoàn Chính phủ  train        235   \n",
       "...                                                  ...    ...        ...   \n",
       "23069  được gửi qua các máy chủ cân bằng tải (load-ba...   test        333   \n",
       "23070  các trang được kết xuất cho người chưa đăng nh...   test        333   \n",
       "23071                kết xuất trang dùng dữ liệu từ CSDL   test        333   \n",
       "23072  gửi lại những trang được yêu cầu và kết xuất t...   test        333   \n",
       "23073                                 Hà Lan và Hàn Quốc   test        333   \n",
       "\n",
       "       instruction_len  answer_len  \n",
       "0                   53           6  \n",
       "1                   43           6  \n",
       "2                   33          21  \n",
       "3                   24          70  \n",
       "4                   35          11  \n",
       "...                ...         ...  \n",
       "23069               44          38  \n",
       "23070               34          40  \n",
       "23071               39          18  \n",
       "23072               31          39  \n",
       "23073               32          10  \n",
       "\n",
       "[19608 rows x 7 columns]"
      ]
     },
     "execution_count": 8,
     "metadata": {},
     "output_type": "execute_result"
    }
   ],
   "source": [
    "# only get those has context length less than 512 tokens\n",
    "df = df[df['input_len'] < 512]\n",
    "df"
   ]
  },
  {
   "cell_type": "code",
   "execution_count": 9,
   "metadata": {},
   "outputs": [
    {
     "name": "stderr",
     "output_type": "stream",
     "text": [
      "/tmp/ipykernel_2706835/1894269207.py:1: SettingWithCopyWarning: \n",
      "A value is trying to be set on a copy of a slice from a DataFrame.\n",
      "Try using .loc[row_indexer,col_indexer] = value instead\n",
      "\n",
      "See the caveats in the documentation: https://pandas.pydata.org/pandas-docs/stable/user_guide/indexing.html#returning-a-view-versus-a-copy\n",
      "  df.loc[:, 'prompt'] = df.apply(prompt_input, axis=1)\n"
     ]
    }
   ],
   "source": [
    "df.loc[:, 'prompt'] = df.apply(prompt_input, axis=1)"
   ]
  },
  {
   "cell_type": "code",
   "execution_count": 10,
   "metadata": {},
   "outputs": [
    {
     "name": "stderr",
     "output_type": "stream",
     "text": [
      "/tmp/ipykernel_2706835/442272497.py:1: SettingWithCopyWarning: \n",
      "A value is trying to be set on a copy of a slice from a DataFrame.\n",
      "Try using .loc[row_indexer,col_indexer] = value instead\n",
      "\n",
      "See the caveats in the documentation: https://pandas.pydata.org/pandas-docs/stable/user_guide/indexing.html#returning-a-view-versus-a-copy\n",
      "  df['prompt_len'] = df['prompt'].apply(lambda x: len(tokenizer(x)['input_ids']))\n"
     ]
    },
    {
     "data": {
      "text/html": [
       "<div>\n",
       "<style scoped>\n",
       "    .dataframe tbody tr th:only-of-type {\n",
       "        vertical-align: middle;\n",
       "    }\n",
       "\n",
       "    .dataframe tbody tr th {\n",
       "        vertical-align: top;\n",
       "    }\n",
       "\n",
       "    .dataframe thead th {\n",
       "        text-align: right;\n",
       "    }\n",
       "</style>\n",
       "<table border=\"1\" class=\"dataframe\">\n",
       "  <thead>\n",
       "    <tr style=\"text-align: right;\">\n",
       "      <th></th>\n",
       "      <th>input_len</th>\n",
       "      <th>instruction_len</th>\n",
       "      <th>answer_len</th>\n",
       "      <th>prompt_len</th>\n",
       "    </tr>\n",
       "  </thead>\n",
       "  <tbody>\n",
       "    <tr>\n",
       "      <th>count</th>\n",
       "      <td>19608.000000</td>\n",
       "      <td>19608.000000</td>\n",
       "      <td>19608.000000</td>\n",
       "      <td>19608.000000</td>\n",
       "    </tr>\n",
       "    <tr>\n",
       "      <th>mean</th>\n",
       "      <td>339.357711</td>\n",
       "      <td>31.648664</td>\n",
       "      <td>21.623164</td>\n",
       "      <td>423.006375</td>\n",
       "    </tr>\n",
       "    <tr>\n",
       "      <th>std</th>\n",
       "      <td>75.354180</td>\n",
       "      <td>10.330319</td>\n",
       "      <td>22.233965</td>\n",
       "      <td>76.576828</td>\n",
       "    </tr>\n",
       "    <tr>\n",
       "      <th>min</th>\n",
       "      <td>181.000000</td>\n",
       "      <td>5.000000</td>\n",
       "      <td>2.000000</td>\n",
       "      <td>246.000000</td>\n",
       "    </tr>\n",
       "    <tr>\n",
       "      <th>25%</th>\n",
       "      <td>277.000000</td>\n",
       "      <td>24.000000</td>\n",
       "      <td>6.000000</td>\n",
       "      <td>360.000000</td>\n",
       "    </tr>\n",
       "    <tr>\n",
       "      <th>50%</th>\n",
       "      <td>327.000000</td>\n",
       "      <td>30.000000</td>\n",
       "      <td>13.000000</td>\n",
       "      <td>411.000000</td>\n",
       "    </tr>\n",
       "    <tr>\n",
       "      <th>75%</th>\n",
       "      <td>397.000000</td>\n",
       "      <td>38.000000</td>\n",
       "      <td>30.000000</td>\n",
       "      <td>481.000000</td>\n",
       "    </tr>\n",
       "    <tr>\n",
       "      <th>max</th>\n",
       "      <td>511.000000</td>\n",
       "      <td>108.000000</td>\n",
       "      <td>360.000000</td>\n",
       "      <td>633.000000</td>\n",
       "    </tr>\n",
       "  </tbody>\n",
       "</table>\n",
       "</div>"
      ],
      "text/plain": [
       "          input_len  instruction_len    answer_len    prompt_len\n",
       "count  19608.000000     19608.000000  19608.000000  19608.000000\n",
       "mean     339.357711        31.648664     21.623164    423.006375\n",
       "std       75.354180        10.330319     22.233965     76.576828\n",
       "min      181.000000         5.000000      2.000000    246.000000\n",
       "25%      277.000000        24.000000      6.000000    360.000000\n",
       "50%      327.000000        30.000000     13.000000    411.000000\n",
       "75%      397.000000        38.000000     30.000000    481.000000\n",
       "max      511.000000       108.000000    360.000000    633.000000"
      ]
     },
     "execution_count": 10,
     "metadata": {},
     "output_type": "execute_result"
    }
   ],
   "source": [
    "df['prompt_len'] = df['prompt'].apply(lambda x: len(tokenizer(x)['input_ids']))\n",
    "df.describe()"
   ]
  },
  {
   "cell_type": "code",
   "execution_count": 11,
   "metadata": {},
   "outputs": [
    {
     "data": {
      "text/plain": [
       "Dataset({\n",
       "    features: ['prompt', 'answer'],\n",
       "    num_rows: 19608\n",
       "})"
      ]
     },
     "execution_count": 11,
     "metadata": {},
     "output_type": "execute_result"
    }
   ],
   "source": [
    "dataset_instruct = Dataset.from_pandas(df[['prompt', 'answer']], preserve_index=False)\n",
    "dataset_instruct"
   ]
  },
  {
   "cell_type": "code",
   "execution_count": 12,
   "metadata": {},
   "outputs": [
    {
     "name": "stdout",
     "output_type": "stream",
     "text": [
      "> Tokenizing dataset...\n"
     ]
    },
    {
     "name": "stderr",
     "output_type": "stream",
     "text": [
      "Map: 100%|██████████| 19608/19608 [00:03<00:00, 5446.67 examples/s]"
     ]
    },
    {
     "name": "stdout",
     "output_type": "stream",
     "text": [
      ">> Dataset is ready:\n",
      "Dataset({\n",
      "    features: ['input_ids', 'attention_mask', 'labels'],\n",
      "    num_rows: 19608\n",
      "})\n"
     ]
    },
    {
     "name": "stderr",
     "output_type": "stream",
     "text": [
      "\n"
     ]
    }
   ],
   "source": [
    "def tokenize(samples, tokenizer, input_field, label_field, max_length=MAX_LENGTH):\n",
    "    # Tokenize\n",
    "    tokenized_input = tokenizer(samples[input_field], max_length=max_length, padding=False, truncation=True, add_special_tokens=True)\n",
    "    tokenized_label = tokenizer(samples[label_field], max_length=max_length, padding=False, truncation=True, add_special_tokens=True)\n",
    "\n",
    "    return {\n",
    "        'input_ids': tokenized_input['input_ids'],\n",
    "        'attention_mask': tokenized_input['attention_mask'],\n",
    "        'labels': tokenized_label['input_ids']\n",
    "    }\n",
    "\n",
    "print(\"> Tokenizing dataset...\")\n",
    "dataset_tokenized = dataset_instruct.map(\n",
    "    lambda x: tokenize(x, tokenizer, \"prompt\", \"answer\"),\n",
    "    batched=True,\n",
    "    remove_columns=[\"prompt\", \"answer\"],\n",
    ")\n",
    "\n",
    "print(\">> Dataset is ready:\")\n",
    "print(dataset_tokenized)"
   ]
  },
  {
   "cell_type": "code",
   "execution_count": 14,
   "metadata": {},
   "outputs": [
    {
     "name": "stdout",
     "output_type": "stream",
     "text": [
      "Below is an instruction that describes a task, paired with an input that provides further context. Write a response that appropriately completes the request. ### Instruction: Tên gọi nào được Phạm Văn Đồng sử dụng khi làm Phó chủ nhiệm cơ quan Biện sự xứ tại Quế Lâm? ### Input: Phạm Văn Đồng (1 tháng 3 năm 1906 – 29 tháng 4 năm 2000) là Thủ tướng đầu tiên của nước Cộng hòa Xã hội chủ nghĩa Việt Nam từ năm 1976 (từ năm 1981 gọi là Chủ tịch Hội đồng Bộ trưởng) cho đến khi nghỉ hưu năm 1987. Trước đó ông từng giữ chức vụ Thủ tướng Chính phủ Việt Nam Dân chủ Cộng hòa từ năm 1955 đến năm 1976. Ông là vị Thủ tướng Việt Nam tại vị lâu nhất (1955–1987). Ông là học trò, cộng sự của Chủ tịch Hồ Chí Minh. Ông có tên gọi thân mật là Tô, đây từng là bí danh của ông. Ông còn có tên gọi là Lâm Bá Kiệt khi làm Phó chủ nhiệm cơ quan Biện sự xứ tại Quế Lâm (Chủ nhiệm là Hồ Học Lãm). ### Response:</s>\n"
     ]
    }
   ],
   "source": [
    "print(\n",
    "    tokenizer.decode(dataset_tokenized[0]['input_ids'], skip_special_tokens=False)\n",
    ")"
   ]
  },
  {
   "cell_type": "code",
   "execution_count": 15,
   "metadata": {},
   "outputs": [
    {
     "name": "stdout",
     "output_type": "stream",
     "text": [
      "Lâm Bá Kiệt</s>\n"
     ]
    }
   ],
   "source": [
    "print(\n",
    "    tokenizer.decode(dataset_tokenized[0]['labels'], skip_special_tokens=False)\n",
    ")"
   ]
  },
  {
   "cell_type": "code",
   "execution_count": 16,
   "metadata": {},
   "outputs": [
    {
     "name": "stdout",
     "output_type": "stream",
     "text": [
      "> Pushing to hub: vi-mT5-QA-ViQuAD_v1.1\n"
     ]
    },
    {
     "name": "stderr",
     "output_type": "stream",
     "text": [
      "Creating parquet from Arrow format: 100%|██████████| 20/20 [00:00<00:00, 86.17ba/s]\n",
      "Uploading the dataset shards: 100%|██████████| 1/1 [00:06<00:00,  6.63s/it]\n"
     ]
    },
    {
     "data": {
      "text/plain": [
       "CommitInfo(commit_url='https://huggingface.co/datasets/nqv2291/vi-mT5-QA-ViQuAD_v1.1/commit/1eb66561822bd0225853c79706adba917dfefe13', commit_message='Upload dataset', commit_description='', oid='1eb66561822bd0225853c79706adba917dfefe13', pr_url=None, pr_revision=None, pr_num=None)"
      ]
     },
     "execution_count": 16,
     "metadata": {},
     "output_type": "execute_result"
    }
   ],
   "source": [
    "output_repo = 'vi-mT5-QA-ViQuAD_v1.1'\n",
    "print(f\"> Pushing to hub: {output_repo}\")\n",
    "dataset_tokenized.push_to_hub(output_repo)"
   ]
  },
  {
   "cell_type": "markdown",
   "metadata": {},
   "source": [
    "## Dataset: VinAI_PhoMT"
   ]
  },
  {
   "cell_type": "code",
   "execution_count": 32,
   "metadata": {},
   "outputs": [],
   "source": [
    "output_repo = 'en-vi-mT5-MT'"
   ]
  },
  {
   "cell_type": "code",
   "execution_count": 17,
   "metadata": {},
   "outputs": [
    {
     "data": {
      "text/plain": [
       "Dataset({\n",
       "    features: ['en', 'vi'],\n",
       "    num_rows: 136000\n",
       "})"
      ]
     },
     "execution_count": 17,
     "metadata": {},
     "output_type": "execute_result"
    }
   ],
   "source": [
    "corpus = load_dataset('wanhin/VinAI_PhoMT', split='train', streaming=True)\n",
    "corpus = corpus.take(136_000)\n",
    "phomt_ds = Dataset.from_generator(\n",
    "    lambda: (yield from corpus),\n",
    "    features=corpus.features\n",
    ")\n",
    "phomt_ds"
   ]
  },
  {
   "cell_type": "code",
   "execution_count": 20,
   "metadata": {},
   "outputs": [
    {
     "name": "stdout",
     "output_type": "stream",
     "text": [
      "> Making instruction dataset...\n"
     ]
    },
    {
     "name": "stderr",
     "output_type": "stream",
     "text": [
      "Map: 100%|██████████| 136000/136000 [00:01<00:00, 127942.04 examples/s]"
     ]
    },
    {
     "name": "stdout",
     "output_type": "stream",
     "text": [
      "Instruction dataset: Dataset({\n",
      "    features: ['prompt', 'answer'],\n",
      "    num_rows: 136000\n",
      "})\n"
     ]
    },
    {
     "name": "stderr",
     "output_type": "stream",
     "text": [
      "\n"
     ]
    }
   ],
   "source": [
    "def make_instruction_data(samples):\n",
    "    prompts, answers = [], []\n",
    "\n",
    "    for sample_en, sample_vi in zip(samples['en'], samples['vi']):\n",
    "        prompts.append(prompt_input({\n",
    "            'instruction': 'Translate the following English sentence to Vietnamese',\n",
    "            'input': sample_en\n",
    "        }))\n",
    "        answers.append(sample_vi)\n",
    "\n",
    "    return {\n",
    "        'prompt': prompts,\n",
    "        'answer': answers\n",
    "    }\n",
    "\n",
    "print(\"> Making instruction dataset...\")\n",
    "en_vi_mt_instruct = phomt_ds.map(\n",
    "    make_instruction_data, batched=True, remove_columns=phomt_ds.column_names\n",
    ")\n",
    "print(\"Instruction dataset:\", en_vi_mt_instruct)"
   ]
  },
  {
   "cell_type": "code",
   "execution_count": 22,
   "metadata": {},
   "outputs": [
    {
     "data": {
      "text/html": [
       "<div>\n",
       "<style scoped>\n",
       "    .dataframe tbody tr th:only-of-type {\n",
       "        vertical-align: middle;\n",
       "    }\n",
       "\n",
       "    .dataframe tbody tr th {\n",
       "        vertical-align: top;\n",
       "    }\n",
       "\n",
       "    .dataframe thead th {\n",
       "        text-align: right;\n",
       "    }\n",
       "</style>\n",
       "<table border=\"1\" class=\"dataframe\">\n",
       "  <thead>\n",
       "    <tr style=\"text-align: right;\">\n",
       "      <th></th>\n",
       "      <th>prompt</th>\n",
       "      <th>answer</th>\n",
       "    </tr>\n",
       "  </thead>\n",
       "  <tbody>\n",
       "    <tr>\n",
       "      <th>0</th>\n",
       "      <td>Below is an instruction that describes a task,...</td>\n",
       "      <td>Câu chuyện bắt đầu với buổi lễ đếm ngược.\\n</td>\n",
       "    </tr>\n",
       "    <tr>\n",
       "      <th>1</th>\n",
       "      <td>Below is an instruction that describes a task,...</td>\n",
       "      <td>Ngày 14, tháng 8, năm 1947, gần nửa đêm, ở Bom...</td>\n",
       "    </tr>\n",
       "    <tr>\n",
       "      <th>2</th>\n",
       "      <td>Below is an instruction that describes a task,...</td>\n",
       "      <td>Cùng lúc, trên khắp đất Ấn, người ta nín thở c...</td>\n",
       "    </tr>\n",
       "    <tr>\n",
       "      <th>3</th>\n",
       "      <td>Below is an instruction that describes a task,...</td>\n",
       "      <td>Khi đồng hồ điểm thời khắc nửa đêm, một đứa tr...</td>\n",
       "    </tr>\n",
       "    <tr>\n",
       "      <th>4</th>\n",
       "      <td>Below is an instruction that describes a task,...</td>\n",
       "      <td>Những sự kiện này là nền móng tạo nên \"Những đ...</td>\n",
       "    </tr>\n",
       "    <tr>\n",
       "      <th>...</th>\n",
       "      <td>...</td>\n",
       "      <td>...</td>\n",
       "    </tr>\n",
       "    <tr>\n",
       "      <th>135995</th>\n",
       "      <td>Below is an instruction that describes a task,...</td>\n",
       "      <td>Mọi thứ nó cần là các mục tiêu của bạn và các ...</td>\n",
       "    </tr>\n",
       "    <tr>\n",
       "      <th>135996</th>\n",
       "      <td>Below is an instruction that describes a task,...</td>\n",
       "      <td>Tôi sẽ cho một ví dụ.\\n</td>\n",
       "    </tr>\n",
       "    <tr>\n",
       "      <th>135997</th>\n",
       "      <td>Below is an instruction that describes a task,...</td>\n",
       "      <td>Lấy trường hợp về khung máy bay không người lá...</td>\n",
       "    </tr>\n",
       "    <tr>\n",
       "      <th>135998</th>\n",
       "      <td>Below is an instruction that describes a task,...</td>\n",
       "      <td>Máy tính sẽ tìm và đưa ra toàn bộ không gian g...</td>\n",
       "    </tr>\n",
       "    <tr>\n",
       "      <th>135999</th>\n",
       "      <td>Below is an instruction that describes a task,...</td>\n",
       "      <td>Cần các máy tính lớn để thực hiện.\\n</td>\n",
       "    </tr>\n",
       "  </tbody>\n",
       "</table>\n",
       "<p>136000 rows × 2 columns</p>\n",
       "</div>"
      ],
      "text/plain": [
       "                                                   prompt  \\\n",
       "0       Below is an instruction that describes a task,...   \n",
       "1       Below is an instruction that describes a task,...   \n",
       "2       Below is an instruction that describes a task,...   \n",
       "3       Below is an instruction that describes a task,...   \n",
       "4       Below is an instruction that describes a task,...   \n",
       "...                                                   ...   \n",
       "135995  Below is an instruction that describes a task,...   \n",
       "135996  Below is an instruction that describes a task,...   \n",
       "135997  Below is an instruction that describes a task,...   \n",
       "135998  Below is an instruction that describes a task,...   \n",
       "135999  Below is an instruction that describes a task,...   \n",
       "\n",
       "                                                   answer  \n",
       "0             Câu chuyện bắt đầu với buổi lễ đếm ngược.\\n  \n",
       "1       Ngày 14, tháng 8, năm 1947, gần nửa đêm, ở Bom...  \n",
       "2       Cùng lúc, trên khắp đất Ấn, người ta nín thở c...  \n",
       "3       Khi đồng hồ điểm thời khắc nửa đêm, một đứa tr...  \n",
       "4       Những sự kiện này là nền móng tạo nên \"Những đ...  \n",
       "...                                                   ...  \n",
       "135995  Mọi thứ nó cần là các mục tiêu của bạn và các ...  \n",
       "135996                            Tôi sẽ cho một ví dụ.\\n  \n",
       "135997  Lấy trường hợp về khung máy bay không người lá...  \n",
       "135998  Máy tính sẽ tìm và đưa ra toàn bộ không gian g...  \n",
       "135999               Cần các máy tính lớn để thực hiện.\\n  \n",
       "\n",
       "[136000 rows x 2 columns]"
      ]
     },
     "execution_count": 22,
     "metadata": {},
     "output_type": "execute_result"
    }
   ],
   "source": [
    "df = en_vi_mt_instruct.to_pandas()\n",
    "df"
   ]
  },
  {
   "cell_type": "markdown",
   "metadata": {},
   "source": [
    "#### Convey the lengths of samples in dataset"
   ]
  },
  {
   "cell_type": "code",
   "execution_count": 25,
   "metadata": {},
   "outputs": [
    {
     "name": "stderr",
     "output_type": "stream",
     "text": [
      "Map: 100%|██████████| 136000/136000 [00:06<00:00, 21383.94 examples/s]\n"
     ]
    },
    {
     "data": {
      "image/png": "[encoded data removed]",
      "text/plain": [
       "<Figure size 1000x800 with 2 Axes>"
      ]
     },
     "metadata": {},
     "output_type": "display_data"
    },
    {
     "name": "stdout",
     "output_type": "stream",
     "text": [
      "Max text length: 716\n",
      "Max label length: 1138\n",
      "Current limit: MAX_LENGTH = 1024\n"
     ]
    }
   ],
   "source": [
    "en_vi_mt_instruct_with_length = en_vi_mt_instruct.map(\n",
    "    lambda samples: {\n",
    "        'len_text': [len(x) for x in tokenizer(samples['prompt'], padding=False, truncation=False, add_special_tokens=True)['input_ids']],\n",
    "        'len_label': [len(x) for x in tokenizer(samples['answer'], padding=False, truncation=False, add_special_tokens=True)['input_ids']],\n",
    "    },\n",
    "    batched=True\n",
    ")\n",
    "\n",
    "text_lengths = en_vi_mt_instruct_with_length['len_text']\n",
    "label_lengths = en_vi_mt_instruct_with_length['len_label']\n",
    "\n",
    "plt.figure(figsize=(10, 8))\n",
    "plt.subplot(1, 2, 1)\n",
    "plt.hist(text_lengths)\n",
    "plt.title('Text lengths')\n",
    "\n",
    "plt.subplot(1, 2, 2)\n",
    "plt.hist(label_lengths)\n",
    "plt.title('Label lengths')\n",
    "\n",
    "plt.show()\n",
    "\n",
    "print('Max text length:', max(text_lengths))\n",
    "print('Max label length:', max(label_lengths))\n",
    "print('Current limit: MAX_LENGTH =', MAX_LENGTH)"
   ]
  },
  {
   "cell_type": "markdown",
   "metadata": {},
   "source": [
    "Drop those samples that having lengths exceed the pre-defined MAX LENGTH"
   ]
  },
  {
   "cell_type": "code",
   "execution_count": 26,
   "metadata": {},
   "outputs": [
    {
     "name": "stderr",
     "output_type": "stream",
     "text": [
      "Filter: 100%|██████████| 136000/136000 [00:00<00:00, 326044.53 examples/s]\n"
     ]
    }
   ],
   "source": [
    "en_vi_mt_instruct_with_length_dropped = en_vi_mt_instruct_with_length.filter(\n",
    "    lambda example: (example['len_text'] <= MAX_LENGTH) and (example['len_label'] <= MAX_LENGTH)\n",
    ")"
   ]
  },
  {
   "cell_type": "code",
   "execution_count": 27,
   "metadata": {},
   "outputs": [
    {
     "data": {
      "image/png": "[encoded data removed]",
      "text/plain": [
       "<Figure size 1000x800 with 2 Axes>"
      ]
     },
     "metadata": {},
     "output_type": "display_data"
    },
    {
     "name": "stdout",
     "output_type": "stream",
     "text": [
      "Max text length: 380\n",
      "Max label length: 521\n",
      "Current limit: MAX_LENGTH = 1024\n"
     ]
    }
   ],
   "source": [
    "text_lengths = en_vi_mt_instruct_with_length_dropped['len_text']\n",
    "label_lengths = en_vi_mt_instruct_with_length_dropped['len_label']\n",
    "\n",
    "plt.figure(figsize=(10, 8))\n",
    "plt.subplot(1, 2, 1)\n",
    "plt.hist(text_lengths)\n",
    "plt.title('Text lengths')\n",
    "\n",
    "plt.subplot(1, 2, 2)\n",
    "plt.hist(label_lengths)\n",
    "plt.title('Label lengths')\n",
    "\n",
    "plt.show()\n",
    "\n",
    "print('Max text length:', max(text_lengths))\n",
    "print('Max label length:', max(label_lengths))\n",
    "print('Current limit: MAX_LENGTH =', MAX_LENGTH)"
   ]
  },
  {
   "cell_type": "code",
   "execution_count": 28,
   "metadata": {},
   "outputs": [
    {
     "data": {
      "text/plain": [
       "Dataset({\n",
       "    features: ['prompt', 'answer', 'len_text', 'len_label'],\n",
       "    num_rows: 135999\n",
       "})"
      ]
     },
     "execution_count": 28,
     "metadata": {},
     "output_type": "execute_result"
    }
   ],
   "source": [
    "en_vi_mt_instruct_with_length_dropped"
   ]
  },
  {
   "cell_type": "markdown",
   "metadata": {},
   "source": [
    "#### Create tokenized dataset"
   ]
  },
  {
   "cell_type": "code",
   "execution_count": 29,
   "metadata": {},
   "outputs": [
    {
     "name": "stdout",
     "output_type": "stream",
     "text": [
      "> Tokenizing dataset...\n"
     ]
    },
    {
     "name": "stderr",
     "output_type": "stream",
     "text": [
      "Map: 100%|██████████| 135999/135999 [00:10<00:00, 13187.57 examples/s]"
     ]
    },
    {
     "name": "stdout",
     "output_type": "stream",
     "text": [
      ">> Dataset is ready:\n",
      "Dataset({\n",
      "    features: ['input_ids', 'attention_mask', 'labels'],\n",
      "    num_rows: 135999\n",
      "})\n"
     ]
    },
    {
     "name": "stderr",
     "output_type": "stream",
     "text": [
      "\n"
     ]
    }
   ],
   "source": [
    "def tokenize(samples, tokenizer, input_field, label_field, max_length=MAX_LENGTH):\n",
    "    # Tokenize\n",
    "    tokenized_input = tokenizer(samples[input_field], max_length=max_length, padding=False, truncation=True, add_special_tokens=True)\n",
    "    tokenized_label = tokenizer(samples[label_field], max_length=max_length, padding=False, truncation=True, add_special_tokens=True)\n",
    "\n",
    "    return {\n",
    "        'input_ids': tokenized_input['input_ids'],\n",
    "        'attention_mask': tokenized_input['attention_mask'],\n",
    "        'labels': tokenized_label['input_ids']\n",
    "    }\n",
    "\n",
    "print(\"> Tokenizing dataset...\")\n",
    "en_vi_mt_tokenized = en_vi_mt_instruct_with_length_dropped.map(\n",
    "    lambda x: tokenize(x, tokenizer, \"prompt\", \"answer\"),\n",
    "    batched=True,\n",
    "    remove_columns=en_vi_mt_instruct_with_length_dropped.column_names,\n",
    ")\n",
    "\n",
    "print(\">> Dataset is ready:\")\n",
    "print(en_vi_mt_tokenized)"
   ]
  },
  {
   "cell_type": "code",
   "execution_count": 30,
   "metadata": {},
   "outputs": [
    {
     "data": {
      "text/plain": [
       "'Below is an instruction that describes a task, paired with an input that provides further context. Write a response that appropriately completes the request. ### Instruction: Translate the following English sentence to Vietnamese ### Input: Rushdie, who like Saleem was born in 1947, was educated in India and Britain, and is renowned for his cross - continental histories, political commentary, and magical realism. ### Response:</s>'"
      ]
     },
     "execution_count": 30,
     "metadata": {},
     "output_type": "execute_result"
    }
   ],
   "source": [
    "tokenizer.decode(en_vi_mt_tokenized[19]['input_ids'])"
   ]
  },
  {
   "cell_type": "code",
   "execution_count": 31,
   "metadata": {},
   "outputs": [
    {
     "data": {
      "text/plain": [
       "'Rushdie, giống như Saleem, sinh năm 1947, học tại Ấn Độ và Anh quốc, nổi tiếng nhờ vào tiểu sử xuyên lục địa, những bình luận chính trị và chủ nghĩa hiện thực huyền ảo.</s>'"
      ]
     },
     "execution_count": 31,
     "metadata": {},
     "output_type": "execute_result"
    }
   ],
   "source": [
    "tokenizer.decode(en_vi_mt_tokenized[19]['labels'])"
   ]
  },
  {
   "cell_type": "markdown",
   "metadata": {},
   "source": [
    "#### Push to hub"
   ]
  },
  {
   "cell_type": "code",
   "execution_count": 33,
   "metadata": {},
   "outputs": [
    {
     "name": "stdout",
     "output_type": "stream",
     "text": [
      "> Pushing to hub: en-vi-mT5-MT\n"
     ]
    },
    {
     "name": "stderr",
     "output_type": "stream",
     "text": [
      "Creating parquet from Arrow format: 100%|██████████| 136/136 [00:00<00:00, 291.19ba/s]\n",
      "Uploading the dataset shards: 100%|██████████| 1/1 [00:05<00:00,  5.86s/it]\n"
     ]
    },
    {
     "data": {
      "text/plain": [
       "CommitInfo(commit_url='https://huggingface.co/datasets/nqv2291/en-vi-mT5-MT/commit/13310f7901ef173f8c3f52c38f7019f5a99bd584', commit_message='Upload dataset', commit_description='', oid='13310f7901ef173f8c3f52c38f7019f5a99bd584', pr_url=None, pr_revision=None, pr_num=None)"
      ]
     },
     "execution_count": 33,
     "metadata": {},
     "output_type": "execute_result"
    }
   ],
   "source": [
    "print(f\"> Pushing to hub: {output_repo}\")\n",
    "en_vi_mt_tokenized.push_to_hub(output_repo)"
   ]
  },
  {
   "cell_type": "markdown",
   "metadata": {},
   "source": [
    "## Pretraining data"
   ]
  },
  {
   "cell_type": "code",
   "execution_count": 3,
   "metadata": {},
   "outputs": [],
   "source": [
    "args = OmegaConf.create({\n",
    "    \"dataset\": {\n",
    "        \"path\": \"bkai-foundation-models/BKAINewsCorpus\",\n",
    "        # \"name\": None,\n",
    "        \"split\": \"train\",\n",
    "        \"remove_columns\": ['id', 'link', 'publish'],\n",
    "        \"n_samples\": 10000,\n",
    "    },\n",
    "    \"data\": {\n",
    "        # \"input_length\": 1024,\n",
    "        \"input_length\": 920,\n",
    "        \"mlm_probability\": 0.15,\n",
    "        \"mean_noise_span_length\": 3.0,\n",
    "    },\n",
    "    \"optim\": {\n",
    "        \"batch_size\": 8,\n",
    "        \"grad_acc\": 16,\n",
    "        \"epochs\": 3,\n",
    "    },\n",
    "    \"seed\": 42,\n",
    "    \"is_shuffle\": False\n",
    "})\n",
    "\n"
   ]
  },
  {
   "cell_type": "markdown",
   "metadata": {},
   "source": [
    "##### Download dataset `bkai-foundation-models/BKAINewsCorpus`"
   ]
  },
  {
   "cell_type": "code",
   "execution_count": 4,
   "metadata": {},
   "outputs": [
    {
     "data": {
      "text/plain": [
       "Dataset({\n",
       "    features: ['text'],\n",
       "    num_rows: 10000\n",
       "})"
      ]
     },
     "execution_count": 4,
     "metadata": {},
     "output_type": "execute_result"
    }
   ],
   "source": [
    "vi_corpus_stream = load_dataset(args.dataset.path, split=args.dataset.split, streaming=True)\n",
    "vi_corpus_stream = vi_corpus_stream.take(10000)\n",
    "vi_corpus = Dataset.from_generator(\n",
    "    lambda: (yield from vi_corpus_stream),\n",
    "    features=vi_corpus_stream.features,\n",
    ")\n",
    "vi_corpus = vi_corpus.remove_columns(args.dataset.remove_columns)\n",
    "vi_corpus"
   ]
  },
  {
   "cell_type": "code",
   "execution_count": 5,
   "metadata": {},
   "outputs": [
    {
     "name": "stderr",
     "output_type": "stream",
     "text": [
      "Map:   0%|          | 0/10000 [00:00<?, ? examples/s]"
     ]
    },
    {
     "name": "stderr",
     "output_type": "stream",
     "text": [
      "Map: 100%|██████████| 10000/10000 [00:04<00:00, 2296.98 examples/s]\n"
     ]
    },
    {
     "data": {
      "text/plain": [
       "Dataset({\n",
       "    features: ['input_ids'],\n",
       "    num_rows: 14851\n",
       "})"
      ]
     },
     "execution_count": 5,
     "metadata": {},
     "output_type": "execute_result"
    }
   ],
   "source": [
    "processed_dataset = process_pretraining_dataset(vi_corpus, args, tokenizer)\n",
    "processed_dataset"
   ]
  },
  {
   "cell_type": "code",
   "execution_count": 6,
   "metadata": {},
   "outputs": [
    {
     "data": {
      "text/plain": [
       "'ức tốt đẹp của thế hệ 7x, 8x, và 9x đời đầu. Đến đấy thì rất là thích vì như tìm lại kỷ niệm ấy chứ không hẳn phải mua đồ...” - Chị khách hàng của một cửa hàng văn phòng phẩm trên đường Quán Thánh đã vui vẻ chia sẻ về thói quen thú vị này khiến tôi thấy ấn tượng. Chợt nhận ra đúng là bây giờ phần lớn học sinh, trẻ con đều được ba mẹ đưa vào các cửa hàng, nhà sách hiện đại, nhiều thứ hấp dẫn trong các khu trung tâm sầm uất để mua sắm đồ dùng học tập, kết hợp vui chơi chứ không còn nhiều người chọn tìm đến những tiệm văn phòng phẩm kiểu cũ nữa. Tiệm văn phòng phẩm kiểu cũ trên phố Hàm Long Đó là những tiệm hàng nhỏ nhỏ ngay mặt tiền các con phố cũ rất đẹp, gần các trường học lâu đời và nổi tiếng của Hà Nội như phố Hàm Long, Quán Thánh... Cộng đồng dân cư sinh sống trên con phố này phần lớn cũng là những người đã sinh sống lâu đời Hà Nội, từ sau năm 1945 hoặc 1975 nên những cửa tiệm văn phòng phẩm kiểu cũ còn tồn tại được đến bây giờ và duy trì được nếp phong cách gần như không có nhiều sự thay đổi. Vẫn là một không gian mặt tiền của ngôi nhà cũ được tận dụng để bán các đồ thiết yếu cho học sinh, đủ các loại đồ bày bán được sắp xếp một cách gọn gàng, sạch sẽ, rất dễ nhìn, dễ lấy... Trước sự thay đổi lớn về nhu cầu tiêu dùng, những tiệm văn phòng phẩm kiểu cũ hiện nay không còn nhiều, thậm chí như trên phố Hàm Long cũng chỉ còn duy nhất một cửa tiệm, dù ở ngay giữa phố nhưng vẫn nằm lọt thỏm giữa biết bao cửa hàng, bảng hiệu san sát, bắt mắt khác. Lợi nhuận của một cửa tiệm văn phòng phẩm này không hề nhiều, và để duy trì thì người chủ cửa hàng cũng phải lọ mọ cả ngày, nhưng cũng có cái vui lắm. Ấy là cái vui hồn hậu của bà chủ cửa tiệm văn phòng phẩm trên phố Hàm Long, đã ngoài 70 tuổi chia sẻ khi trò chuyện cùng tôi: \"Cũng có người hỏi thuê nhưng không cho thuê, một là mình chạy ra chạy vào trông nom bà chị gái. Mình ngoài 70 rồi, làm được cái gì bây giờ. Bây giờ nhiều lúc cũng phải nghe để biết sở thích của các cháu, ví dụ chúng nó thích campus thì mình phải mua campus, tụi nó thích vở dầy Hồng Hà thì lại lấy của Hồng'"
      ]
     },
     "execution_count": 6,
     "metadata": {},
     "output_type": "execute_result"
    }
   ],
   "source": [
    "tokenizer.decode(processed_dataset[0]['input_ids'])"
   ]
  },
  {
   "cell_type": "code",
   "execution_count": 7,
   "metadata": {},
   "outputs": [],
   "source": [
    "data_collator = DataCollatorForT5MLM(\n",
    "    tokenizer=tokenizer,\n",
    "    noise_density=args.data.mlm_probability,\n",
    "    mean_noise_span_length=args.data.mean_noise_span_length,\n",
    "    input_length=args.data.input_length,\n",
    "    target_length=args.data.target_length,\n",
    "    pad_token_id=tokenizer.pad_token_id,\n",
    ")"
   ]
  },
  {
   "cell_type": "code",
   "execution_count": 8,
   "metadata": {},
   "outputs": [],
   "source": [
    "dataloader = DataLoader(\n",
    "    processed_dataset,\n",
    "    collate_fn=data_collator,\n",
    "    batch_size=args.optim.batch_size,\n",
    "    pin_memory=True,\n",
    "    drop_last=False,\n",
    ")"
   ]
  },
  {
   "cell_type": "code",
   "execution_count": 9,
   "metadata": {},
   "outputs": [
    {
     "data": {
      "text/plain": [
       "Dataset({\n",
       "    features: ['input_ids', 'labels'],\n",
       "    num_rows: 14851\n",
       "})"
      ]
     },
     "execution_count": 9,
     "metadata": {},
     "output_type": "execute_result"
    }
   ],
   "source": [
    "data_list = []\n",
    "\n",
    "for batch in dataloader:\n",
    "    inputs, labels = batch[\"input_ids\"], batch[\"labels\"]\n",
    "    for input_item, label_item in zip(inputs, labels):\n",
    "        data_list.append({\"input_ids\": input_item, \"labels\": label_item})\n",
    "\n",
    "dataset = Dataset.from_list(data_list)\n",
    "dataset"
   ]
  },
  {
   "cell_type": "code",
   "execution_count": 15,
   "metadata": {},
   "outputs": [
    {
     "data": {
      "text/plain": [
       "(920, 1022)"
      ]
     },
     "execution_count": 15,
     "metadata": {},
     "output_type": "execute_result"
    }
   ],
   "source": [
    "len(dataset[12420]['input_ids']), len(dataset[12420]['labels'])"
   ]
  },
  {
   "cell_type": "code",
   "execution_count": 16,
   "metadata": {},
   "outputs": [
    {
     "data": {
      "text/plain": [
       "'úc Phương. Cụ thể, trong vụ việc trong vụ việc <extra_id_0>ứ <extra_id_1>ơn 100 cá thể tê tê tại Quảng Ninh, trước khi cơ quan chức năng tỉnh Quảng Ninh gọi điện cho WCS Việt Nam đề nghị <extra_id_2>ì số tê tê nói trên đã được thu giữ trước đ <extra_id_3> nhiều tiếng đồng hồ. Khi được thu <extra_id_4>ữ, sức khỏe số tê tê này có thể đã rất  <extra_id_5> chú <extra_id_6> vận chuyển qua những chặng đường <extra_id_7> được dấu kín trong các thùng và bao tải xếp trên xe <extra_id_8> tiết lại nóng bức nên hầu hết số tê tê này đã không thể s <extra_id_9> an bàn giao cho kiểm lâm <extra_id_10>và thời <extra_id_11> đợi được cứu hộ. Theo anh Hải, khi thu gi <extra_id_12>ng vật hoang dã,  <extra_id_13>ùy vào chủng loại các loài thú, các cơ quan chức năng cần đánh giá tình trạng sức <extra_id_14>ỏe của động vật mà “cởi trói” cho chúng và thả, nhốt vào một n <extra_id_15>àn để động vật được nghỉ ngơi, phục hồi sức khỏe, có như vậy tỷ lệ <extra_id_16>s <extra_id_17> các loài động <extra_id_18> dã sẽ cao hơn rất nh <extra_id_19>Tuy nhiên, khi tiếp  <extra_id_20> với động vật  <extra_id_21>ã <extra_id_22> mọi người phải chú ý sử dụng khẩu trang, găng tay, cồn khử khuẩ <extra_id_23> bảo hộ y tế để phòng tránh việ <extra_id_24>y truyền dịch bệnh từ động v <extra_id_25> sang người, đồng thời phải hết sức cẩn thận với các loại thú dữ. \"Chốn bình yên\" cho nhiều loài thú quý, hiếm Trong khuân khổ khóa tâp huấn,  <extra_id_26> v <extra_id_27> có buổ <extra_id_28> tham quan thực tế tại Trung tâm cứu hộ <extra_id_29>ảo tồn và phát triển sinh vật V <extra_id_30> quốc gia Cúc Phương (Ninh Bình), gồm: Trung tâm c <extra_id_31>linh trưởng nguy cấp (EPRC); <extra_id_32>Trung tâm cứu h <extra_id_33>ạt động dưới  <extra_id_34> hợp tác c <extra_id_35>t <extra_id_36> rùa châu Á - ATP); Trung tâm cứu hộ tê tê và <extra_id_37> ăn thịt nhỏ (Trung tâm bảo tồn động vật hoang dã tại Việt Nam - SVW). Đây là các trung tâm cứu hộ linh trưởng, c <extra_id_38>rùa và <extra_id_39>ứu hộ tê tê và thú ăn thịt nhỏ l <extra_id_40> Nam. Nhân viên Trung tâm <extra_id_41> h <extra_id_42>rùa giới thiệu với các học viên của khóa tập huấn. Tại đây, các học viên đã được cán bộ của Trung tâm giới thiệu về công tác cứu h <extra_id_43>ồn và phát triển các loài <extra_id_44> quý hiếm, nguy cấp. Theo đó, Trung tâm <extra_id_45>u hộ các loài linh trưởng quý hiếm đang cứu hộ <extra_id_46>ôi dưỡ <extra_id_47> thể của 15 loài  <extra_id_48> phân lo <extra_id_49> trưởng và phát triển tốt, <extra_id_50></s>'"
      ]
     },
     "execution_count": 16,
     "metadata": {},
     "output_type": "execute_result"
    }
   ],
   "source": [
    "tokenizer.decode(dataset[12420]['input_ids'])"
   ]
  },
  {
   "cell_type": "code",
   "execution_count": 17,
   "metadata": {},
   "outputs": [
    {
     "data": {
      "text/plain": [
       "'úc Phương. Cụ thể, trong vụ việc trong vụ việc cứu hộ hơn 100 cá thể tê tê tại Quảng Ninh, trước khi cơ quan chức năng tỉnh Quảng Ninh gọi điện cho WCS Việt Nam đề nghị cứu hộ thì số tê tê nói trên đã được thu giữ trước đó nhiều tiếng đồng hồ. Khi được thu giữ, sức khỏe số tê tê này có thể đã rất yếu, do chúng vừa bị vận chuyển qua những chặng đường rất dài, được dấu kín trong các thùng và bao tải xếp trên xe ô tô, thời tiết lại nóng bức nên hầu hết số tê tê này đã không thể sống qua thời gian cơ quan công an bàn giao cho kiểm lâm và thời gian chờ đợi được cứu hộ. Theo anh Hải, khi thu giữ động vật hoang dã, tùy vào chủng loại các loài thú, các cơ quan chức năng cần đánh giá tình trạng sức khỏe của động vật mà “cởi trói” cho chúng và thả, nhốt vào một nơi an toàn để động vật được nghỉ ngơi, phục hồi sức khỏe, có như vậy tỷ lệ cứu sống các loài động vật hoang dã sẽ cao hơn rất nhiều. Tuy nhiên, khi tiếp xúc với động vật hoang dã, mọi người phải chú ý sử dụng khẩu trang, găng tay, cồn khử khuẩn, đồ bảo hộ y tế để phòng tránh việc lây truyền dịch bệnh từ động vật sang người, đồng thời phải hết sức cẩn thận với các loại thú dữ. \"Chốn bình yên\" cho nhiều loài thú quý, hiếm Trong khuân khổ khóa tâp huấn, các học viên đã có buổi tham quan thực tế tại Trung tâm cứu hộ, bảo tồn và phát triển sinh vật Vườn quốc gia Cúc Phương (Ninh Bình), gồm: Trung tâm cứu hộ linh trưởng nguy cấp (EPRC); Trung tâm cứu hộ Rùa (hoạt động dưới sự hợp tác của Chương trình Bảo tồn rùa châu Á - ATP); Trung tâm cứu hộ tê tê và thú ăn thịt nhỏ (Trung tâm bảo tồn động vật hoang dã tại Việt Nam - SVW). Đây là các trung tâm cứu hộ linh trưởng, cứu hộ rùa và cứu hộ tê tê và thú ăn thịt nhỏ lớn nhất Việt Nam. Nhân viên Trung tâm cứu hộ rùa giới thiệu với các học viên của khóa tập huấn. Tại đây, các học viên đã được cán bộ của Trung tâm giới thiệu về công tác cứu hộ, bảo tồn và phát triển các loài động vật quý hiếm, nguy cấp. Theo đó, Trung tâm cứu hộ các loài linh trưởng quý hiếm đang cứu hộ và nuôi dưỡng trên 150 cá thể của 15 loài và phân loài sinh trưởng và phát triển tốt, </s>'"
      ]
     },
     "execution_count": 17,
     "metadata": {},
     "output_type": "execute_result"
    }
   ],
   "source": [
    "tokenizer.decode(dataset[12420]['labels'])"
   ]
  },
  {
   "cell_type": "code",
   "execution_count": null,
   "metadata": {},
   "outputs": [],
   "source": [
    "dataset.push_to_hub(\"vi-text_corpus_pretraining-BKAINewsCorpus\")"
   ]
  }
 ],
 "metadata": {
  "kernelspec": {
   "display_name": "vietnq-ner",
   "language": "python",
   "name": "python3"
  },
  "language_info": {
   "codemirror_mode": {
    "name": "ipython",
    "version": 3
   },
   "file_extension": ".py",
   "mimetype": "text/x-python",
   "name": "python",
   "nbconvert_exporter": "python",
   "pygments_lexer": "ipython3",
   "version": "3.12.3"
  }
 },
 "nbformat": 4,
 "nbformat_minor": 2
}
