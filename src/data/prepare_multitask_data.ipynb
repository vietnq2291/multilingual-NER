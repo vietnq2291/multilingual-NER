{
 "cells": [
  {
   "cell_type": "code",
   "execution_count": 1,
   "metadata": {},
   "outputs": [
    {
     "name": "stderr",
     "output_type": "stream",
     "text": [
      "/home/nlp/anaconda3/envs/vietnq-ner/lib/python3.12/site-packages/tqdm/auto.py:21: TqdmWarning: IProgress not found. Please update jupyter and ipywidgets. See https://ipywidgets.readthedocs.io/en/stable/user_install.html\n",
      "  from .autonotebook import tqdm as notebook_tqdm\n"
     ]
    }
   ],
   "source": [
    "from datasets import load_dataset, Dataset, DatasetDict\n",
    "from transformers import MT5TokenizerFast\n",
    "import json\n",
    "import pandas as pd\n",
    "from data_utils.utils import *"
   ]
  },
  {
   "cell_type": "code",
   "execution_count": 2,
   "metadata": {},
   "outputs": [
    {
     "name": "stderr",
     "output_type": "stream",
     "text": [
      "You are using the default legacy behaviour of the <class 'transformers.models.t5.tokenization_t5.T5Tokenizer'>. This is expected, and simply means that the `legacy` (previous) behavior will be used so nothing changes for you. If you want to use the new behaviour, set `legacy=False`. This should only be set if you understand what it means, and thoroughly read the reason why this was added as explained in https://github.com/huggingface/transformers/pull/24565\n",
      "/home/nlp/anaconda3/envs/vietnq-ner/lib/python3.12/site-packages/transformers/convert_slow_tokenizer.py:560: UserWarning: The sentencepiece tokenizer that you are converting to a fast tokenizer uses the byte fallback option which is not implemented in the fast tokenizers. In practice this means that the fast version of the tokenizer can produce unknown tokens whereas the sentencepiece version would have converted these unknown tokens into a sequence of byte tokens matching the original piece of text.\n",
      "  warnings.warn(\n"
     ]
    }
   ],
   "source": [
    "MAX_LENGTH = 1024\n",
    "model_name = 'google/mt5-base'\n",
    "tokenizer = MT5TokenizerFast.from_pretrained(model_name)"
   ]
  },
  {
   "cell_type": "markdown",
   "metadata": {},
   "source": [
    "## Dataset: ViSquad v1.1"
   ]
  },
  {
   "cell_type": "code",
   "execution_count": 3,
   "metadata": {},
   "outputs": [
    {
     "data": {
      "text/plain": [
       "(138, 18, 18)"
      ]
     },
     "execution_count": 3,
     "metadata": {},
     "output_type": "execute_result"
    }
   ],
   "source": [
    "visquad_ds_json = {}\n",
    "\n",
    "with open('datasets/ViSquadv1.1/train_ViQuAD.json') as f:\n",
    "    visquad_ds_json['train'] = json.load(f)\n",
    "with open('datasets/ViSquadv1.1/dev_ViQuAD.json') as f:\n",
    "    visquad_ds_json['dev'] = json.load(f)\n",
    "with open('datasets/ViSquadv1.1/test_ViQuAD.json') as f:\n",
    "    visquad_ds_json['test'] = json.load(f)\n",
    "\n",
    "len(visquad_ds_json['train']['data']), len(visquad_ds_json['dev']['data']), len(visquad_ds_json['test']['data'])"
   ]
  },
  {
   "cell_type": "code",
   "execution_count": 4,
   "metadata": {},
   "outputs": [],
   "source": [
    "ds_dict = {\n",
    "    'instruction': [],\n",
    "    'input': [],\n",
    "    'answer': [], \n",
    "    'split': []\n",
    "}\n",
    "\n",
    "for split_name, split_ds in visquad_ds_json.items():\n",
    "    for data_topic in split_ds['data']:\n",
    "        for data_para in data_topic['paragraphs']:\n",
    "            text = data_para['context']\n",
    "            for qa in data_para['qas']:\n",
    "                question = qa['question']\n",
    "                answer = qa['answers'][0]['text']\n",
    "                ds_dict['input'].append(text)\n",
    "                ds_dict['instruction'].append(question)\n",
    "                ds_dict['answer'].append(answer)\n",
    "                ds_dict['split'].append(split_name)"
   ]
  },
  {
   "cell_type": "code",
   "execution_count": 5,
   "metadata": {},
   "outputs": [
    {
     "data": {
      "text/html": [
       "<div>\n",
       "<style scoped>\n",
       "    .dataframe tbody tr th:only-of-type {\n",
       "        vertical-align: middle;\n",
       "    }\n",
       "\n",
       "    .dataframe tbody tr th {\n",
       "        vertical-align: top;\n",
       "    }\n",
       "\n",
       "    .dataframe thead th {\n",
       "        text-align: right;\n",
       "    }\n",
       "</style>\n",
       "<table border=\"1\" class=\"dataframe\">\n",
       "  <thead>\n",
       "    <tr style=\"text-align: right;\">\n",
       "      <th></th>\n",
       "      <th>instruction</th>\n",
       "      <th>input</th>\n",
       "      <th>answer</th>\n",
       "      <th>split</th>\n",
       "    </tr>\n",
       "  </thead>\n",
       "  <tbody>\n",
       "    <tr>\n",
       "      <th>0</th>\n",
       "      <td>Tên gọi nào được Phạm Văn Đồng sử dụng khi làm...</td>\n",
       "      <td>Phạm Văn Đồng (1 tháng 3 năm 1906 – 29 tháng 4...</td>\n",
       "      <td>Lâm Bá Kiệt</td>\n",
       "      <td>train</td>\n",
       "    </tr>\n",
       "    <tr>\n",
       "      <th>1</th>\n",
       "      <td>Phạm Văn Đồng giữ chức vụ gì trong bộ máy Nhà ...</td>\n",
       "      <td>Phạm Văn Đồng (1 tháng 3 năm 1906 – 29 tháng 4...</td>\n",
       "      <td>Thủ tướng</td>\n",
       "      <td>train</td>\n",
       "    </tr>\n",
       "    <tr>\n",
       "      <th>2</th>\n",
       "      <td>Giai đoạn năm 1955-1976, Phạm Văn Đồng nắm giữ...</td>\n",
       "      <td>Phạm Văn Đồng (1 tháng 3 năm 1906 – 29 tháng 4...</td>\n",
       "      <td>Thủ tướng Chính phủ Việt Nam Dân chủ Cộng hòa</td>\n",
       "      <td>train</td>\n",
       "    </tr>\n",
       "    <tr>\n",
       "      <th>3</th>\n",
       "      <td>Sự kiện quan trọng nào đã diễn ra vào ngày 20/...</td>\n",
       "      <td>Năm 1954, ông được giao nhiệm vụ Trưởng phái đ...</td>\n",
       "      <td>bản Hiệp định đình chỉ chiến sự ở Việt Nam, Ca...</td>\n",
       "      <td>train</td>\n",
       "    </tr>\n",
       "    <tr>\n",
       "      <th>4</th>\n",
       "      <td>Chức vụ mà Phạm Văn Đồng đảm nhiệm tại Hội ngh...</td>\n",
       "      <td>Năm 1954, ông được giao nhiệm vụ Trưởng phái đ...</td>\n",
       "      <td>Trưởng phái đoàn Chính phủ</td>\n",
       "      <td>train</td>\n",
       "    </tr>\n",
       "    <tr>\n",
       "      <th>...</th>\n",
       "      <td>...</td>\n",
       "      <td>...</td>\n",
       "      <td>...</td>\n",
       "      <td>...</td>\n",
       "    </tr>\n",
       "    <tr>\n",
       "      <th>23069</th>\n",
       "      <td>Nếu những yêu cầu mà bộ nhớ Squid không thể th...</td>\n",
       "      <td>Các yêu cầu trang được gửi cho tầng máy Squid ...</td>\n",
       "      <td>được gửi qua các máy chủ cân bằng tải (load-ba...</td>\n",
       "      <td>test</td>\n",
       "    </tr>\n",
       "    <tr>\n",
       "      <th>23070</th>\n",
       "      <td>Cần làm gì để tăng tốc độ trả lời cho người ch...</td>\n",
       "      <td>Các yêu cầu trang được gửi cho tầng máy Squid ...</td>\n",
       "      <td>các trang được kết xuất cho người chưa đăng nh...</td>\n",
       "      <td>test</td>\n",
       "    </tr>\n",
       "    <tr>\n",
       "      <th>23071</th>\n",
       "      <td>Các máy chủ cân bằng tải gửi yêu cầu cho máy c...</td>\n",
       "      <td>Các yêu cầu trang được gửi cho tầng máy Squid ...</td>\n",
       "      <td>kết xuất trang dùng dữ liệu từ CSDL</td>\n",
       "      <td>test</td>\n",
       "    </tr>\n",
       "    <tr>\n",
       "      <th>23072</th>\n",
       "      <td>Để giải quyết các yêu cầu thì máy chủ web có n...</td>\n",
       "      <td>Các yêu cầu trang được gửi cho tầng máy Squid ...</td>\n",
       "      <td>gửi lại những trang được yêu cầu và kết xuất t...</td>\n",
       "      <td>test</td>\n",
       "    </tr>\n",
       "    <tr>\n",
       "      <th>23073</th>\n",
       "      <td>Các nhóm máy chủ lớn giải quyết những nhu cầu ...</td>\n",
       "      <td>Các yêu cầu trang được gửi cho tầng máy Squid ...</td>\n",
       "      <td>Hà Lan và Hàn Quốc</td>\n",
       "      <td>test</td>\n",
       "    </tr>\n",
       "  </tbody>\n",
       "</table>\n",
       "<p>23074 rows × 4 columns</p>\n",
       "</div>"
      ],
      "text/plain": [
       "                                             instruction  \\\n",
       "0      Tên gọi nào được Phạm Văn Đồng sử dụng khi làm...   \n",
       "1      Phạm Văn Đồng giữ chức vụ gì trong bộ máy Nhà ...   \n",
       "2      Giai đoạn năm 1955-1976, Phạm Văn Đồng nắm giữ...   \n",
       "3      Sự kiện quan trọng nào đã diễn ra vào ngày 20/...   \n",
       "4      Chức vụ mà Phạm Văn Đồng đảm nhiệm tại Hội ngh...   \n",
       "...                                                  ...   \n",
       "23069  Nếu những yêu cầu mà bộ nhớ Squid không thể th...   \n",
       "23070  Cần làm gì để tăng tốc độ trả lời cho người ch...   \n",
       "23071  Các máy chủ cân bằng tải gửi yêu cầu cho máy c...   \n",
       "23072  Để giải quyết các yêu cầu thì máy chủ web có n...   \n",
       "23073  Các nhóm máy chủ lớn giải quyết những nhu cầu ...   \n",
       "\n",
       "                                                   input  \\\n",
       "0      Phạm Văn Đồng (1 tháng 3 năm 1906 – 29 tháng 4...   \n",
       "1      Phạm Văn Đồng (1 tháng 3 năm 1906 – 29 tháng 4...   \n",
       "2      Phạm Văn Đồng (1 tháng 3 năm 1906 – 29 tháng 4...   \n",
       "3      Năm 1954, ông được giao nhiệm vụ Trưởng phái đ...   \n",
       "4      Năm 1954, ông được giao nhiệm vụ Trưởng phái đ...   \n",
       "...                                                  ...   \n",
       "23069  Các yêu cầu trang được gửi cho tầng máy Squid ...   \n",
       "23070  Các yêu cầu trang được gửi cho tầng máy Squid ...   \n",
       "23071  Các yêu cầu trang được gửi cho tầng máy Squid ...   \n",
       "23072  Các yêu cầu trang được gửi cho tầng máy Squid ...   \n",
       "23073  Các yêu cầu trang được gửi cho tầng máy Squid ...   \n",
       "\n",
       "                                                  answer  split  \n",
       "0                                            Lâm Bá Kiệt  train  \n",
       "1                                              Thủ tướng  train  \n",
       "2          Thủ tướng Chính phủ Việt Nam Dân chủ Cộng hòa  train  \n",
       "3      bản Hiệp định đình chỉ chiến sự ở Việt Nam, Ca...  train  \n",
       "4                             Trưởng phái đoàn Chính phủ  train  \n",
       "...                                                  ...    ...  \n",
       "23069  được gửi qua các máy chủ cân bằng tải (load-ba...   test  \n",
       "23070  các trang được kết xuất cho người chưa đăng nh...   test  \n",
       "23071                kết xuất trang dùng dữ liệu từ CSDL   test  \n",
       "23072  gửi lại những trang được yêu cầu và kết xuất t...   test  \n",
       "23073                                 Hà Lan và Hàn Quốc   test  \n",
       "\n",
       "[23074 rows x 4 columns]"
      ]
     },
     "execution_count": 5,
     "metadata": {},
     "output_type": "execute_result"
    }
   ],
   "source": [
    "df = pd.DataFrame(ds_dict)\n",
    "df"
   ]
  },
  {
   "cell_type": "code",
   "execution_count": 6,
   "metadata": {},
   "outputs": [],
   "source": [
    "# create new column in df that measure number of tokens in input and instruction and answer\n",
    "df['input_len'] = df['input'].apply(lambda x: len(tokenizer(x)['input_ids']))\n",
    "df['instruction_len'] = df['instruction'].apply(lambda x: len(tokenizer(x)['input_ids']))\n",
    "df['answer_len'] = df['answer'].apply(lambda x: len(tokenizer(x)['input_ids']))"
   ]
  },
  {
   "cell_type": "code",
   "execution_count": 7,
   "metadata": {},
   "outputs": [
    {
     "data": {
      "text/html": [
       "<div>\n",
       "<style scoped>\n",
       "    .dataframe tbody tr th:only-of-type {\n",
       "        vertical-align: middle;\n",
       "    }\n",
       "\n",
       "    .dataframe tbody tr th {\n",
       "        vertical-align: top;\n",
       "    }\n",
       "\n",
       "    .dataframe thead th {\n",
       "        text-align: right;\n",
       "    }\n",
       "</style>\n",
       "<table border=\"1\" class=\"dataframe\">\n",
       "  <thead>\n",
       "    <tr style=\"text-align: right;\">\n",
       "      <th></th>\n",
       "      <th>input_len</th>\n",
       "      <th>instruction_len</th>\n",
       "      <th>answer_len</th>\n",
       "    </tr>\n",
       "  </thead>\n",
       "  <tbody>\n",
       "    <tr>\n",
       "      <th>count</th>\n",
       "      <td>23074.000000</td>\n",
       "      <td>23074.000000</td>\n",
       "      <td>23074.000000</td>\n",
       "    </tr>\n",
       "    <tr>\n",
       "      <th>mean</th>\n",
       "      <td>387.504681</td>\n",
       "      <td>31.839430</td>\n",
       "      <td>22.476554</td>\n",
       "    </tr>\n",
       "    <tr>\n",
       "      <th>std</th>\n",
       "      <td>152.812110</td>\n",
       "      <td>10.366111</td>\n",
       "      <td>23.381766</td>\n",
       "    </tr>\n",
       "    <tr>\n",
       "      <th>min</th>\n",
       "      <td>181.000000</td>\n",
       "      <td>4.000000</td>\n",
       "      <td>2.000000</td>\n",
       "    </tr>\n",
       "    <tr>\n",
       "      <th>25%</th>\n",
       "      <td>285.000000</td>\n",
       "      <td>24.000000</td>\n",
       "      <td>6.000000</td>\n",
       "    </tr>\n",
       "    <tr>\n",
       "      <th>50%</th>\n",
       "      <td>347.000000</td>\n",
       "      <td>31.000000</td>\n",
       "      <td>14.000000</td>\n",
       "    </tr>\n",
       "    <tr>\n",
       "      <th>75%</th>\n",
       "      <td>444.000000</td>\n",
       "      <td>38.000000</td>\n",
       "      <td>30.750000</td>\n",
       "    </tr>\n",
       "    <tr>\n",
       "      <th>max</th>\n",
       "      <td>3318.000000</td>\n",
       "      <td>108.000000</td>\n",
       "      <td>360.000000</td>\n",
       "    </tr>\n",
       "  </tbody>\n",
       "</table>\n",
       "</div>"
      ],
      "text/plain": [
       "          input_len  instruction_len    answer_len\n",
       "count  23074.000000     23074.000000  23074.000000\n",
       "mean     387.504681        31.839430     22.476554\n",
       "std      152.812110        10.366111     23.381766\n",
       "min      181.000000         4.000000      2.000000\n",
       "25%      285.000000        24.000000      6.000000\n",
       "50%      347.000000        31.000000     14.000000\n",
       "75%      444.000000        38.000000     30.750000\n",
       "max     3318.000000       108.000000    360.000000"
      ]
     },
     "execution_count": 7,
     "metadata": {},
     "output_type": "execute_result"
    }
   ],
   "source": [
    "df.describe()"
   ]
  },
  {
   "cell_type": "code",
   "execution_count": 8,
   "metadata": {},
   "outputs": [
    {
     "data": {
      "text/html": [
       "<div>\n",
       "<style scoped>\n",
       "    .dataframe tbody tr th:only-of-type {\n",
       "        vertical-align: middle;\n",
       "    }\n",
       "\n",
       "    .dataframe tbody tr th {\n",
       "        vertical-align: top;\n",
       "    }\n",
       "\n",
       "    .dataframe thead th {\n",
       "        text-align: right;\n",
       "    }\n",
       "</style>\n",
       "<table border=\"1\" class=\"dataframe\">\n",
       "  <thead>\n",
       "    <tr style=\"text-align: right;\">\n",
       "      <th></th>\n",
       "      <th>instruction</th>\n",
       "      <th>input</th>\n",
       "      <th>answer</th>\n",
       "      <th>split</th>\n",
       "      <th>input_len</th>\n",
       "      <th>instruction_len</th>\n",
       "      <th>answer_len</th>\n",
       "    </tr>\n",
       "  </thead>\n",
       "  <tbody>\n",
       "    <tr>\n",
       "      <th>0</th>\n",
       "      <td>Tên gọi nào được Phạm Văn Đồng sử dụng khi làm...</td>\n",
       "      <td>Phạm Văn Đồng (1 tháng 3 năm 1906 – 29 tháng 4...</td>\n",
       "      <td>Lâm Bá Kiệt</td>\n",
       "      <td>train</td>\n",
       "      <td>295</td>\n",
       "      <td>53</td>\n",
       "      <td>6</td>\n",
       "    </tr>\n",
       "    <tr>\n",
       "      <th>1</th>\n",
       "      <td>Phạm Văn Đồng giữ chức vụ gì trong bộ máy Nhà ...</td>\n",
       "      <td>Phạm Văn Đồng (1 tháng 3 năm 1906 – 29 tháng 4...</td>\n",
       "      <td>Thủ tướng</td>\n",
       "      <td>train</td>\n",
       "      <td>295</td>\n",
       "      <td>43</td>\n",
       "      <td>6</td>\n",
       "    </tr>\n",
       "    <tr>\n",
       "      <th>2</th>\n",
       "      <td>Giai đoạn năm 1955-1976, Phạm Văn Đồng nắm giữ...</td>\n",
       "      <td>Phạm Văn Đồng (1 tháng 3 năm 1906 – 29 tháng 4...</td>\n",
       "      <td>Thủ tướng Chính phủ Việt Nam Dân chủ Cộng hòa</td>\n",
       "      <td>train</td>\n",
       "      <td>295</td>\n",
       "      <td>33</td>\n",
       "      <td>21</td>\n",
       "    </tr>\n",
       "    <tr>\n",
       "      <th>3</th>\n",
       "      <td>Sự kiện quan trọng nào đã diễn ra vào ngày 20/...</td>\n",
       "      <td>Năm 1954, ông được giao nhiệm vụ Trưởng phái đ...</td>\n",
       "      <td>bản Hiệp định đình chỉ chiến sự ở Việt Nam, Ca...</td>\n",
       "      <td>train</td>\n",
       "      <td>235</td>\n",
       "      <td>24</td>\n",
       "      <td>70</td>\n",
       "    </tr>\n",
       "    <tr>\n",
       "      <th>4</th>\n",
       "      <td>Chức vụ mà Phạm Văn Đồng đảm nhiệm tại Hội ngh...</td>\n",
       "      <td>Năm 1954, ông được giao nhiệm vụ Trưởng phái đ...</td>\n",
       "      <td>Trưởng phái đoàn Chính phủ</td>\n",
       "      <td>train</td>\n",
       "      <td>235</td>\n",
       "      <td>35</td>\n",
       "      <td>11</td>\n",
       "    </tr>\n",
       "    <tr>\n",
       "      <th>...</th>\n",
       "      <td>...</td>\n",
       "      <td>...</td>\n",
       "      <td>...</td>\n",
       "      <td>...</td>\n",
       "      <td>...</td>\n",
       "      <td>...</td>\n",
       "      <td>...</td>\n",
       "    </tr>\n",
       "    <tr>\n",
       "      <th>23069</th>\n",
       "      <td>Nếu những yêu cầu mà bộ nhớ Squid không thể th...</td>\n",
       "      <td>Các yêu cầu trang được gửi cho tầng máy Squid ...</td>\n",
       "      <td>được gửi qua các máy chủ cân bằng tải (load-ba...</td>\n",
       "      <td>test</td>\n",
       "      <td>333</td>\n",
       "      <td>44</td>\n",
       "      <td>38</td>\n",
       "    </tr>\n",
       "    <tr>\n",
       "      <th>23070</th>\n",
       "      <td>Cần làm gì để tăng tốc độ trả lời cho người ch...</td>\n",
       "      <td>Các yêu cầu trang được gửi cho tầng máy Squid ...</td>\n",
       "      <td>các trang được kết xuất cho người chưa đăng nh...</td>\n",
       "      <td>test</td>\n",
       "      <td>333</td>\n",
       "      <td>34</td>\n",
       "      <td>40</td>\n",
       "    </tr>\n",
       "    <tr>\n",
       "      <th>23071</th>\n",
       "      <td>Các máy chủ cân bằng tải gửi yêu cầu cho máy c...</td>\n",
       "      <td>Các yêu cầu trang được gửi cho tầng máy Squid ...</td>\n",
       "      <td>kết xuất trang dùng dữ liệu từ CSDL</td>\n",
       "      <td>test</td>\n",
       "      <td>333</td>\n",
       "      <td>39</td>\n",
       "      <td>18</td>\n",
       "    </tr>\n",
       "    <tr>\n",
       "      <th>23072</th>\n",
       "      <td>Để giải quyết các yêu cầu thì máy chủ web có n...</td>\n",
       "      <td>Các yêu cầu trang được gửi cho tầng máy Squid ...</td>\n",
       "      <td>gửi lại những trang được yêu cầu và kết xuất t...</td>\n",
       "      <td>test</td>\n",
       "      <td>333</td>\n",
       "      <td>31</td>\n",
       "      <td>39</td>\n",
       "    </tr>\n",
       "    <tr>\n",
       "      <th>23073</th>\n",
       "      <td>Các nhóm máy chủ lớn giải quyết những nhu cầu ...</td>\n",
       "      <td>Các yêu cầu trang được gửi cho tầng máy Squid ...</td>\n",
       "      <td>Hà Lan và Hàn Quốc</td>\n",
       "      <td>test</td>\n",
       "      <td>333</td>\n",
       "      <td>32</td>\n",
       "      <td>10</td>\n",
       "    </tr>\n",
       "  </tbody>\n",
       "</table>\n",
       "<p>19608 rows × 7 columns</p>\n",
       "</div>"
      ],
      "text/plain": [
       "                                             instruction  \\\n",
       "0      Tên gọi nào được Phạm Văn Đồng sử dụng khi làm...   \n",
       "1      Phạm Văn Đồng giữ chức vụ gì trong bộ máy Nhà ...   \n",
       "2      Giai đoạn năm 1955-1976, Phạm Văn Đồng nắm giữ...   \n",
       "3      Sự kiện quan trọng nào đã diễn ra vào ngày 20/...   \n",
       "4      Chức vụ mà Phạm Văn Đồng đảm nhiệm tại Hội ngh...   \n",
       "...                                                  ...   \n",
       "23069  Nếu những yêu cầu mà bộ nhớ Squid không thể th...   \n",
       "23070  Cần làm gì để tăng tốc độ trả lời cho người ch...   \n",
       "23071  Các máy chủ cân bằng tải gửi yêu cầu cho máy c...   \n",
       "23072  Để giải quyết các yêu cầu thì máy chủ web có n...   \n",
       "23073  Các nhóm máy chủ lớn giải quyết những nhu cầu ...   \n",
       "\n",
       "                                                   input  \\\n",
       "0      Phạm Văn Đồng (1 tháng 3 năm 1906 – 29 tháng 4...   \n",
       "1      Phạm Văn Đồng (1 tháng 3 năm 1906 – 29 tháng 4...   \n",
       "2      Phạm Văn Đồng (1 tháng 3 năm 1906 – 29 tháng 4...   \n",
       "3      Năm 1954, ông được giao nhiệm vụ Trưởng phái đ...   \n",
       "4      Năm 1954, ông được giao nhiệm vụ Trưởng phái đ...   \n",
       "...                                                  ...   \n",
       "23069  Các yêu cầu trang được gửi cho tầng máy Squid ...   \n",
       "23070  Các yêu cầu trang được gửi cho tầng máy Squid ...   \n",
       "23071  Các yêu cầu trang được gửi cho tầng máy Squid ...   \n",
       "23072  Các yêu cầu trang được gửi cho tầng máy Squid ...   \n",
       "23073  Các yêu cầu trang được gửi cho tầng máy Squid ...   \n",
       "\n",
       "                                                  answer  split  input_len  \\\n",
       "0                                            Lâm Bá Kiệt  train        295   \n",
       "1                                              Thủ tướng  train        295   \n",
       "2          Thủ tướng Chính phủ Việt Nam Dân chủ Cộng hòa  train        295   \n",
       "3      bản Hiệp định đình chỉ chiến sự ở Việt Nam, Ca...  train        235   \n",
       "4                             Trưởng phái đoàn Chính phủ  train        235   \n",
       "...                                                  ...    ...        ...   \n",
       "23069  được gửi qua các máy chủ cân bằng tải (load-ba...   test        333   \n",
       "23070  các trang được kết xuất cho người chưa đăng nh...   test        333   \n",
       "23071                kết xuất trang dùng dữ liệu từ CSDL   test        333   \n",
       "23072  gửi lại những trang được yêu cầu và kết xuất t...   test        333   \n",
       "23073                                 Hà Lan và Hàn Quốc   test        333   \n",
       "\n",
       "       instruction_len  answer_len  \n",
       "0                   53           6  \n",
       "1                   43           6  \n",
       "2                   33          21  \n",
       "3                   24          70  \n",
       "4                   35          11  \n",
       "...                ...         ...  \n",
       "23069               44          38  \n",
       "23070               34          40  \n",
       "23071               39          18  \n",
       "23072               31          39  \n",
       "23073               32          10  \n",
       "\n",
       "[19608 rows x 7 columns]"
      ]
     },
     "execution_count": 8,
     "metadata": {},
     "output_type": "execute_result"
    }
   ],
   "source": [
    "# only get those has context length less than 512 tokens\n",
    "df = df[df['input_len'] < 512]\n",
    "df"
   ]
  },
  {
   "cell_type": "code",
   "execution_count": 9,
   "metadata": {},
   "outputs": [
    {
     "name": "stderr",
     "output_type": "stream",
     "text": [
      "/tmp/ipykernel_2706835/1894269207.py:1: SettingWithCopyWarning: \n",
      "A value is trying to be set on a copy of a slice from a DataFrame.\n",
      "Try using .loc[row_indexer,col_indexer] = value instead\n",
      "\n",
      "See the caveats in the documentation: https://pandas.pydata.org/pandas-docs/stable/user_guide/indexing.html#returning-a-view-versus-a-copy\n",
      "  df.loc[:, 'prompt'] = df.apply(prompt_input, axis=1)\n"
     ]
    }
   ],
   "source": [
    "df.loc[:, 'prompt'] = df.apply(prompt_input, axis=1)"
   ]
  },
  {
   "cell_type": "code",
   "execution_count": 10,
   "metadata": {},
   "outputs": [
    {
     "name": "stderr",
     "output_type": "stream",
     "text": [
      "/tmp/ipykernel_2706835/442272497.py:1: SettingWithCopyWarning: \n",
      "A value is trying to be set on a copy of a slice from a DataFrame.\n",
      "Try using .loc[row_indexer,col_indexer] = value instead\n",
      "\n",
      "See the caveats in the documentation: https://pandas.pydata.org/pandas-docs/stable/user_guide/indexing.html#returning-a-view-versus-a-copy\n",
      "  df['prompt_len'] = df['prompt'].apply(lambda x: len(tokenizer(x)['input_ids']))\n"
     ]
    },
    {
     "data": {
      "text/html": [
       "<div>\n",
       "<style scoped>\n",
       "    .dataframe tbody tr th:only-of-type {\n",
       "        vertical-align: middle;\n",
       "    }\n",
       "\n",
       "    .dataframe tbody tr th {\n",
       "        vertical-align: top;\n",
       "    }\n",
       "\n",
       "    .dataframe thead th {\n",
       "        text-align: right;\n",
       "    }\n",
       "</style>\n",
       "<table border=\"1\" class=\"dataframe\">\n",
       "  <thead>\n",
       "    <tr style=\"text-align: right;\">\n",
       "      <th></th>\n",
       "      <th>input_len</th>\n",
       "      <th>instruction_len</th>\n",
       "      <th>answer_len</th>\n",
       "      <th>prompt_len</th>\n",
       "    </tr>\n",
       "  </thead>\n",
       "  <tbody>\n",
       "    <tr>\n",
       "      <th>count</th>\n",
       "      <td>19608.000000</td>\n",
       "      <td>19608.000000</td>\n",
       "      <td>19608.000000</td>\n",
       "      <td>19608.000000</td>\n",
       "    </tr>\n",
       "    <tr>\n",
       "      <th>mean</th>\n",
       "      <td>339.357711</td>\n",
       "      <td>31.648664</td>\n",
       "      <td>21.623164</td>\n",
       "      <td>423.006375</td>\n",
       "    </tr>\n",
       "    <tr>\n",
       "      <th>std</th>\n",
       "      <td>75.354180</td>\n",
       "      <td>10.330319</td>\n",
       "      <td>22.233965</td>\n",
       "      <td>76.576828</td>\n",
       "    </tr>\n",
       "    <tr>\n",
       "      <th>min</th>\n",
       "      <td>181.000000</td>\n",
       "      <td>5.000000</td>\n",
       "      <td>2.000000</td>\n",
       "      <td>246.000000</td>\n",
       "    </tr>\n",
       "    <tr>\n",
       "      <th>25%</th>\n",
       "      <td>277.000000</td>\n",
       "      <td>24.000000</td>\n",
       "      <td>6.000000</td>\n",
       "      <td>360.000000</td>\n",
       "    </tr>\n",
       "    <tr>\n",
       "      <th>50%</th>\n",
       "      <td>327.000000</td>\n",
       "      <td>30.000000</td>\n",
       "      <td>13.000000</td>\n",
       "      <td>411.000000</td>\n",
       "    </tr>\n",
       "    <tr>\n",
       "      <th>75%</th>\n",
       "      <td>397.000000</td>\n",
       "      <td>38.000000</td>\n",
       "      <td>30.000000</td>\n",
       "      <td>481.000000</td>\n",
       "    </tr>\n",
       "    <tr>\n",
       "      <th>max</th>\n",
       "      <td>511.000000</td>\n",
       "      <td>108.000000</td>\n",
       "      <td>360.000000</td>\n",
       "      <td>633.000000</td>\n",
       "    </tr>\n",
       "  </tbody>\n",
       "</table>\n",
       "</div>"
      ],
      "text/plain": [
       "          input_len  instruction_len    answer_len    prompt_len\n",
       "count  19608.000000     19608.000000  19608.000000  19608.000000\n",
       "mean     339.357711        31.648664     21.623164    423.006375\n",
       "std       75.354180        10.330319     22.233965     76.576828\n",
       "min      181.000000         5.000000      2.000000    246.000000\n",
       "25%      277.000000        24.000000      6.000000    360.000000\n",
       "50%      327.000000        30.000000     13.000000    411.000000\n",
       "75%      397.000000        38.000000     30.000000    481.000000\n",
       "max      511.000000       108.000000    360.000000    633.000000"
      ]
     },
     "execution_count": 10,
     "metadata": {},
     "output_type": "execute_result"
    }
   ],
   "source": [
    "df['prompt_len'] = df['prompt'].apply(lambda x: len(tokenizer(x)['input_ids']))\n",
    "df.describe()"
   ]
  },
  {
   "cell_type": "code",
   "execution_count": 11,
   "metadata": {},
   "outputs": [
    {
     "data": {
      "text/plain": [
       "Dataset({\n",
       "    features: ['prompt', 'answer'],\n",
       "    num_rows: 19608\n",
       "})"
      ]
     },
     "execution_count": 11,
     "metadata": {},
     "output_type": "execute_result"
    }
   ],
   "source": [
    "dataset_instruct = Dataset.from_pandas(df[['prompt', 'answer']], preserve_index=False)\n",
    "dataset_instruct"
   ]
  },
  {
   "cell_type": "code",
   "execution_count": 12,
   "metadata": {},
   "outputs": [
    {
     "name": "stdout",
     "output_type": "stream",
     "text": [
      "> Tokenizing dataset...\n"
     ]
    },
    {
     "name": "stderr",
     "output_type": "stream",
     "text": [
      "Map: 100%|██████████| 19608/19608 [00:03<00:00, 5446.67 examples/s]"
     ]
    },
    {
     "name": "stdout",
     "output_type": "stream",
     "text": [
      ">> Dataset is ready:\n",
      "Dataset({\n",
      "    features: ['input_ids', 'attention_mask', 'labels'],\n",
      "    num_rows: 19608\n",
      "})\n"
     ]
    },
    {
     "name": "stderr",
     "output_type": "stream",
     "text": [
      "\n"
     ]
    }
   ],
   "source": [
    "def tokenize(samples, tokenizer, input_field, label_field, max_length=MAX_LENGTH):\n",
    "    # Tokenize\n",
    "    tokenized_input = tokenizer(samples[input_field], max_length=max_length, padding=False, truncation=True, add_special_tokens=True)\n",
    "    tokenized_label = tokenizer(samples[label_field], max_length=max_length, padding=False, truncation=True, add_special_tokens=True)\n",
    "\n",
    "    return {\n",
    "        'input_ids': tokenized_input['input_ids'],\n",
    "        'attention_mask': tokenized_input['attention_mask'],\n",
    "        'labels': tokenized_label['input_ids']\n",
    "    }\n",
    "\n",
    "print(\"> Tokenizing dataset...\")\n",
    "dataset_tokenized = dataset_instruct.map(\n",
    "    lambda x: tokenize(x, tokenizer, \"prompt\", \"answer\"),\n",
    "    batched=True,\n",
    "    remove_columns=[\"prompt\", \"answer\"],\n",
    ")\n",
    "\n",
    "print(\">> Dataset is ready:\")\n",
    "print(dataset_tokenized)"
   ]
  },
  {
   "cell_type": "code",
   "execution_count": 14,
   "metadata": {},
   "outputs": [
    {
     "name": "stdout",
     "output_type": "stream",
     "text": [
      "Below is an instruction that describes a task, paired with an input that provides further context. Write a response that appropriately completes the request. ### Instruction: Tên gọi nào được Phạm Văn Đồng sử dụng khi làm Phó chủ nhiệm cơ quan Biện sự xứ tại Quế Lâm? ### Input: Phạm Văn Đồng (1 tháng 3 năm 1906 – 29 tháng 4 năm 2000) là Thủ tướng đầu tiên của nước Cộng hòa Xã hội chủ nghĩa Việt Nam từ năm 1976 (từ năm 1981 gọi là Chủ tịch Hội đồng Bộ trưởng) cho đến khi nghỉ hưu năm 1987. Trước đó ông từng giữ chức vụ Thủ tướng Chính phủ Việt Nam Dân chủ Cộng hòa từ năm 1955 đến năm 1976. Ông là vị Thủ tướng Việt Nam tại vị lâu nhất (1955–1987). Ông là học trò, cộng sự của Chủ tịch Hồ Chí Minh. Ông có tên gọi thân mật là Tô, đây từng là bí danh của ông. Ông còn có tên gọi là Lâm Bá Kiệt khi làm Phó chủ nhiệm cơ quan Biện sự xứ tại Quế Lâm (Chủ nhiệm là Hồ Học Lãm). ### Response:</s>\n"
     ]
    }
   ],
   "source": [
    "print(\n",
    "    tokenizer.decode(dataset_tokenized[0]['input_ids'], skip_special_tokens=False)\n",
    ")"
   ]
  },
  {
   "cell_type": "code",
   "execution_count": 15,
   "metadata": {},
   "outputs": [
    {
     "name": "stdout",
     "output_type": "stream",
     "text": [
      "Lâm Bá Kiệt</s>\n"
     ]
    }
   ],
   "source": [
    "print(\n",
    "    tokenizer.decode(dataset_tokenized[0]['labels'], skip_special_tokens=False)\n",
    ")"
   ]
  },
  {
   "cell_type": "code",
   "execution_count": 16,
   "metadata": {},
   "outputs": [
    {
     "name": "stdout",
     "output_type": "stream",
     "text": [
      "> Pushing to hub: vi-mT5-QA-ViQuAD_v1.1\n"
     ]
    },
    {
     "name": "stderr",
     "output_type": "stream",
     "text": [
      "Creating parquet from Arrow format: 100%|██████████| 20/20 [00:00<00:00, 86.17ba/s]\n",
      "Uploading the dataset shards: 100%|██████████| 1/1 [00:06<00:00,  6.63s/it]\n"
     ]
    },
    {
     "data": {
      "text/plain": [
       "CommitInfo(commit_url='https://huggingface.co/datasets/nqv2291/vi-mT5-QA-ViQuAD_v1.1/commit/1eb66561822bd0225853c79706adba917dfefe13', commit_message='Upload dataset', commit_description='', oid='1eb66561822bd0225853c79706adba917dfefe13', pr_url=None, pr_revision=None, pr_num=None)"
      ]
     },
     "execution_count": 16,
     "metadata": {},
     "output_type": "execute_result"
    }
   ],
   "source": [
    "output_repo = 'vi-mT5-QA-ViQuAD_v1.1'\n",
    "print(f\"> Pushing to hub: {output_repo}\")\n",
    "dataset_tokenized.push_to_hub(output_repo)"
   ]
  },
  {
   "cell_type": "markdown",
   "metadata": {},
   "source": [
    "## Pretrain data"
   ]
  },
  {
   "cell_type": "code",
   "execution_count": null,
   "metadata": {},
   "outputs": [],
   "source": []
  }
 ],
 "metadata": {
  "kernelspec": {
   "display_name": "vietnq-ner",
   "language": "python",
   "name": "python3"
  },
  "language_info": {
   "codemirror_mode": {
    "name": "ipython",
    "version": 3
   },
   "file_extension": ".py",
   "mimetype": "text/x-python",
   "name": "python",
   "nbconvert_exporter": "python",
   "pygments_lexer": "ipython3",
   "version": "3.12.3"
  }
 },
 "nbformat": 4,
 "nbformat_minor": 2
}
