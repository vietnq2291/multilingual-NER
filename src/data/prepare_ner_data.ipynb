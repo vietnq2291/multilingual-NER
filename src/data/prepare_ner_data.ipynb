{
 "cells": [
  {
   "cell_type": "markdown",
   "metadata": {},
   "source": [
    "# mT5"
   ]
  },
  {
   "cell_type": "code",
   "execution_count": 1,
   "metadata": {},
   "outputs": [
    {
     "name": "stderr",
     "output_type": "stream",
     "text": [
      "/home/vietnq/.miniconda3/envs/thesis/lib/python3.12/site-packages/tqdm/auto.py:21: TqdmWarning: IProgress not found. Please update jupyter and ipywidgets. See https://ipywidgets.readthedocs.io/en/stable/user_install.html\n",
      "  from .autonotebook import tqdm as notebook_tqdm\n"
     ]
    }
   ],
   "source": [
    "from datasets import load_dataset, Dataset, DatasetDict\n",
    "from transformers import MT5TokenizerFast, MT5ForConditionalGeneration\n",
    "\n",
    "import re, glob, random\n",
    "from collections import defaultdict\n",
    "from itertools import groupby\n",
    "import pandas as pd\n",
    "import matplotlib.pyplot as plt\n",
    "\n",
    "from data_utils.utils import *"
   ]
  },
  {
   "cell_type": "code",
   "execution_count": 2,
   "metadata": {},
   "outputs": [],
   "source": [
    "MAX_LENGTH = 1024\n",
    "model_id = 'google/mt5-base'"
   ]
  },
  {
   "cell_type": "code",
   "execution_count": 3,
   "metadata": {},
   "outputs": [
    {
     "name": "stderr",
     "output_type": "stream",
     "text": [
      "You are using the default legacy behaviour of the <class 'transformers.models.t5.tokenization_t5.T5Tokenizer'>. This is expected, and simply means that the `legacy` (previous) behavior will be used so nothing changes for you. If you want to use the new behaviour, set `legacy=False`. This should only be set if you understand what it means, and thoroughly read the reason why this was added as explained in https://github.com/huggingface/transformers/pull/24565\n",
      "/home/vietnq/.miniconda3/envs/thesis/lib/python3.12/site-packages/transformers/convert_slow_tokenizer.py:560: UserWarning: The sentencepiece tokenizer that you are converting to a fast tokenizer uses the byte fallback option which is not implemented in the fast tokenizers. In practice this means that the fast version of the tokenizer can produce unknown tokens whereas the sentencepiece version would have converted these unknown tokens into a sequence of byte tokens matching the original piece of text.\n",
      "  warnings.warn(\n"
     ]
    },
    {
     "name": "stdout",
     "output_type": "stream",
     "text": [
      "BOS: None\n",
      "SEP: None\n",
      "PAD: <pad>\n",
      "EOS: </s>\n"
     ]
    }
   ],
   "source": [
    "# Setup tokenizer\n",
    "tokenizer = MT5TokenizerFast.from_pretrained(model_id)\n",
    "\n",
    "print('BOS:', tokenizer.bos_token)\n",
    "print('SEP:', tokenizer.sep_token)\n",
    "print('PAD:', tokenizer.pad_token)\n",
    "print('EOS:', tokenizer.eos_token)"
   ]
  },
  {
   "cell_type": "markdown",
   "metadata": {},
   "source": [
    "### 1. Dataset `Universal-NER/Pile-NER-type`"
   ]
  },
  {
   "cell_type": "markdown",
   "metadata": {},
   "source": [
    "#### Load dataset"
   ]
  },
  {
   "cell_type": "code",
   "execution_count": 43,
   "metadata": {},
   "outputs": [],
   "source": [
    "# output repo in huggingface\n",
    "output_repo = 'en-mT5-ner-open_domain'\n",
    "eval_repo = 'eval-en-mT5-ner-open_domain'"
   ]
  },
  {
   "cell_type": "code",
   "execution_count": 44,
   "metadata": {},
   "outputs": [
    {
     "data": {
      "text/plain": [
       "Dataset({\n",
       "    features: ['id', 'conversations'],\n",
       "    num_rows: 45889\n",
       "})"
      ]
     },
     "execution_count": 44,
     "metadata": {},
     "output_type": "execute_result"
    }
   ],
   "source": [
    "en_open_ner = load_dataset('Universal-NER/Pile-NER-type', split='train')\n",
    "en_open_ner"
   ]
  },
  {
   "cell_type": "code",
   "execution_count": 45,
   "metadata": {},
   "outputs": [
    {
     "data": {
      "text/plain": [
       "{'id': 'ner_232',\n",
       " 'conversations': [{'from': 'human',\n",
       "   'value': 'Text: N-(X-chlorophenyl)-4-hydroxy-2-methyl-2H-1,2-benzothiazine-3-carboxamide 1,1-dioxide (with X = 2 and 4). The structures of N-(2-chlorophenyl)-4-hydroxy-2-methyl-2H-1,2-benzothiazine-3-carboxamide 1,1-dioxide and N-(4-chlorophenyl)-4-hydroxy-2-methyl-2H-1,2-benzothiazine-3-carboxamide 1,1-dioxide, both C16H13ClN2O4S, are stabilized by extensive intramolecular hydrogen bonds. The 4-chloro derivative forms dimeric pairs of molecules lying about inversion centres as a result of intermolecular N-H...O hydrogen bonds, forming 14-membered rings representing an R2(2)(14) motif; the 2-chloro derivative is devoid of any such intermolecular hydrogen bonds. The heterocyclic thiazine rings in both structures adopt half-chair conformations.'},\n",
       "  {'from': 'gpt', 'value': \"I've read this text.\"},\n",
       "  {'from': 'human', 'value': 'What describes Relationship in the text?'},\n",
       "  {'from': 'gpt', 'value': '[]'},\n",
       "  {'from': 'human', 'value': 'What describes chemical in the text?'},\n",
       "  {'from': 'gpt',\n",
       "   'value': '[\"N-(X-chlorophenyl)-4-hydroxy-2-methyl-2H-1,2-benzothiazine-3-carboxamide 1,1-dioxide\", \"N-(2-chlorophenyl)-4-hydroxy-2-methyl-2H-1,2-benzothiazine-3-carboxamide 1,1-dioxide\", \"N-(4-chlorophenyl)-4-hydroxy-2-methyl-2H-1,2-benzothiazine-3-carboxamide 1,1-dioxide\", \"C16H13ClN2O4S\", \"intramolecular hydrogen bonds\", \"4-chloro derivative\", \"dimeric pairs\", \"inversion centres\", \"intermolecular N-H...O hydrogen bonds\", \"14-membered rings\", \"R2(2)(14) motif\", \"2-chloro derivative\", \"heterocyclic thiazine rings\", \"half-chair conformations\"]'}]}"
      ]
     },
     "execution_count": 45,
     "metadata": {},
     "output_type": "execute_result"
    }
   ],
   "source": [
    "en_open_ner[232]"
   ]
  },
  {
   "cell_type": "markdown",
   "metadata": {},
   "source": [
    "#### Make instruction dataset and clean it"
   ]
  },
  {
   "cell_type": "code",
   "execution_count": 46,
   "metadata": {},
   "outputs": [
    {
     "name": "stdout",
     "output_type": "stream",
     "text": [
      "> Making instruction dataset...\n"
     ]
    },
    {
     "name": "stderr",
     "output_type": "stream",
     "text": [
      "Map: 100%|██████████| 45889/45889 [00:09<00:00, 4604.17 examples/s]"
     ]
    },
    {
     "name": "stdout",
     "output_type": "stream",
     "text": [
      "labelled ds: Dataset({\n",
      "    features: ['id', 'text', 'label', 'entity_type', 'input_para'],\n",
      "    num_rows: 358181\n",
      "})\n"
     ]
    },
    {
     "name": "stderr",
     "output_type": "stream",
     "text": [
      "\n"
     ]
    }
   ],
   "source": [
    "# Make instruction data\n",
    "def make_instruction_data(samples):\n",
    "    ids, texts, labels, entity_types, input_paras = [], [], [], [], []\n",
    "\n",
    "    for sample_id, sample_conv in zip(samples['id'], samples['conversations']):\n",
    "        cur_input_para = sample_conv[0]['value'].strip()\n",
    "        for i in range(2, len(sample_conv), 2):\n",
    "            cur_id = str(sample_id) + '_' + str(i//2)\n",
    "\n",
    "            user_question = sample_conv[i]['value'].strip()\n",
    "            cur_entity_type = re.search(r'(?<=describes\\s)(.*?)(?=\\sin)', user_question).group(0).strip()\n",
    "            cur_instruction = user_question.replace(cur_entity_type, cur_entity_type.lower())\n",
    "            cur_text = prompt_input({\n",
    "                'instruction': cur_instruction,\n",
    "                'input': cur_input_para,\n",
    "            })\n",
    "\n",
    "            cur_label = sample_conv[i+1]['value'].strip()\n",
    "\n",
    "            ids.append(cur_id)\n",
    "            texts.append(cur_text)\n",
    "            labels.append(cur_label)\n",
    "            entity_types.append(cur_entity_type)\n",
    "            input_paras.append(cur_input_para)\n",
    "    return {\n",
    "        'id': ids,\n",
    "        'text': texts,\n",
    "        'label': labels,\n",
    "        'entity_type': entity_types,\n",
    "        'input_para': input_paras,\n",
    "    }\n",
    "\n",
    "print(\"> Making instruction dataset...\")\n",
    "en_open_ner_instruct = en_open_ner.map(\n",
    "    make_instruction_data, batched=True, remove_columns=en_open_ner.column_names\n",
    ")\n",
    "print(\"labelled ds:\", en_open_ner_instruct)"
   ]
  },
  {
   "cell_type": "code",
   "execution_count": 47,
   "metadata": {},
   "outputs": [
    {
     "data": {
      "text/html": [
       "<div>\n",
       "<style scoped>\n",
       "    .dataframe tbody tr th:only-of-type {\n",
       "        vertical-align: middle;\n",
       "    }\n",
       "\n",
       "    .dataframe tbody tr th {\n",
       "        vertical-align: top;\n",
       "    }\n",
       "\n",
       "    .dataframe thead th {\n",
       "        text-align: right;\n",
       "    }\n",
       "</style>\n",
       "<table border=\"1\" class=\"dataframe\">\n",
       "  <thead>\n",
       "    <tr style=\"text-align: right;\">\n",
       "      <th></th>\n",
       "      <th>id</th>\n",
       "      <th>text</th>\n",
       "      <th>label</th>\n",
       "      <th>entity_type</th>\n",
       "      <th>input_para</th>\n",
       "    </tr>\n",
       "  </thead>\n",
       "  <tbody>\n",
       "    <tr>\n",
       "      <th>0</th>\n",
       "      <td>ner_0_1</td>\n",
       "      <td>Below is an instruction that describes a task,...</td>\n",
       "      <td>[\"function\"]</td>\n",
       "      <td>programming concept</td>\n",
       "      <td>Text: Q:\\n\\nPosition character based on enemy ...</td>\n",
       "    </tr>\n",
       "    <tr>\n",
       "      <th>1</th>\n",
       "      <td>ner_0_2</td>\n",
       "      <td>Below is an instruction that describes a task,...</td>\n",
       "      <td>[\"lua\"]</td>\n",
       "      <td>programming language</td>\n",
       "      <td>Text: Q:\\n\\nPosition character based on enemy ...</td>\n",
       "    </tr>\n",
       "    <tr>\n",
       "      <th>2</th>\n",
       "      <td>ner_0_3</td>\n",
       "      <td>Below is an instruction that describes a task,...</td>\n",
       "      <td>[]</td>\n",
       "      <td>database</td>\n",
       "      <td>Text: Q:\\n\\nPosition character based on enemy ...</td>\n",
       "    </tr>\n",
       "    <tr>\n",
       "      <th>3</th>\n",
       "      <td>ner_0_4</td>\n",
       "      <td>Below is an instruction that describes a task,...</td>\n",
       "      <td>[\"myPosition\", \"enemyPosition\", \"xValue\", \"yVa...</td>\n",
       "      <td>variable</td>\n",
       "      <td>Text: Q:\\n\\nPosition character based on enemy ...</td>\n",
       "    </tr>\n",
       "    <tr>\n",
       "      <th>4</th>\n",
       "      <td>ner_0_5</td>\n",
       "      <td>Below is an instruction that describes a task,...</td>\n",
       "      <td>[]</td>\n",
       "      <td>Date</td>\n",
       "      <td>Text: Q:\\n\\nPosition character based on enemy ...</td>\n",
       "    </tr>\n",
       "    <tr>\n",
       "      <th>...</th>\n",
       "      <td>...</td>\n",
       "      <td>...</td>\n",
       "      <td>...</td>\n",
       "      <td>...</td>\n",
       "      <td>...</td>\n",
       "    </tr>\n",
       "    <tr>\n",
       "      <th>358176</th>\n",
       "      <td>ner_45888_10</td>\n",
       "      <td>Below is an instruction that describes a task,...</td>\n",
       "      <td>[\"factorial analyses of variance\"]</td>\n",
       "      <td>method</td>\n",
       "      <td>Text: Automatic and Controlled Emotion Regulat...</td>\n",
       "    </tr>\n",
       "    <tr>\n",
       "      <th>358177</th>\n",
       "      <td>ner_45888_11</td>\n",
       "      <td>Below is an instruction that describes a task,...</td>\n",
       "      <td>[]</td>\n",
       "      <td>Person</td>\n",
       "      <td>Text: Automatic and Controlled Emotion Regulat...</td>\n",
       "    </tr>\n",
       "    <tr>\n",
       "      <th>358178</th>\n",
       "      <td>ner_45888_12</td>\n",
       "      <td>Below is an instruction that describes a task,...</td>\n",
       "      <td>[\"young adults\", \"older adults\"]</td>\n",
       "      <td>group</td>\n",
       "      <td>Text: Automatic and Controlled Emotion Regulat...</td>\n",
       "    </tr>\n",
       "    <tr>\n",
       "      <th>358179</th>\n",
       "      <td>ner_45888_13</td>\n",
       "      <td>Below is an instruction that describes a task,...</td>\n",
       "      <td>[]</td>\n",
       "      <td>email</td>\n",
       "      <td>Text: Automatic and Controlled Emotion Regulat...</td>\n",
       "    </tr>\n",
       "    <tr>\n",
       "      <th>358180</th>\n",
       "      <td>ner_45888_14</td>\n",
       "      <td>Below is an instruction that describes a task,...</td>\n",
       "      <td>[\"videos\"]</td>\n",
       "      <td>object</td>\n",
       "      <td>Text: Automatic and Controlled Emotion Regulat...</td>\n",
       "    </tr>\n",
       "  </tbody>\n",
       "</table>\n",
       "<p>358181 rows × 5 columns</p>\n",
       "</div>"
      ],
      "text/plain": [
       "                  id                                               text  \\\n",
       "0            ner_0_1  Below is an instruction that describes a task,...   \n",
       "1            ner_0_2  Below is an instruction that describes a task,...   \n",
       "2            ner_0_3  Below is an instruction that describes a task,...   \n",
       "3            ner_0_4  Below is an instruction that describes a task,...   \n",
       "4            ner_0_5  Below is an instruction that describes a task,...   \n",
       "...              ...                                                ...   \n",
       "358176  ner_45888_10  Below is an instruction that describes a task,...   \n",
       "358177  ner_45888_11  Below is an instruction that describes a task,...   \n",
       "358178  ner_45888_12  Below is an instruction that describes a task,...   \n",
       "358179  ner_45888_13  Below is an instruction that describes a task,...   \n",
       "358180  ner_45888_14  Below is an instruction that describes a task,...   \n",
       "\n",
       "                                                    label  \\\n",
       "0                                            [\"function\"]   \n",
       "1                                                 [\"lua\"]   \n",
       "2                                                      []   \n",
       "3       [\"myPosition\", \"enemyPosition\", \"xValue\", \"yVa...   \n",
       "4                                                      []   \n",
       "...                                                   ...   \n",
       "358176                 [\"factorial analyses of variance\"]   \n",
       "358177                                                 []   \n",
       "358178                   [\"young adults\", \"older adults\"]   \n",
       "358179                                                 []   \n",
       "358180                                         [\"videos\"]   \n",
       "\n",
       "                 entity_type  \\\n",
       "0        programming concept   \n",
       "1       programming language   \n",
       "2                   database   \n",
       "3                   variable   \n",
       "4                       Date   \n",
       "...                      ...   \n",
       "358176                method   \n",
       "358177                Person   \n",
       "358178                 group   \n",
       "358179                 email   \n",
       "358180                object   \n",
       "\n",
       "                                               input_para  \n",
       "0       Text: Q:\\n\\nPosition character based on enemy ...  \n",
       "1       Text: Q:\\n\\nPosition character based on enemy ...  \n",
       "2       Text: Q:\\n\\nPosition character based on enemy ...  \n",
       "3       Text: Q:\\n\\nPosition character based on enemy ...  \n",
       "4       Text: Q:\\n\\nPosition character based on enemy ...  \n",
       "...                                                   ...  \n",
       "358176  Text: Automatic and Controlled Emotion Regulat...  \n",
       "358177  Text: Automatic and Controlled Emotion Regulat...  \n",
       "358178  Text: Automatic and Controlled Emotion Regulat...  \n",
       "358179  Text: Automatic and Controlled Emotion Regulat...  \n",
       "358180  Text: Automatic and Controlled Emotion Regulat...  \n",
       "\n",
       "[358181 rows x 5 columns]"
      ]
     },
     "execution_count": 47,
     "metadata": {},
     "output_type": "execute_result"
    }
   ],
   "source": [
    "df_raw = pd.DataFrame(en_open_ner_instruct)\n",
    "df_raw"
   ]
  },
  {
   "cell_type": "code",
   "execution_count": 48,
   "metadata": {},
   "outputs": [
    {
     "data": {
      "text/plain": [
       "str"
      ]
     },
     "execution_count": 48,
     "metadata": {},
     "output_type": "execute_result"
    }
   ],
   "source": [
    "type(df_raw['label'][0])"
   ]
  },
  {
   "cell_type": "code",
   "execution_count": 49,
   "metadata": {},
   "outputs": [],
   "source": [
    "df = df_raw.copy()\n",
    "df['entity_type_lower'] = df['entity_type'].str.lower()"
   ]
  },
  {
   "cell_type": "code",
   "execution_count": 50,
   "metadata": {},
   "outputs": [
    {
     "data": {
      "text/plain": [
       "(15461,\n",
       " entity_type\n",
       " person          13706\n",
       " Person          11857\n",
       " organization    11831\n",
       " Organization    11157\n",
       " location        10196\n",
       " Location         9479\n",
       " concept          7523\n",
       " Date             6304\n",
       " product          6262\n",
       " date             5071\n",
       " event            3773\n",
       " group            3701\n",
       " technology       3463\n",
       " Event            3032\n",
       " object           3015\n",
       " software         2892\n",
       " Product          2821\n",
       " measurement      2624\n",
       " Nationality      2571\n",
       " variable         2522\n",
       " Name: count, dtype: int64)"
      ]
     },
     "execution_count": 50,
     "metadata": {},
     "output_type": "execute_result"
    }
   ],
   "source": [
    "counts = df['entity_type'].value_counts(sort=True)\n",
    "counts.size, counts[:20]"
   ]
  },
  {
   "cell_type": "code",
   "execution_count": 51,
   "metadata": {},
   "outputs": [
    {
     "data": {
      "text/plain": [
       "(12870,\n",
       " entity_type_lower\n",
       " person               25929\n",
       " organization         23231\n",
       " location             19888\n",
       " date                 11742\n",
       " concept               9908\n",
       " product               9178\n",
       " event                 6887\n",
       " technology            4866\n",
       " group                 4530\n",
       " medical condition     3853\n",
       " nationality           3610\n",
       " object                3602\n",
       " software              3502\n",
       " disease               3212\n",
       " measurement           3131\n",
       " time                  2954\n",
       " title                 2851\n",
       " country               2757\n",
       " variable              2670\n",
       " process               2561\n",
       " Name: count, dtype: int64)"
      ]
     },
     "execution_count": 51,
     "metadata": {},
     "output_type": "execute_result"
    }
   ],
   "source": [
    "counts = df['entity_type_lower'].value_counts(sort=True)\n",
    "counts.size, counts[:20]"
   ]
  },
  {
   "cell_type": "code",
   "execution_count": 52,
   "metadata": {},
   "outputs": [
    {
     "data": {
      "text/plain": [
       "(119862, 358181)"
      ]
     },
     "execution_count": 52,
     "metadata": {},
     "output_type": "execute_result"
    }
   ],
   "source": [
    "# No negative examples vs total\n",
    "df[df['label'] == '[]'].shape[0], df.shape[0]"
   ]
  },
  {
   "cell_type": "code",
   "execution_count": 53,
   "metadata": {},
   "outputs": [
    {
     "data": {
      "text/plain": [
       "((358181, 6), (354402, 6))"
      ]
     },
     "execution_count": 53,
     "metadata": {},
     "output_type": "execute_result"
    }
   ],
   "source": [
    "cleaned_df = df.drop_duplicates(subset=['input_para', 'entity_type_lower', 'label'])\n",
    "df.shape, cleaned_df.shape"
   ]
  },
  {
   "cell_type": "code",
   "execution_count": 54,
   "metadata": {},
   "outputs": [
    {
     "data": {
      "text/plain": [
       "Dataset({\n",
       "    features: ['id', 'text', 'label'],\n",
       "    num_rows: 354402\n",
       "})"
      ]
     },
     "execution_count": 54,
     "metadata": {},
     "output_type": "execute_result"
    }
   ],
   "source": [
    "en_open_ner_cleaned = Dataset.from_pandas(cleaned_df[['id', 'text', 'label']], preserve_index=False)\n",
    "en_open_ner_cleaned"
   ]
  },
  {
   "cell_type": "markdown",
   "metadata": {},
   "source": [
    "#### Convey the lengths of samples in dataset"
   ]
  },
  {
   "cell_type": "code",
   "execution_count": 55,
   "metadata": {},
   "outputs": [
    {
     "name": "stderr",
     "output_type": "stream",
     "text": [
      "Map:   0%|          | 0/354402 [00:00<?, ? examples/s]"
     ]
    },
    {
     "name": "stderr",
     "output_type": "stream",
     "text": [
      "Map: 100%|██████████| 354402/354402 [05:14<00:00, 1127.39 examples/s]\n"
     ]
    },
    {
     "data": {
      "image/png": "[encoded data removed]",
      "text/plain": [
       "<Figure size 1000x800 with 2 Axes>"
      ]
     },
     "metadata": {},
     "output_type": "display_data"
    },
    {
     "name": "stdout",
     "output_type": "stream",
     "text": [
      "Max text length: 2449\n",
      "Max label length: 1237\n",
      "Current limit: MAX_LENGTH = 1024\n"
     ]
    }
   ],
   "source": [
    "en_open_ner_cleaned_with_length = en_open_ner_cleaned.map(\n",
    "    lambda samples: {\n",
    "        'len_text': [len(x) for x in tokenizer(samples['text'], padding=False, truncation=False, add_special_tokens=True)['input_ids']],\n",
    "        'len_label': [len(x) for x in tokenizer(samples['label'], padding=False, truncation=False, add_special_tokens=True)['input_ids']],\n",
    "    },\n",
    "    batched=True\n",
    ")\n",
    "\n",
    "plt.figure(figsize=(10, 8))\n",
    "plt.subplot(1, 2, 1)\n",
    "plt.hist(en_open_ner_cleaned_with_length['len_text'])\n",
    "plt.title('Text lengths')\n",
    "\n",
    "plt.subplot(1, 2, 2)\n",
    "plt.hist(en_open_ner_cleaned_with_length['len_label'])\n",
    "plt.title('Label lengths')\n",
    "\n",
    "plt.show()\n",
    "\n",
    "print('Max text length:', max(en_open_ner_cleaned_with_length['len_text']))\n",
    "print('Max label length:', max(en_open_ner_cleaned_with_length['len_label']))\n",
    "print('Current limit: MAX_LENGTH =', MAX_LENGTH)"
   ]
  },
  {
   "cell_type": "markdown",
   "metadata": {},
   "source": [
    "Drop those samples that having lengths exceed the pre-defined MAX LENGTH"
   ]
  },
  {
   "cell_type": "code",
   "execution_count": 56,
   "metadata": {},
   "outputs": [
    {
     "name": "stderr",
     "output_type": "stream",
     "text": [
      "Filter: 100%|██████████| 354402/354402 [00:06<00:00, 57695.01 examples/s]\n"
     ]
    }
   ],
   "source": [
    "en_open_ner_cleaned_dropped = en_open_ner_cleaned_with_length.filter(\n",
    "    lambda example: (example['len_text'] <= MAX_LENGTH) and (example['len_label'] <= MAX_LENGTH)\n",
    ")"
   ]
  },
  {
   "cell_type": "code",
   "execution_count": 57,
   "metadata": {},
   "outputs": [
    {
     "name": "stderr",
     "output_type": "stream",
     "text": [
      "Map:   0%|          | 0/354261 [00:00<?, ? examples/s]"
     ]
    },
    {
     "name": "stderr",
     "output_type": "stream",
     "text": [
      "Map: 100%|██████████| 354261/354261 [05:00<00:00, 1177.94 examples/s]\n"
     ]
    },
    {
     "data": {
      "image/png": "[encoded data removed]",
      "text/plain": [
       "<Figure size 1000x800 with 2 Axes>"
      ]
     },
     "metadata": {},
     "output_type": "display_data"
    },
    {
     "name": "stdout",
     "output_type": "stream",
     "text": [
      "Max text length: 1021\n",
      "Max label length: 1008\n",
      "Current limit: MAX_LENGTH = 1024\n"
     ]
    }
   ],
   "source": [
    "token_lengths = en_open_ner_cleaned_dropped.map(\n",
    "    lambda samples: {\n",
    "        'len_text': [len(x) for x in tokenizer(samples['text'], padding=False, truncation=False, add_special_tokens=True)['input_ids']],\n",
    "        'len_label': [len(x) for x in tokenizer(samples['label'], padding=False, truncation=False, add_special_tokens=True)['input_ids']],\n",
    "    },\n",
    "    batched=True\n",
    ")\n",
    "\n",
    "plt.figure(figsize=(10, 8))\n",
    "plt.subplot(1, 2, 1)\n",
    "plt.hist(token_lengths['len_text'])\n",
    "plt.title('Text lengths')\n",
    "\n",
    "plt.subplot(1, 2, 2)\n",
    "plt.hist(token_lengths['len_label'])\n",
    "plt.title('Label lengths')\n",
    "\n",
    "plt.show()\n",
    "\n",
    "print('Max text length:', max(token_lengths['len_text']))\n",
    "print('Max label length:', max(token_lengths['len_label']))\n",
    "print('Current limit: MAX_LENGTH =', MAX_LENGTH)"
   ]
  },
  {
   "cell_type": "code",
   "execution_count": 21,
   "metadata": {},
   "outputs": [
    {
     "data": {
      "text/plain": [
       "Dataset({\n",
       "    features: ['id', 'text', 'label', 'len_text', 'len_label'],\n",
       "    num_rows: 354261\n",
       "})"
      ]
     },
     "execution_count": 21,
     "metadata": {},
     "output_type": "execute_result"
    }
   ],
   "source": [
    "en_open_ner_cleaned_dropped"
   ]
  },
  {
   "cell_type": "markdown",
   "metadata": {},
   "source": [
    "#### Create tokenized dataset"
   ]
  },
  {
   "cell_type": "code",
   "execution_count": 22,
   "metadata": {},
   "outputs": [
    {
     "name": "stdout",
     "output_type": "stream",
     "text": [
      "> Tokenizing dataset...\n"
     ]
    },
    {
     "name": "stderr",
     "output_type": "stream",
     "text": [
      "Map: 100%|██████████| 354261/354261 [01:11<00:00, 4925.24 examples/s]"
     ]
    },
    {
     "name": "stdout",
     "output_type": "stream",
     "text": [
      ">> Dataset is ready:\n",
      "Dataset({\n",
      "    features: ['id', 'input_ids', 'attention_mask', 'labels'],\n",
      "    num_rows: 354261\n",
      "})\n"
     ]
    },
    {
     "name": "stderr",
     "output_type": "stream",
     "text": [
      "\n"
     ]
    }
   ],
   "source": [
    "def tokenize(samples, tokenizer, input_field, label_field, max_length=MAX_LENGTH):\n",
    "    # Tokenize\n",
    "    tokenized_input = tokenizer(samples[input_field], max_length=max_length, padding=False, truncation=True, add_special_tokens=True)\n",
    "    tokenized_label = tokenizer(samples[label_field], max_length=max_length, padding=False, truncation=True, add_special_tokens=True)\n",
    "\n",
    "    return {\n",
    "        'input_ids': tokenized_input['input_ids'],\n",
    "        'attention_mask': tokenized_input['attention_mask'],\n",
    "        'labels': tokenized_label['input_ids']\n",
    "    }\n",
    "\n",
    "print(\"> Tokenizing dataset...\")\n",
    "en_open_ner_tokenized = en_open_ner_cleaned_dropped.map(\n",
    "    lambda x: tokenize(x, tokenizer, \"text\", \"label\"),\n",
    "    batched=True,\n",
    "    remove_columns=[\"text\", \"label\", \"len_text\", \"len_label\"],\n",
    ")\n",
    "\n",
    "print(\">> Dataset is ready:\")\n",
    "print(en_open_ner_tokenized)"
   ]
  },
  {
   "cell_type": "code",
   "execution_count": 23,
   "metadata": {},
   "outputs": [
    {
     "data": {
      "text/plain": [
       "\"Below is an instruction that describes a task, paired with an input that provides further context. Write a response that appropriately completes the request. ### Instruction: What describes norp in the text? ### Input: Text: Gino Mäder Gino Mäder (born 4 January 1997) is a Swiss road and track cyclist, who currently rides for UCI WorldTeam. He competed at the 2016 UEC European Track Championships in the team pursuit event. Major results 2014 4th Road race, European Junior Road Championships 9th Overall Grand Prix Rüebliland 9th Overall Tour du Pays de Vaud 2015 1st Time trial, National Junior Road Championships 2nd Overall Tour du Pays de Vaud 1st Prologue & Stage 1 2nd Overall Grand Prix Rüebliland 5th Time trial, UCI Junior Road World Championships 2017 3rd Piccolo Giro di Lombardia 6th Rund um den Finanzplatz Eschborn-Frankfurt U23 2018 Tour Alsace 1st Points classification 1st Stage 4 1st Stage 4 Ronde de l'Isard 2nd Time trial, National Under–23 Road Championships 2nd Overall Tour of Hainan 1st Stage 6 3rd Overall Tour de l'Avenir 1st Stages 8 & 10 4th Road race, UCI Road World Under–23 Championships 4th G.P. Palio del Recioto References External links Category:1997 births Category:Living people Category:Swiss male cyclists Category:Swiss track cyclists Category:Place of birth missing (living people) ### Response:</s>\""
      ]
     },
     "execution_count": 23,
     "metadata": {},
     "output_type": "execute_result"
    }
   ],
   "source": [
    "tokenizer.decode(en_open_ner_tokenized[19]['input_ids'])"
   ]
  },
  {
   "cell_type": "code",
   "execution_count": 24,
   "metadata": {},
   "outputs": [
    {
     "data": {
      "text/plain": [
       "'[]</s>'"
      ]
     },
     "execution_count": 24,
     "metadata": {},
     "output_type": "execute_result"
    }
   ],
   "source": [
    "tokenizer.decode(en_open_ner_tokenized[19]['labels'])"
   ]
  },
  {
   "cell_type": "code",
   "execution_count": 26,
   "metadata": {},
   "outputs": [
    {
     "name": "stdout",
     "output_type": "stream",
     "text": [
      "> Pushing to hub: en-mT5-ner-open_domain\n"
     ]
    },
    {
     "name": "stderr",
     "output_type": "stream",
     "text": [
      "Creating parquet from Arrow format: 100%|██████████| 178/178 [00:01<00:00, 101.18ba/s]\n",
      "Creating parquet from Arrow format: 100%|██████████| 178/178 [00:01<00:00, 101.63ba/s]\n",
      "Uploading the dataset shards: 100%|██████████| 2/2 [00:23<00:00, 11.53s/it]\n"
     ]
    },
    {
     "data": {
      "text/plain": [
       "CommitInfo(commit_url='https://huggingface.co/datasets/nqv2291/en-mT5-ner-open_domain/commit/00f95c52a945b0c5dc66cb9a5ea6b50b8984988f', commit_message='Upload dataset', commit_description='', oid='00f95c52a945b0c5dc66cb9a5ea6b50b8984988f', pr_url=None, pr_revision=None, pr_num=None)"
      ]
     },
     "execution_count": 26,
     "metadata": {},
     "output_type": "execute_result"
    }
   ],
   "source": [
    "print(f\"> Pushing to hub: {output_repo}\")\n",
    "en_open_ner_tokenized.push_to_hub(output_repo)"
   ]
  },
  {
   "cell_type": "markdown",
   "metadata": {},
   "source": [
    "### 2. Dataset VLSP 2021 - *GOLD* data"
   ]
  },
  {
   "cell_type": "code",
   "execution_count": 23,
   "metadata": {},
   "outputs": [],
   "source": [
    "# output repo in huggingface\n",
    "output_repo = 'vi-mT5-ner-vlsp-GOLD'\n",
    "eval_repo = 'eval-vi-ner-vlsp-GOLD'"
   ]
  },
  {
   "cell_type": "code",
   "execution_count": 24,
   "metadata": {},
   "outputs": [
    {
     "data": {
      "text/plain": [
       "1500"
      ]
     },
     "execution_count": 24,
     "metadata": {},
     "output_type": "execute_result"
    }
   ],
   "source": [
    "data_dirs = [\n",
    "    'datasets/NER_VLSP_2021/NER-Data-Muc',\n",
    "    'datasets/NER_VLSP_2021/Data-Muc-Addition'\n",
    "]\n",
    "data_paths = [path for data_dir in data_dirs for path in glob.glob(data_dir+'/*')]\n",
    "len(data_paths)"
   ]
  },
  {
   "cell_type": "code",
   "execution_count": 25,
   "metadata": {},
   "outputs": [
    {
     "data": {
      "text/plain": [
       "(1050, 210, 240)"
      ]
     },
     "execution_count": 25,
     "metadata": {},
     "output_type": "execute_result"
    }
   ],
   "source": [
    "# dev paths are path that start with \"0_dev\"\n",
    "# test paths are path that start with \"1_test\"\n",
    "# train paths are the rest\n",
    "dev_paths = [path for path in data_paths if path.split('/')[-1].startswith('0_dev')]\n",
    "test_paths = [path for path in data_paths if path.split('/')[-1].startswith('1_test')]\n",
    "train_paths = [path for path in data_paths if (path not in dev_paths) and (path not in test_paths)]\n",
    "\n",
    "len(train_paths), len(dev_paths), len(test_paths)"
   ]
  },
  {
   "cell_type": "code",
   "execution_count": 26,
   "metadata": {},
   "outputs": [
    {
     "data": {
      "text/plain": [
       "DatasetDict({\n",
       "    train: Dataset({\n",
       "        features: ['file_path', 'split'],\n",
       "        num_rows: 1050\n",
       "    })\n",
       "    dev: Dataset({\n",
       "        features: ['file_path', 'split'],\n",
       "        num_rows: 210\n",
       "    })\n",
       "    test: Dataset({\n",
       "        features: ['file_path', 'split'],\n",
       "        num_rows: 240\n",
       "    })\n",
       "})"
      ]
     },
     "execution_count": 26,
     "metadata": {},
     "output_type": "execute_result"
    }
   ],
   "source": [
    "vi_vlsp_ner = DatasetDict({\n",
    "    'train': Dataset.from_dict({'file_path': train_paths, 'split': ['train']*len(train_paths)}),\n",
    "    'dev': Dataset.from_dict({'file_path': dev_paths, 'split': ['dev']*len(dev_paths)}),\n",
    "    'test': Dataset.from_dict({'file_path': test_paths, 'split': ['test']*len(test_paths)}),\n",
    "})\n",
    "vi_vlsp_ner"
   ]
  },
  {
   "cell_type": "code",
   "execution_count": 27,
   "metadata": {},
   "outputs": [
    {
     "name": "stderr",
     "output_type": "stream",
     "text": [
      "Map:   0%|          | 0/1050 [00:00<?, ? examples/s]"
     ]
    },
    {
     "name": "stderr",
     "output_type": "stream",
     "text": [
      "Map: 100%|██████████| 1050/1050 [00:00<00:00, 4249.19 examples/s]\n",
      "Map: 100%|██████████| 210/210 [00:00<00:00, 5420.63 examples/s]\n",
      "Map: 100%|██████████| 240/240 [00:00<00:00, 3502.88 examples/s]\n"
     ]
    },
    {
     "data": {
      "text/plain": [
       "DatasetDict({\n",
       "    train: Dataset({\n",
       "        features: ['split', 'input_para', 'entity_type', 'label'],\n",
       "        num_rows: 25970\n",
       "    })\n",
       "    dev: Dataset({\n",
       "        features: ['split', 'input_para', 'entity_type', 'label'],\n",
       "        num_rows: 4373\n",
       "    })\n",
       "    test: Dataset({\n",
       "        features: ['split', 'input_para', 'entity_type', 'label'],\n",
       "        num_rows: 8619\n",
       "    })\n",
       "})"
      ]
     },
     "execution_count": 27,
     "metadata": {},
     "output_type": "execute_result"
    }
   ],
   "source": [
    "def parse_muc_data(text):\n",
    "    # parse each sample NER data text into a dictionary:\n",
    "    # key \"text\": The text after remove all labels\n",
    "    # key \"entities\": a list of tuples, each tuple contains the entity type and the entity text\n",
    "    samples = defaultdict(list)\n",
    "    \n",
    "    for line in text.split('\\n'):\n",
    "        if not line:\n",
    "            continue        \n",
    "        \n",
    "        # extract entities\n",
    "        entities = re.findall(r'<ENAMEX TYPE=\"([^\"]*)\">([^<]*)</ENAMEX>', line)\n",
    "        # remove all labels to get the text\n",
    "        line = re.sub(r'<ENAMEX[^>]*>', '', line)\n",
    "        line = re.sub(r'</ENAMEX>', '', line)\n",
    "\n",
    "        entity_dict = defaultdict(list)\n",
    "        for entity_type, entity_text in set(entities):\n",
    "            entity_dict[entity_type].append(entity_text)\n",
    "\n",
    "        for entity_type, entity_texts in entity_dict.items():\n",
    "            samples['input_para'].append(line)\n",
    "            samples['entity_type'].append(entity_type)\n",
    "            samples['label'].append(entity_texts)\n",
    "\n",
    "    return samples\n",
    "\n",
    "def read_muc_files(file_paths, splits):\n",
    "    # read all MUC files and parse them\n",
    "    samples = defaultdict(list)\n",
    "    for file_path, split in zip(file_paths, splits):\n",
    "        with open(file_path, 'r') as f:\n",
    "            text = f.read()\n",
    "            samples_in_text = parse_muc_data(text)\n",
    "            samples['input_para'].extend(samples_in_text['input_para'])\n",
    "            samples['entity_type'].extend(samples_in_text['entity_type'])\n",
    "            samples['label'].extend(samples_in_text['label'])\n",
    "            samples['split'].extend([split]*len(samples_in_text['input_para']))\n",
    "            \n",
    "    return samples\n",
    "\n",
    "vi_vlsp_ner_parsed = vi_vlsp_ner.map(\n",
    "    lambda x: read_muc_files(x['file_path'], x['split']),\n",
    "    batched=True,\n",
    "    remove_columns=['file_path']\n",
    ")\n",
    "vi_vlsp_ner_parsed"
   ]
  },
  {
   "cell_type": "code",
   "execution_count": 28,
   "metadata": {},
   "outputs": [
    {
     "name": "stderr",
     "output_type": "stream",
     "text": [
      "Map:   0%|          | 0/25970 [00:00<?, ? examples/s]"
     ]
    },
    {
     "name": "stderr",
     "output_type": "stream",
     "text": [
      "Map: 100%|██████████| 25970/25970 [00:00<00:00, 66904.17 examples/s]\n",
      "Map: 100%|██████████| 4373/4373 [00:00<00:00, 70396.59 examples/s]\n",
      "Map: 100%|██████████| 8619/8619 [00:00<00:00, 78337.64 examples/s]\n"
     ]
    },
    {
     "data": {
      "text/plain": [
       "DatasetDict({\n",
       "    train: Dataset({\n",
       "        features: ['split', 'input_para', 'entity_type', 'label'],\n",
       "        num_rows: 25587\n",
       "    })\n",
       "    dev: Dataset({\n",
       "        features: ['split', 'input_para', 'entity_type', 'label'],\n",
       "        num_rows: 4304\n",
       "    })\n",
       "    test: Dataset({\n",
       "        features: ['split', 'input_para', 'entity_type', 'label'],\n",
       "        num_rows: 8543\n",
       "    })\n",
       "})"
      ]
     },
     "execution_count": 28,
     "metadata": {},
     "output_type": "execute_result"
    }
   ],
   "source": [
    "# ref: https://learn.microsoft.com/en-in/azure/ai-services/language-service/named-entity-recognition/concepts/named-entity-categories?tabs=ga-api#category-location\n",
    "\n",
    "# entity_types_to_drop = ['*', 'MISCELLANEOUS']\n",
    "entity_type_map = {\n",
    "    'ADDRESS': ['address'],\n",
    "    'DATETIME': ['datetime'],\n",
    "    'DATETIME-DATE': ['date', 'calendar date', 'datetime-date'],\n",
    "    'DATETIME-DATERANGE': ['date range', 'datetime-daterange'],\n",
    "    'DATETIME-DURATION': ['duration', 'datetime-duration'],\n",
    "    'DATETIME-SET': ['set', 'repeated time', 'datetime-set'],\n",
    "    'DATETIME-TIME': ['time', 'time of day', 'datetime-time'],\n",
    "    'DATETIME-TIMERANGE': ['time range', 'datetime-timerange'],\n",
    "    'EMAIL': ['email'],\n",
    "    'EVENT': ['event'],\n",
    "    'EVENT-CUL': ['cultural event', 'holiday', 'event-cul'],\n",
    "    'EVENT-GAMESHOW': ['game show', 'event-gameshow'],\n",
    "    'EVENT-NATURAL': ['natural event', 'event-natural'],\n",
    "    'EVENT-SPORT': ['sport event', 'event-sport'],\n",
    "    'IP': ['ip'],\n",
    "    'LOCATION': ['location'],\n",
    "    'LOCATION-GEO': ['geographical location', 'location-geo'],\n",
    "    'LOCATION-GPE': ['geopolitical entity', 'location-gpe'],\n",
    "    'LOCATION-STRUC': ['manmade structure', 'location-struc'],\n",
    "    'ORGANIZATION': ['organization'],\n",
    "    'ORGANIZATION-MED': ['medical organization', 'organization-med'],\n",
    "    'ORGANIZATION-SPORTS': ['sport-related organization', 'organization-sports'],\n",
    "    'ORGANIZATION-STOCK': ['stock organization', 'organization-stock'],\n",
    "    'PERSON': ['person'],\n",
    "    'PERSONTYPE': ['person role', 'persontype'],\n",
    "    'PHONENUMBER': ['phone number', 'phonenumber'],\n",
    "    'PRODUCT': ['product'],\n",
    "    'PRODUCT-AWARD': ['award', 'product-award'],\n",
    "    'PRODUCT-COM': ['product-com'],\n",
    "    'PRODUCT-LEGAL': ['legal', 'product-legal'],\n",
    "    'QUANTITY': ['quantity'],\n",
    "    'QUANTITY-AGE': ['age', 'quantity-age'],\n",
    "    'QUANTITY-CUR': ['currency', 'quantity-cur'],\n",
    "    'QUANTITY-DIM': ['dimension', 'measurements', 'quantity-dim'],\n",
    "    'QUANTITY-NUM': ['number', 'quantity-num'],\n",
    "    'QUANTITY-ORD': ['ordinal number', 'quantity-ord'],\n",
    "    'QUANTITY-PER': ['percentage', 'quantity-per'],\n",
    "    'QUANTITY-TEM': ['temperature', 'quantity-tem'],\n",
    "    'SKILL': ['skill'],\n",
    "    'URL': ['url'],\n",
    "}\n",
    "\n",
    "def update_entity_type(samples):\n",
    "    new_samples = defaultdict(list)\n",
    "    for input_para, label, entity_type, split in zip(samples['input_para'], samples['label'], samples['entity_type'], samples['split']):\n",
    "        if entity_type in entity_type_map:\n",
    "            new_samples['input_para'].append(input_para)\n",
    "            new_samples['label'].append(label)\n",
    "            new_samples['entity_type'].append(\n",
    "                random.choice(entity_type_map[entity_type])\n",
    "            )\n",
    "            new_samples['split'].append(split)\n",
    "\n",
    "    return new_samples\n",
    "\n",
    "vi_vlsp_ner_renamed = vi_vlsp_ner_parsed.map(\n",
    "    lambda x: update_entity_type(x),\n",
    "    batched=True\n",
    "\n",
    ")\n",
    "vi_vlsp_ner_renamed"
   ]
  },
  {
   "cell_type": "code",
   "execution_count": 29,
   "metadata": {},
   "outputs": [
    {
     "data": {
      "text/html": [
       "<div>\n",
       "<style scoped>\n",
       "    .dataframe tbody tr th:only-of-type {\n",
       "        vertical-align: middle;\n",
       "    }\n",
       "\n",
       "    .dataframe tbody tr th {\n",
       "        vertical-align: top;\n",
       "    }\n",
       "\n",
       "    .dataframe thead th {\n",
       "        text-align: right;\n",
       "    }\n",
       "</style>\n",
       "<table border=\"1\" class=\"dataframe\">\n",
       "  <thead>\n",
       "    <tr style=\"text-align: right;\">\n",
       "      <th></th>\n",
       "      <th>split</th>\n",
       "      <th>input_para</th>\n",
       "      <th>entity_type</th>\n",
       "      <th>label</th>\n",
       "    </tr>\n",
       "  </thead>\n",
       "  <tbody>\n",
       "    <tr>\n",
       "      <th>0</th>\n",
       "      <td>train</td>\n",
       "      <td>Tổng LĐLĐVN : Sẽ tuyên dương 100 Chủ tịch Công...</td>\n",
       "      <td>organization</td>\n",
       "      <td>[Tổng LĐLĐVN]</td>\n",
       "    </tr>\n",
       "    <tr>\n",
       "      <th>1</th>\n",
       "      <td>train</td>\n",
       "      <td>100 Chủ tịch Công đoàn cơ sở ( CĐCS ) trong cá...</td>\n",
       "      <td>location</td>\n",
       "      <td>[Hà Nội]</td>\n",
       "    </tr>\n",
       "    <tr>\n",
       "      <th>2</th>\n",
       "      <td>train</td>\n",
       "      <td>100 Chủ tịch Công đoàn cơ sở ( CĐCS ) trong cá...</td>\n",
       "      <td>organization</td>\n",
       "      <td>[Tổng LĐLĐVN]</td>\n",
       "    </tr>\n",
       "    <tr>\n",
       "      <th>3</th>\n",
       "      <td>train</td>\n",
       "      <td>Đoàn Chủ tịch Liên đoàn vừa ban hành Kế hoạch ...</td>\n",
       "      <td>organization</td>\n",
       "      <td>[Tổng LĐLĐVN]</td>\n",
       "    </tr>\n",
       "    <tr>\n",
       "      <th>4</th>\n",
       "      <td>train</td>\n",
       "      <td>Theo Phó Chủ tịch Tổng LĐLĐVN Mai Đức Chính , ...</td>\n",
       "      <td>person role</td>\n",
       "      <td>[Phó Chủ tịch]</td>\n",
       "    </tr>\n",
       "    <tr>\n",
       "      <th>...</th>\n",
       "      <td>...</td>\n",
       "      <td>...</td>\n",
       "      <td>...</td>\n",
       "      <td>...</td>\n",
       "    </tr>\n",
       "    <tr>\n",
       "      <th>38429</th>\n",
       "      <td>test</td>\n",
       "      <td>- Rồi xôn xao chuyện lương cô giáo mầm non với...</td>\n",
       "      <td>quantity-cur</td>\n",
       "      <td>[1,3 triệu đồng]</td>\n",
       "    </tr>\n",
       "    <tr>\n",
       "      <th>38430</th>\n",
       "      <td>test</td>\n",
       "      <td>- Chưa hết. Trong khi đội ngũ tiến sĩ của nền ...</td>\n",
       "      <td>quantity</td>\n",
       "      <td>[9000 tiến sĩ]</td>\n",
       "    </tr>\n",
       "    <tr>\n",
       "      <th>38431</th>\n",
       "      <td>test</td>\n",
       "      <td>- Chưa hết. Trong khi đội ngũ tiến sĩ của nền ...</td>\n",
       "      <td>currency</td>\n",
       "      <td>[12.000 tỷ]</td>\n",
       "    </tr>\n",
       "    <tr>\n",
       "      <th>38432</th>\n",
       "      <td>test</td>\n",
       "      <td>- Có lẽ chỉ chấm phá như thế cũng đủ để thấy, ...</td>\n",
       "      <td>datetime</td>\n",
       "      <td>[năm 2017]</td>\n",
       "    </tr>\n",
       "    <tr>\n",
       "      <th>38433</th>\n",
       "      <td>test</td>\n",
       "      <td>- Đúng vậy. Có như thế bức tranh kinh tế - xã ...</td>\n",
       "      <td>datetime</td>\n",
       "      <td>[năm 2018]</td>\n",
       "    </tr>\n",
       "  </tbody>\n",
       "</table>\n",
       "<p>38434 rows × 4 columns</p>\n",
       "</div>"
      ],
      "text/plain": [
       "       split                                         input_para   entity_type  \\\n",
       "0      train  Tổng LĐLĐVN : Sẽ tuyên dương 100 Chủ tịch Công...  organization   \n",
       "1      train  100 Chủ tịch Công đoàn cơ sở ( CĐCS ) trong cá...      location   \n",
       "2      train  100 Chủ tịch Công đoàn cơ sở ( CĐCS ) trong cá...  organization   \n",
       "3      train  Đoàn Chủ tịch Liên đoàn vừa ban hành Kế hoạch ...  organization   \n",
       "4      train  Theo Phó Chủ tịch Tổng LĐLĐVN Mai Đức Chính , ...   person role   \n",
       "...      ...                                                ...           ...   \n",
       "38429   test  - Rồi xôn xao chuyện lương cô giáo mầm non với...  quantity-cur   \n",
       "38430   test  - Chưa hết. Trong khi đội ngũ tiến sĩ của nền ...      quantity   \n",
       "38431   test  - Chưa hết. Trong khi đội ngũ tiến sĩ của nền ...      currency   \n",
       "38432   test  - Có lẽ chỉ chấm phá như thế cũng đủ để thấy, ...      datetime   \n",
       "38433   test  - Đúng vậy. Có như thế bức tranh kinh tế - xã ...      datetime   \n",
       "\n",
       "                  label  \n",
       "0         [Tổng LĐLĐVN]  \n",
       "1              [Hà Nội]  \n",
       "2         [Tổng LĐLĐVN]  \n",
       "3         [Tổng LĐLĐVN]  \n",
       "4        [Phó Chủ tịch]  \n",
       "...                 ...  \n",
       "38429  [1,3 triệu đồng]  \n",
       "38430    [9000 tiến sĩ]  \n",
       "38431       [12.000 tỷ]  \n",
       "38432        [năm 2017]  \n",
       "38433        [năm 2018]  \n",
       "\n",
       "[38434 rows x 4 columns]"
      ]
     },
     "execution_count": 29,
     "metadata": {},
     "output_type": "execute_result"
    }
   ],
   "source": [
    "# turn into dataframe\n",
    "df = pd.concat([\n",
    "        vi_vlsp_ner_renamed['train'].to_pandas(), \n",
    "        vi_vlsp_ner_renamed['dev'].to_pandas(), \n",
    "        vi_vlsp_ner_renamed['test'].to_pandas()\n",
    "    ], \n",
    "    ignore_index=True)\n",
    "df"
   ]
  },
  {
   "cell_type": "code",
   "execution_count": 30,
   "metadata": {},
   "outputs": [
    {
     "name": "stdout",
     "output_type": "stream",
     "text": [
      "<class 'numpy.ndarray'>\n",
      "<class 'list'>\n"
     ]
    }
   ],
   "source": [
    "print(type(df.loc[0, 'label']))\n",
    "df['label'] = df['label'].map(lambda x: x.tolist())\n",
    "print(type(df.loc[0, 'label']))"
   ]
  },
  {
   "cell_type": "code",
   "execution_count": 31,
   "metadata": {},
   "outputs": [
    {
     "data": {
      "text/html": [
       "<div>\n",
       "<style scoped>\n",
       "    .dataframe tbody tr th:only-of-type {\n",
       "        vertical-align: middle;\n",
       "    }\n",
       "\n",
       "    .dataframe tbody tr th {\n",
       "        vertical-align: top;\n",
       "    }\n",
       "\n",
       "    .dataframe thead th {\n",
       "        text-align: right;\n",
       "    }\n",
       "</style>\n",
       "<table border=\"1\" class=\"dataframe\">\n",
       "  <thead>\n",
       "    <tr style=\"text-align: right;\">\n",
       "      <th></th>\n",
       "      <th>split</th>\n",
       "      <th>input_para</th>\n",
       "      <th>entity_type</th>\n",
       "      <th>label</th>\n",
       "      <th>prompt</th>\n",
       "    </tr>\n",
       "  </thead>\n",
       "  <tbody>\n",
       "    <tr>\n",
       "      <th>0</th>\n",
       "      <td>train</td>\n",
       "      <td>Tổng LĐLĐVN : Sẽ tuyên dương 100 Chủ tịch Công...</td>\n",
       "      <td>organization</td>\n",
       "      <td>[Tổng LĐLĐVN]</td>\n",
       "      <td>Below is an instruction that describes a task,...</td>\n",
       "    </tr>\n",
       "    <tr>\n",
       "      <th>1</th>\n",
       "      <td>train</td>\n",
       "      <td>100 Chủ tịch Công đoàn cơ sở ( CĐCS ) trong cá...</td>\n",
       "      <td>location</td>\n",
       "      <td>[Hà Nội]</td>\n",
       "      <td>Below is an instruction that describes a task,...</td>\n",
       "    </tr>\n",
       "    <tr>\n",
       "      <th>2</th>\n",
       "      <td>train</td>\n",
       "      <td>100 Chủ tịch Công đoàn cơ sở ( CĐCS ) trong cá...</td>\n",
       "      <td>organization</td>\n",
       "      <td>[Tổng LĐLĐVN]</td>\n",
       "      <td>Below is an instruction that describes a task,...</td>\n",
       "    </tr>\n",
       "    <tr>\n",
       "      <th>3</th>\n",
       "      <td>train</td>\n",
       "      <td>Đoàn Chủ tịch Liên đoàn vừa ban hành Kế hoạch ...</td>\n",
       "      <td>organization</td>\n",
       "      <td>[Tổng LĐLĐVN]</td>\n",
       "      <td>Below is an instruction that describes a task,...</td>\n",
       "    </tr>\n",
       "    <tr>\n",
       "      <th>4</th>\n",
       "      <td>train</td>\n",
       "      <td>Theo Phó Chủ tịch Tổng LĐLĐVN Mai Đức Chính , ...</td>\n",
       "      <td>person role</td>\n",
       "      <td>[Phó Chủ tịch]</td>\n",
       "      <td>Below is an instruction that describes a task,...</td>\n",
       "    </tr>\n",
       "    <tr>\n",
       "      <th>...</th>\n",
       "      <td>...</td>\n",
       "      <td>...</td>\n",
       "      <td>...</td>\n",
       "      <td>...</td>\n",
       "      <td>...</td>\n",
       "    </tr>\n",
       "    <tr>\n",
       "      <th>38429</th>\n",
       "      <td>test</td>\n",
       "      <td>- Rồi xôn xao chuyện lương cô giáo mầm non với...</td>\n",
       "      <td>quantity-cur</td>\n",
       "      <td>[1,3 triệu đồng]</td>\n",
       "      <td>Below is an instruction that describes a task,...</td>\n",
       "    </tr>\n",
       "    <tr>\n",
       "      <th>38430</th>\n",
       "      <td>test</td>\n",
       "      <td>- Chưa hết. Trong khi đội ngũ tiến sĩ của nền ...</td>\n",
       "      <td>quantity</td>\n",
       "      <td>[9000 tiến sĩ]</td>\n",
       "      <td>Below is an instruction that describes a task,...</td>\n",
       "    </tr>\n",
       "    <tr>\n",
       "      <th>38431</th>\n",
       "      <td>test</td>\n",
       "      <td>- Chưa hết. Trong khi đội ngũ tiến sĩ của nền ...</td>\n",
       "      <td>currency</td>\n",
       "      <td>[12.000 tỷ]</td>\n",
       "      <td>Below is an instruction that describes a task,...</td>\n",
       "    </tr>\n",
       "    <tr>\n",
       "      <th>38432</th>\n",
       "      <td>test</td>\n",
       "      <td>- Có lẽ chỉ chấm phá như thế cũng đủ để thấy, ...</td>\n",
       "      <td>datetime</td>\n",
       "      <td>[năm 2017]</td>\n",
       "      <td>Below is an instruction that describes a task,...</td>\n",
       "    </tr>\n",
       "    <tr>\n",
       "      <th>38433</th>\n",
       "      <td>test</td>\n",
       "      <td>- Đúng vậy. Có như thế bức tranh kinh tế - xã ...</td>\n",
       "      <td>datetime</td>\n",
       "      <td>[năm 2018]</td>\n",
       "      <td>Below is an instruction that describes a task,...</td>\n",
       "    </tr>\n",
       "  </tbody>\n",
       "</table>\n",
       "<p>38434 rows × 5 columns</p>\n",
       "</div>"
      ],
      "text/plain": [
       "       split                                         input_para   entity_type  \\\n",
       "0      train  Tổng LĐLĐVN : Sẽ tuyên dương 100 Chủ tịch Công...  organization   \n",
       "1      train  100 Chủ tịch Công đoàn cơ sở ( CĐCS ) trong cá...      location   \n",
       "2      train  100 Chủ tịch Công đoàn cơ sở ( CĐCS ) trong cá...  organization   \n",
       "3      train  Đoàn Chủ tịch Liên đoàn vừa ban hành Kế hoạch ...  organization   \n",
       "4      train  Theo Phó Chủ tịch Tổng LĐLĐVN Mai Đức Chính , ...   person role   \n",
       "...      ...                                                ...           ...   \n",
       "38429   test  - Rồi xôn xao chuyện lương cô giáo mầm non với...  quantity-cur   \n",
       "38430   test  - Chưa hết. Trong khi đội ngũ tiến sĩ của nền ...      quantity   \n",
       "38431   test  - Chưa hết. Trong khi đội ngũ tiến sĩ của nền ...      currency   \n",
       "38432   test  - Có lẽ chỉ chấm phá như thế cũng đủ để thấy, ...      datetime   \n",
       "38433   test  - Đúng vậy. Có như thế bức tranh kinh tế - xã ...      datetime   \n",
       "\n",
       "                  label                                             prompt  \n",
       "0         [Tổng LĐLĐVN]  Below is an instruction that describes a task,...  \n",
       "1              [Hà Nội]  Below is an instruction that describes a task,...  \n",
       "2         [Tổng LĐLĐVN]  Below is an instruction that describes a task,...  \n",
       "3         [Tổng LĐLĐVN]  Below is an instruction that describes a task,...  \n",
       "4        [Phó Chủ tịch]  Below is an instruction that describes a task,...  \n",
       "...                 ...                                                ...  \n",
       "38429  [1,3 triệu đồng]  Below is an instruction that describes a task,...  \n",
       "38430    [9000 tiến sĩ]  Below is an instruction that describes a task,...  \n",
       "38431       [12.000 tỷ]  Below is an instruction that describes a task,...  \n",
       "38432        [năm 2017]  Below is an instruction that describes a task,...  \n",
       "38433        [năm 2018]  Below is an instruction that describes a task,...  \n",
       "\n",
       "[38434 rows x 5 columns]"
      ]
     },
     "execution_count": 31,
     "metadata": {},
     "output_type": "execute_result"
    }
   ],
   "source": [
    "# create instruction prompt\n",
    "df['prompt'] = df.apply(\n",
    "    lambda x: prompt_input({\n",
    "        'instruction': ner_instruction(x['entity_type']),\n",
    "        'input': x['input_para'],\n",
    "    }),\n",
    "    axis=1\n",
    ")\n",
    "df"
   ]
  },
  {
   "cell_type": "code",
   "execution_count": 32,
   "metadata": {},
   "outputs": [
    {
     "data": {
      "text/plain": [
       "'Below is an instruction that describes a task, paired with an input that provides further context. Write a response that appropriately completes the request.\\n\\n### Instruction: What describes organization in the text?\\n\\n### Input: Tổng LĐLĐVN : Sẽ tuyên dương 100 Chủ tịch Công đoàn cơ sở tiêu biểu\\n\\n### Response:\\n'"
      ]
     },
     "execution_count": 32,
     "metadata": {},
     "output_type": "execute_result"
    }
   ],
   "source": [
    "df.iloc[0]['prompt']"
   ]
  },
  {
   "cell_type": "code",
   "execution_count": 33,
   "metadata": {},
   "outputs": [
    {
     "data": {
      "text/plain": [
       "['Tổng LĐLĐVN']"
      ]
     },
     "execution_count": 33,
     "metadata": {},
     "output_type": "execute_result"
    }
   ],
   "source": [
    "df.iloc[0]['label']"
   ]
  },
  {
   "cell_type": "code",
   "execution_count": 34,
   "metadata": {},
   "outputs": [
    {
     "data": {
      "image/png": "[encoded data removed]",
      "text/plain": [
       "<Figure size 2000x800 with 1 Axes>"
      ]
     },
     "metadata": {},
     "output_type": "display_data"
    }
   ],
   "source": [
    "entity_types_count = df['entity_type'].value_counts()\n",
    "\n",
    "# plot bar chart\n",
    "plt.figure(figsize=(20, 8))\n",
    "plt.bar(entity_types_count.index, entity_types_count.values)\n",
    "plt.xticks(rotation=90)\n",
    "plt.title('Entity types distribution')\n",
    "plt.show()\n"
   ]
  },
  {
   "cell_type": "code",
   "execution_count": 35,
   "metadata": {},
   "outputs": [
    {
     "data": {
      "text/html": [
       "<div>\n",
       "<style scoped>\n",
       "    .dataframe tbody tr th:only-of-type {\n",
       "        vertical-align: middle;\n",
       "    }\n",
       "\n",
       "    .dataframe tbody tr th {\n",
       "        vertical-align: top;\n",
       "    }\n",
       "\n",
       "    .dataframe thead th {\n",
       "        text-align: right;\n",
       "    }\n",
       "</style>\n",
       "<table border=\"1\" class=\"dataframe\">\n",
       "  <thead>\n",
       "    <tr style=\"text-align: right;\">\n",
       "      <th></th>\n",
       "      <th>len_text</th>\n",
       "      <th>len_label</th>\n",
       "      <th>len_prompt</th>\n",
       "    </tr>\n",
       "  </thead>\n",
       "  <tbody>\n",
       "    <tr>\n",
       "      <th>count</th>\n",
       "      <td>38434.000000</td>\n",
       "      <td>38434.000000</td>\n",
       "      <td>38434.000000</td>\n",
       "    </tr>\n",
       "    <tr>\n",
       "      <th>mean</th>\n",
       "      <td>129.044180</td>\n",
       "      <td>11.768148</td>\n",
       "      <td>192.047068</td>\n",
       "    </tr>\n",
       "    <tr>\n",
       "      <th>std</th>\n",
       "      <td>93.469521</td>\n",
       "      <td>10.771210</td>\n",
       "      <td>93.486774</td>\n",
       "    </tr>\n",
       "    <tr>\n",
       "      <th>min</th>\n",
       "      <td>2.000000</td>\n",
       "      <td>4.000000</td>\n",
       "      <td>64.000000</td>\n",
       "    </tr>\n",
       "    <tr>\n",
       "      <th>25%</th>\n",
       "      <td>73.000000</td>\n",
       "      <td>6.000000</td>\n",
       "      <td>137.000000</td>\n",
       "    </tr>\n",
       "    <tr>\n",
       "      <th>50%</th>\n",
       "      <td>115.000000</td>\n",
       "      <td>8.000000</td>\n",
       "      <td>178.000000</td>\n",
       "    </tr>\n",
       "    <tr>\n",
       "      <th>75%</th>\n",
       "      <td>163.000000</td>\n",
       "      <td>14.000000</td>\n",
       "      <td>226.000000</td>\n",
       "    </tr>\n",
       "    <tr>\n",
       "      <th>max</th>\n",
       "      <td>1799.000000</td>\n",
       "      <td>519.000000</td>\n",
       "      <td>1864.000000</td>\n",
       "    </tr>\n",
       "  </tbody>\n",
       "</table>\n",
       "</div>"
      ],
      "text/plain": [
       "           len_text     len_label    len_prompt\n",
       "count  38434.000000  38434.000000  38434.000000\n",
       "mean     129.044180     11.768148    192.047068\n",
       "std       93.469521     10.771210     93.486774\n",
       "min        2.000000      4.000000     64.000000\n",
       "25%       73.000000      6.000000    137.000000\n",
       "50%      115.000000      8.000000    178.000000\n",
       "75%      163.000000     14.000000    226.000000\n",
       "max     1799.000000    519.000000   1864.000000"
      ]
     },
     "execution_count": 35,
     "metadata": {},
     "output_type": "execute_result"
    }
   ],
   "source": [
    "df['len_text'] = df['input_para'].apply(lambda x: len(tokenizer(x)['input_ids']))\n",
    "df['len_label'] = df['label'].apply(lambda x: len(tokenizer(str(x))['input_ids']))\n",
    "df['len_prompt'] = df['prompt'].apply(lambda x: len(tokenizer(x)['input_ids']))\n",
    "df.describe()"
   ]
  },
  {
   "cell_type": "code",
   "execution_count": 36,
   "metadata": {},
   "outputs": [
    {
     "data": {
      "text/html": [
       "<div>\n",
       "<style scoped>\n",
       "    .dataframe tbody tr th:only-of-type {\n",
       "        vertical-align: middle;\n",
       "    }\n",
       "\n",
       "    .dataframe tbody tr th {\n",
       "        vertical-align: top;\n",
       "    }\n",
       "\n",
       "    .dataframe thead th {\n",
       "        text-align: right;\n",
       "    }\n",
       "</style>\n",
       "<table border=\"1\" class=\"dataframe\">\n",
       "  <thead>\n",
       "    <tr style=\"text-align: right;\">\n",
       "      <th></th>\n",
       "      <th>len_text</th>\n",
       "      <th>len_label</th>\n",
       "      <th>len_prompt</th>\n",
       "    </tr>\n",
       "  </thead>\n",
       "  <tbody>\n",
       "    <tr>\n",
       "      <th>count</th>\n",
       "      <td>38250.000000</td>\n",
       "      <td>38250.000000</td>\n",
       "      <td>38250.000000</td>\n",
       "    </tr>\n",
       "    <tr>\n",
       "      <th>mean</th>\n",
       "      <td>125.899608</td>\n",
       "      <td>11.672732</td>\n",
       "      <td>188.902693</td>\n",
       "    </tr>\n",
       "    <tr>\n",
       "      <th>std</th>\n",
       "      <td>78.020236</td>\n",
       "      <td>9.523953</td>\n",
       "      <td>78.044156</td>\n",
       "    </tr>\n",
       "    <tr>\n",
       "      <th>min</th>\n",
       "      <td>2.000000</td>\n",
       "      <td>4.000000</td>\n",
       "      <td>64.000000</td>\n",
       "    </tr>\n",
       "    <tr>\n",
       "      <th>25%</th>\n",
       "      <td>73.000000</td>\n",
       "      <td>6.000000</td>\n",
       "      <td>136.000000</td>\n",
       "    </tr>\n",
       "    <tr>\n",
       "      <th>50%</th>\n",
       "      <td>114.000000</td>\n",
       "      <td>8.000000</td>\n",
       "      <td>177.000000</td>\n",
       "    </tr>\n",
       "    <tr>\n",
       "      <th>75%</th>\n",
       "      <td>162.000000</td>\n",
       "      <td>13.000000</td>\n",
       "      <td>225.000000</td>\n",
       "    </tr>\n",
       "    <tr>\n",
       "      <th>max</th>\n",
       "      <td>510.000000</td>\n",
       "      <td>347.000000</td>\n",
       "      <td>573.000000</td>\n",
       "    </tr>\n",
       "  </tbody>\n",
       "</table>\n",
       "</div>"
      ],
      "text/plain": [
       "           len_text     len_label    len_prompt\n",
       "count  38250.000000  38250.000000  38250.000000\n",
       "mean     125.899608     11.672732    188.902693\n",
       "std       78.020236      9.523953     78.044156\n",
       "min        2.000000      4.000000     64.000000\n",
       "25%       73.000000      6.000000    136.000000\n",
       "50%      114.000000      8.000000    177.000000\n",
       "75%      162.000000     13.000000    225.000000\n",
       "max      510.000000    347.000000    573.000000"
      ]
     },
     "execution_count": 36,
     "metadata": {},
     "output_type": "execute_result"
    }
   ],
   "source": [
    "# Only take samples with text length < 512\n",
    "df = df[df['len_text'] < 512]\n",
    "df.describe()"
   ]
  },
  {
   "cell_type": "code",
   "execution_count": 37,
   "metadata": {},
   "outputs": [
    {
     "name": "stderr",
     "output_type": "stream",
     "text": [
      "/tmp/ipykernel_9610/2493183696.py:2: SettingWithCopyWarning: \n",
      "A value is trying to be set on a copy of a slice from a DataFrame.\n",
      "Try using .loc[row_indexer,col_indexer] = value instead\n",
      "\n",
      "See the caveats in the documentation: https://pandas.pydata.org/pandas-docs/stable/user_guide/indexing.html#returning-a-view-versus-a-copy\n",
      "  df['label'] = df['label'].map(str)\n"
     ]
    }
   ],
   "source": [
    "# Convert label to string to tokenize\n",
    "df['label'] = df['label'].map(str)"
   ]
  },
  {
   "cell_type": "code",
   "execution_count": 38,
   "metadata": {},
   "outputs": [
    {
     "data": {
      "text/plain": [
       "DatasetDict({\n",
       "    train: Dataset({\n",
       "        features: ['split', 'input_para', 'entity_type', 'label', 'prompt', 'len_text', 'len_label', 'len_prompt'],\n",
       "        num_rows: 25495\n",
       "    })\n",
       "    eval: Dataset({\n",
       "        features: ['split', 'input_para', 'entity_type', 'label', 'prompt', 'len_text', 'len_label', 'len_prompt'],\n",
       "        num_rows: 4265\n",
       "    })\n",
       "})"
      ]
     },
     "execution_count": 38,
     "metadata": {},
     "output_type": "execute_result"
    }
   ],
   "source": [
    "# convert to dataset\n",
    "vi_vlsp_ner_cleaned = DatasetDict({\n",
    "    'train': Dataset.from_pandas(df[df['split'] == 'train'], preserve_index=False),\n",
    "    'eval': Dataset.from_pandas(df[df['split'] == 'dev'], preserve_index=False),\n",
    "})\n",
    "vi_vlsp_ner_cleaned"
   ]
  },
  {
   "cell_type": "code",
   "execution_count": 41,
   "metadata": {},
   "outputs": [
    {
     "data": {
      "text/plain": [
       "DatasetDict({\n",
       "    test: Dataset({\n",
       "        features: ['text', 'entity_type', 'label'],\n",
       "        num_rows: 8490\n",
       "    })\n",
       "})"
      ]
     },
     "execution_count": 41,
     "metadata": {},
     "output_type": "execute_result"
    }
   ],
   "source": [
    "# rename column in df\n",
    "eval_df = df[df['split'] == 'test'].rename(columns={'input_para': 'text'})[['text', 'entity_type', 'label']]\n",
    "\n",
    "# convert to dataset\n",
    "eval_vi_vlsp_ner_cleaned = DatasetDict({\n",
    "    'test': Dataset.from_pandas(eval_df, preserve_index=False),\n",
    "})\n",
    "eval_vi_vlsp_ner_cleaned"
   ]
  },
  {
   "cell_type": "code",
   "execution_count": 89,
   "metadata": {},
   "outputs": [
    {
     "name": "stdout",
     "output_type": "stream",
     "text": [
      "> Tokenizing dataset...\n"
     ]
    },
    {
     "name": "stderr",
     "output_type": "stream",
     "text": [
      "Map: 100%|██████████| 25495/25495 [00:02<00:00, 9505.43 examples/s] \n",
      "Map: 100%|██████████| 4265/4265 [00:00<00:00, 10420.46 examples/s]\n"
     ]
    },
    {
     "data": {
      "text/plain": [
       "DatasetDict({\n",
       "    train: Dataset({\n",
       "        features: ['input_ids', 'attention_mask', 'labels'],\n",
       "        num_rows: 25495\n",
       "    })\n",
       "    eval: Dataset({\n",
       "        features: ['input_ids', 'attention_mask', 'labels'],\n",
       "        num_rows: 4265\n",
       "    })\n",
       "})"
      ]
     },
     "execution_count": 89,
     "metadata": {},
     "output_type": "execute_result"
    }
   ],
   "source": [
    "# Tokenize\n",
    "def tokenize(samples, tokenizer, input_field, label_field, max_length=MAX_LENGTH):\n",
    "    # Tokenize\n",
    "    tokenized_input = tokenizer(samples[input_field], max_length=max_length, padding=False, truncation=True, add_special_tokens=True)\n",
    "    tokenized_label = tokenizer(samples[label_field], max_length=max_length, padding=False, truncation=True, add_special_tokens=True)\n",
    "\n",
    "    return {\n",
    "        'input_ids': tokenized_input['input_ids'],\n",
    "        'attention_mask': tokenized_input['attention_mask'],\n",
    "        'labels': tokenized_label['input_ids']\n",
    "    }\n",
    "\n",
    "print(\"> Tokenizing dataset...\")\n",
    "vi_vlsp_ner_tokenized = vi_vlsp_ner_cleaned.map(\n",
    "    lambda x: tokenize(x, tokenizer, \"prompt\", \"label\"),\n",
    "    batched=True,\n",
    "    remove_columns=vi_vlsp_ner_cleaned['train'].column_names,\n",
    ")\n",
    "vi_vlsp_ner_tokenized"
   ]
  },
  {
   "cell_type": "code",
   "execution_count": 92,
   "metadata": {},
   "outputs": [
    {
     "data": {
      "text/plain": [
       "'Below is an instruction that describes a task, paired with an input that provides further context. Write a response that appropriately completes the request. ### Instruction: What describes location-gpe in the text? ### Input: Mỹ chấp thuận hàng loạt biện pháp trừng phạt mới chống Triều Tiên ### Response:</s>'"
      ]
     },
     "execution_count": 92,
     "metadata": {},
     "output_type": "execute_result"
    }
   ],
   "source": [
    "tokenizer.decode(vi_vlsp_ner_tokenized['train'][0]['input_ids'])"
   ]
  },
  {
   "cell_type": "code",
   "execution_count": 93,
   "metadata": {},
   "outputs": [
    {
     "data": {
      "text/plain": [
       "\"['Mỹ', 'Triều Tiên']</s>\""
      ]
     },
     "execution_count": 93,
     "metadata": {},
     "output_type": "execute_result"
    }
   ],
   "source": [
    "tokenizer.decode(vi_vlsp_ner_tokenized['train'][0]['labels'])"
   ]
  },
  {
   "cell_type": "code",
   "execution_count": 96,
   "metadata": {},
   "outputs": [
    {
     "name": "stdout",
     "output_type": "stream",
     "text": [
      "> Pushing to hub: vi-mT5-ner-vlsp-GOLD\n"
     ]
    },
    {
     "name": "stderr",
     "output_type": "stream",
     "text": [
      "Creating parquet from Arrow format: 100%|██████████| 26/26 [00:00<00:00, 191.61ba/s]\n",
      "Uploading the dataset shards: 100%|██████████| 1/1 [00:02<00:00,  2.74s/it]\n",
      "Creating parquet from Arrow format: 100%|██████████| 5/5 [00:00<00:00, 207.15ba/s]\n",
      "Uploading the dataset shards: 100%|██████████| 1/1 [00:02<00:00,  2.10s/it]\n"
     ]
    },
    {
     "data": {
      "text/plain": [
       "CommitInfo(commit_url='https://huggingface.co/datasets/nqv2291/vi-mT5-ner-vlsp-GOLD/commit/87d103af90ec8aab356ee35b38f0a853ad68f8ae', commit_message='Upload dataset', commit_description='', oid='87d103af90ec8aab356ee35b38f0a853ad68f8ae', pr_url=None, pr_revision=None, pr_num=None)"
      ]
     },
     "execution_count": 96,
     "metadata": {},
     "output_type": "execute_result"
    }
   ],
   "source": [
    "print(f\"> Pushing to hub: {output_repo}\")\n",
    "vi_vlsp_ner_tokenized.push_to_hub(output_repo)"
   ]
  },
  {
   "cell_type": "code",
   "execution_count": 42,
   "metadata": {},
   "outputs": [
    {
     "name": "stdout",
     "output_type": "stream",
     "text": [
      "> Pushing to hub: eval-vi-mT5-ner-vlsp-GOLD\n"
     ]
    },
    {
     "name": "stderr",
     "output_type": "stream",
     "text": [
      "Creating parquet from Arrow format: 100%|██████████| 9/9 [00:00<00:00, 454.96ba/s]\n",
      "Uploading the dataset shards: 100%|██████████| 1/1 [00:02<00:00,  2.77s/it]\n"
     ]
    },
    {
     "data": {
      "text/plain": [
       "CommitInfo(commit_url='https://huggingface.co/datasets/nqv2291/eval-vi-mT5-ner-vlsp-GOLD/commit/434844573e1c22a891c31a1cd937e3a8fa2d9241', commit_message='Upload dataset', commit_description='', oid='434844573e1c22a891c31a1cd937e3a8fa2d9241', pr_url=None, pr_revision=None, pr_num=None)"
      ]
     },
     "execution_count": 42,
     "metadata": {},
     "output_type": "execute_result"
    }
   ],
   "source": [
    "print(f\"> Pushing to hub: {eval_repo}\")\n",
    "eval_vi_vlsp_ner_cleaned.push_to_hub(eval_repo)"
   ]
  },
  {
   "cell_type": "markdown",
   "metadata": {},
   "source": [
    "### 3. Eval dataset"
   ]
  },
  {
   "cell_type": "code",
   "execution_count": 74,
   "metadata": {},
   "outputs": [],
   "source": [
    "from collections import defaultdict\n",
    "\n",
    "def read_and_process_file(file_path):\n",
    "    with open(file_path, 'r') as file:\n",
    "        lines = file.readlines()\n",
    "\n",
    "    data = defaultdict(list)\n",
    "    cur_text = ''\n",
    "    cur_entities = defaultdict(list)\n",
    "    cur_entity_type = ''\n",
    "    cur_entity_text = ''\n",
    "    \n",
    "    for line in lines:\n",
    "        line = line.strip()\n",
    "\n",
    "        if line.startswith('# text = '):\n",
    "            cur_text = line.split(' = ', 1)[1]\n",
    "        elif line and not line.startswith('#'):\n",
    "            parts = line.split('\\t')\n",
    "            token, tag = parts[1], parts[2]\n",
    "            if tag != 'O':\n",
    "                entity_type = tag.split('-')[-1]\n",
    "                if entity_type == cur_entity_type:\n",
    "                    cur_entity_text += ' ' + token\n",
    "                else:\n",
    "                    if cur_entity_type:\n",
    "                        cur_entities[cur_entity_type].append(cur_entity_text)\n",
    "                    cur_entity_type = entity_type\n",
    "                    cur_entity_text = token\n",
    "            else:\n",
    "                if cur_entity_type:\n",
    "                    cur_entities[cur_entity_type].append(cur_entity_text)\n",
    "                    cur_entity_type = ''\n",
    "                    cur_entity_text = ''\n",
    "        elif not line and cur_text:\n",
    "            for entity_type, entity_texts in cur_entities.items():\n",
    "                data['text'].append(cur_text)\n",
    "                data['entity_type'].append(entity_type)\n",
    "                data['label'].append(entity_texts)\n",
    "            cur_text = ''\n",
    "            cur_entities = defaultdict(list)\n",
    "            cur_entity_type = ''\n",
    "            cur_entity_text = ''\n",
    "\n",
    "    return dict(data)\n",
    "\n",
    "# Usage example\n",
    "file_path = 'datasets/uner/uner-20231114-092426/en_ewt/en_ewt-ud-test.iob2'\n",
    "data_dict = read_and_process_file(file_path)"
   ]
  },
  {
   "cell_type": "code",
   "execution_count": 79,
   "metadata": {},
   "outputs": [
    {
     "data": {
      "text/plain": [
       "DatasetDict({\n",
       "    test: Dataset({\n",
       "        features: ['text', 'entity_type', 'label'],\n",
       "        num_rows: 747\n",
       "    })\n",
       "})"
      ]
     },
     "execution_count": 79,
     "metadata": {},
     "output_type": "execute_result"
    }
   ],
   "source": [
    "eval_dataset = DatasetDict({\n",
    "    'test': Dataset.from_dict(data_dict)\n",
    "})\n",
    "eval_dataset"
   ]
  },
  {
   "cell_type": "code",
   "execution_count": 80,
   "metadata": {},
   "outputs": [
    {
     "data": {
      "text/plain": [
       "{'LOC', 'ORG', 'PER'}"
      ]
     },
     "execution_count": 80,
     "metadata": {},
     "output_type": "execute_result"
    }
   ],
   "source": [
    "set(eval_dataset['test']['entity_type'])"
   ]
  },
  {
   "cell_type": "code",
   "execution_count": 81,
   "metadata": {},
   "outputs": [
    {
     "name": "stderr",
     "output_type": "stream",
     "text": [
      "Map: 100%|██████████| 747/747 [00:00<00:00, 7984.57 examples/s]\n"
     ]
    },
    {
     "data": {
      "text/plain": [
       "DatasetDict({\n",
       "    test: Dataset({\n",
       "        features: ['text', 'entity_type', 'label'],\n",
       "        num_rows: 747\n",
       "    })\n",
       "})"
      ]
     },
     "execution_count": 81,
     "metadata": {},
     "output_type": "execute_result"
    }
   ],
   "source": [
    "entity_type_map = {\n",
    "    'LOC': 'location',\n",
    "    'ORG': 'organization',\n",
    "    'PER': 'person',\n",
    "}\n",
    "eval_dataset = eval_dataset.map(lambda x: {'entity_type': entity_type_map[x['entity_type']]})\n",
    "eval_dataset"
   ]
  },
  {
   "cell_type": "code",
   "execution_count": 82,
   "metadata": {},
   "outputs": [
    {
     "name": "stderr",
     "output_type": "stream",
     "text": [
      "Creating parquet from Arrow format: 100%|██████████| 1/1 [00:00<00:00, 236.47ba/s]\n",
      "Uploading the dataset shards: 100%|██████████| 1/1 [00:02<00:00,  2.97s/it]\n"
     ]
    },
    {
     "data": {
      "text/plain": [
       "CommitInfo(commit_url='https://huggingface.co/datasets/nqv2291/eval-en-ner-ewt_ud/commit/41ca814f582a1174af7ccd7b22addf33fea25574', commit_message='Upload dataset', commit_description='', oid='41ca814f582a1174af7ccd7b22addf33fea25574', pr_url=None, pr_revision=None, pr_num=None)"
      ]
     },
     "execution_count": 82,
     "metadata": {},
     "output_type": "execute_result"
    }
   ],
   "source": [
    "eval_repo = 'eval-en-ner-ewt_ud'\n",
    "eval_dataset.push_to_hub(eval_repo)"
   ]
  },
  {
   "cell_type": "code",
   "execution_count": 5,
   "metadata": {},
   "outputs": [
    {
     "data": {
      "text/plain": [
       "[['Miramar'], ['Argentina'], ['Argentina'], ['Argentina'], ['Iguazu']]"
      ]
     },
     "execution_count": 5,
     "metadata": {},
     "output_type": "execute_result"
    }
   ],
   "source": [
    "from datasets import load_dataset\n",
    "\n",
    "dataset = load_dataset('nqv2291/eval-en-ner-ewt_ud', split='test')\n",
    "dataset['label'][:5]"
   ]
  }
 ],
 "metadata": {
  "kernelspec": {
   "display_name": "vietnq-ner",
   "language": "python",
   "name": "python3"
  },
  "language_info": {
   "codemirror_mode": {
    "name": "ipython",
    "version": 3
   },
   "file_extension": ".py",
   "mimetype": "text/x-python",
   "name": "python",
   "nbconvert_exporter": "python",
   "pygments_lexer": "ipython3",
   "version": "3.12.4"
  }
 },
 "nbformat": 4,
 "nbformat_minor": 2
}
