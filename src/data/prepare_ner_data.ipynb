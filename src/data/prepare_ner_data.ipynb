{
 "cells": [
  {
   "cell_type": "markdown",
   "metadata": {},
   "source": [
    "# mT5"
   ]
  },
  {
   "cell_type": "code",
   "execution_count": 1,
   "metadata": {},
   "outputs": [
    {
     "name": "stderr",
     "output_type": "stream",
     "text": [
      "/home/nlp/anaconda3/envs/vietnq-ner/lib/python3.12/site-packages/tqdm/auto.py:21: TqdmWarning: IProgress not found. Please update jupyter and ipywidgets. See https://ipywidgets.readthedocs.io/en/stable/user_install.html\n",
      "  from .autonotebook import tqdm as notebook_tqdm\n"
     ]
    }
   ],
   "source": [
    "import re\n",
    "import pandas as pd\n",
    "import matplotlib.pyplot as plt\n",
    "from datasets import load_dataset, Dataset\n",
    "from transformers import MT5TokenizerFast, MT5ForConditionalGeneration"
   ]
  },
  {
   "cell_type": "code",
   "execution_count": 2,
   "metadata": {},
   "outputs": [],
   "source": [
    "MAX_LENGTH = 1024\n",
    "model_id = 'google/mt5-base'"
   ]
  },
  {
   "cell_type": "code",
   "execution_count": 3,
   "metadata": {},
   "outputs": [
    {
     "name": "stderr",
     "output_type": "stream",
     "text": [
      "You are using the default legacy behaviour of the <class 'transformers.models.t5.tokenization_t5.T5Tokenizer'>. This is expected, and simply means that the `legacy` (previous) behavior will be used so nothing changes for you. If you want to use the new behaviour, set `legacy=False`. This should only be set if you understand what it means, and thoroughly read the reason why this was added as explained in https://github.com/huggingface/transformers/pull/24565\n",
      "/home/nlp/anaconda3/envs/vietnq-ner/lib/python3.12/site-packages/transformers/convert_slow_tokenizer.py:560: UserWarning: The sentencepiece tokenizer that you are converting to a fast tokenizer uses the byte fallback option which is not implemented in the fast tokenizers. In practice this means that the fast version of the tokenizer can produce unknown tokens whereas the sentencepiece version would have converted these unknown tokens into a sequence of byte tokens matching the original piece of text.\n",
      "  warnings.warn(\n"
     ]
    },
    {
     "name": "stdout",
     "output_type": "stream",
     "text": [
      "BOS: None\n",
      "SEP: None\n",
      "PAD: <pad>\n",
      "EOS: </s>\n"
     ]
    }
   ],
   "source": [
    "# Setup tokenizer\n",
    "tokenizer = MT5TokenizerFast.from_pretrained(model_id)\n",
    "\n",
    "print('BOS:', tokenizer.bos_token)\n",
    "print('SEP:', tokenizer.sep_token)\n",
    "print('PAD:', tokenizer.pad_token)\n",
    "print('EOS:', tokenizer.eos_token)"
   ]
  },
  {
   "cell_type": "markdown",
   "metadata": {},
   "source": [
    "### 1. Dataset `Universal-NER/Pile-NER-type`"
   ]
  },
  {
   "cell_type": "markdown",
   "metadata": {},
   "source": [
    "#### Load dataset"
   ]
  },
  {
   "cell_type": "code",
   "execution_count": 4,
   "metadata": {},
   "outputs": [],
   "source": [
    "# output repo in huggingface\n",
    "output_repo = 'en-mT5-ner-open_domain'"
   ]
  },
  {
   "cell_type": "code",
   "execution_count": 5,
   "metadata": {},
   "outputs": [
    {
     "data": {
      "text/plain": [
       "Dataset({\n",
       "    features: ['conversations', 'id'],\n",
       "    num_rows: 45889\n",
       "})"
      ]
     },
     "execution_count": 5,
     "metadata": {},
     "output_type": "execute_result"
    }
   ],
   "source": [
    "en_open_ner = load_dataset('Universal-NER/Pile-NER-type', split='train')\n",
    "en_open_ner"
   ]
  },
  {
   "cell_type": "code",
   "execution_count": 6,
   "metadata": {},
   "outputs": [
    {
     "data": {
      "text/plain": [
       "{'conversations': [{'from': 'human',\n",
       "   'value': 'Text: N-(X-chlorophenyl)-4-hydroxy-2-methyl-2H-1,2-benzothiazine-3-carboxamide 1,1-dioxide (with X = 2 and 4). The structures of N-(2-chlorophenyl)-4-hydroxy-2-methyl-2H-1,2-benzothiazine-3-carboxamide 1,1-dioxide and N-(4-chlorophenyl)-4-hydroxy-2-methyl-2H-1,2-benzothiazine-3-carboxamide 1,1-dioxide, both C16H13ClN2O4S, are stabilized by extensive intramolecular hydrogen bonds. The 4-chloro derivative forms dimeric pairs of molecules lying about inversion centres as a result of intermolecular N-H...O hydrogen bonds, forming 14-membered rings representing an R2(2)(14) motif; the 2-chloro derivative is devoid of any such intermolecular hydrogen bonds. The heterocyclic thiazine rings in both structures adopt half-chair conformations.'},\n",
       "  {'from': 'gpt', 'value': \"I've read this text.\"},\n",
       "  {'from': 'human', 'value': 'What describes Relationship in the text?'},\n",
       "  {'from': 'gpt', 'value': '[]'},\n",
       "  {'from': 'human', 'value': 'What describes chemical in the text?'},\n",
       "  {'from': 'gpt',\n",
       "   'value': '[\"N-(X-chlorophenyl)-4-hydroxy-2-methyl-2H-1,2-benzothiazine-3-carboxamide 1,1-dioxide\", \"N-(2-chlorophenyl)-4-hydroxy-2-methyl-2H-1,2-benzothiazine-3-carboxamide 1,1-dioxide\", \"N-(4-chlorophenyl)-4-hydroxy-2-methyl-2H-1,2-benzothiazine-3-carboxamide 1,1-dioxide\", \"C16H13ClN2O4S\", \"intramolecular hydrogen bonds\", \"4-chloro derivative\", \"dimeric pairs\", \"inversion centres\", \"intermolecular N-H...O hydrogen bonds\", \"14-membered rings\", \"R2(2)(14) motif\", \"2-chloro derivative\", \"heterocyclic thiazine rings\", \"half-chair conformations\"]'}],\n",
       " 'id': 'ner_232'}"
      ]
     },
     "execution_count": 6,
     "metadata": {},
     "output_type": "execute_result"
    }
   ],
   "source": [
    "en_open_ner[232]"
   ]
  },
  {
   "cell_type": "markdown",
   "metadata": {},
   "source": [
    "#### Make instruction dataset and clean it"
   ]
  },
  {
   "cell_type": "code",
   "execution_count": 7,
   "metadata": {},
   "outputs": [],
   "source": [
    "def prompt_input(row):\n",
    "    return (\"Below is an instruction that describes a task, paired with an input that provides further context. \"\n",
    "            \"Write a response that appropriately completes the request.\\n\\n\"\n",
    "            \"### Instruction: {instruction}\\n\\n### Input: {input}\\n\\n### Response:\\n\").format_map(row)"
   ]
  },
  {
   "cell_type": "code",
   "execution_count": 8,
   "metadata": {},
   "outputs": [
    {
     "name": "stdout",
     "output_type": "stream",
     "text": [
      "> Making instruction dataset...\n",
      "labelled ds: Dataset({\n",
      "    features: ['id', 'text', 'label', 'entity_type', 'input_para'],\n",
      "    num_rows: 358181\n",
      "})\n"
     ]
    }
   ],
   "source": [
    "# Make instruction data\n",
    "def make_instruction_data(samples):\n",
    "    ids, texts, labels, entity_types, input_paras = [], [], [], [], []\n",
    "\n",
    "    for sample_id, sample_conv in zip(samples['id'], samples['conversations']):\n",
    "        cur_input_para = sample_conv[0]['value'].strip()\n",
    "        for i in range(2, len(sample_conv), 2):\n",
    "            cur_id = str(sample_id) + '_' + str(i//2)\n",
    "\n",
    "            user_question = sample_conv[i]['value'].strip()\n",
    "            cur_entity_type = re.search(r'(?<=describes\\s)(.*?)(?=\\sin)', user_question).group(0).strip()\n",
    "            cur_instruction = user_question.replace(cur_entity_type, cur_entity_type.lower())\n",
    "            cur_text = prompt_input({\n",
    "                'instruction': cur_instruction,\n",
    "                'input': cur_input_para,\n",
    "            })\n",
    "\n",
    "            cur_label = sample_conv[i+1]['value'].strip()\n",
    "\n",
    "            ids.append(cur_id)\n",
    "            texts.append(cur_text)\n",
    "            labels.append(cur_label)\n",
    "            entity_types.append(cur_entity_type)\n",
    "            input_paras.append(cur_input_para)\n",
    "    return {\n",
    "        'id': ids,\n",
    "        'text': texts,\n",
    "        'label': labels,\n",
    "        'entity_type': entity_types,\n",
    "        'input_para': input_paras,\n",
    "    }\n",
    "\n",
    "print(\"> Making instruction dataset...\")\n",
    "en_open_ner_instruct = en_open_ner.map(\n",
    "    make_instruction_data, batched=True, remove_columns=en_open_ner.column_names\n",
    ")\n",
    "print(\"labelled ds:\", en_open_ner_instruct)"
   ]
  },
  {
   "cell_type": "code",
   "execution_count": 9,
   "metadata": {},
   "outputs": [
    {
     "data": {
      "text/html": [
       "<div>\n",
       "<style scoped>\n",
       "    .dataframe tbody tr th:only-of-type {\n",
       "        vertical-align: middle;\n",
       "    }\n",
       "\n",
       "    .dataframe tbody tr th {\n",
       "        vertical-align: top;\n",
       "    }\n",
       "\n",
       "    .dataframe thead th {\n",
       "        text-align: right;\n",
       "    }\n",
       "</style>\n",
       "<table border=\"1\" class=\"dataframe\">\n",
       "  <thead>\n",
       "    <tr style=\"text-align: right;\">\n",
       "      <th></th>\n",
       "      <th>id</th>\n",
       "      <th>text</th>\n",
       "      <th>label</th>\n",
       "      <th>entity_type</th>\n",
       "      <th>input_para</th>\n",
       "    </tr>\n",
       "  </thead>\n",
       "  <tbody>\n",
       "    <tr>\n",
       "      <th>0</th>\n",
       "      <td>ner_0_1</td>\n",
       "      <td>Below is an instruction that describes a task,...</td>\n",
       "      <td>[\"function\"]</td>\n",
       "      <td>programming concept</td>\n",
       "      <td>Text: Q:\\n\\nPosition character based on enemy ...</td>\n",
       "    </tr>\n",
       "    <tr>\n",
       "      <th>1</th>\n",
       "      <td>ner_0_2</td>\n",
       "      <td>Below is an instruction that describes a task,...</td>\n",
       "      <td>[\"lua\"]</td>\n",
       "      <td>programming language</td>\n",
       "      <td>Text: Q:\\n\\nPosition character based on enemy ...</td>\n",
       "    </tr>\n",
       "    <tr>\n",
       "      <th>2</th>\n",
       "      <td>ner_0_3</td>\n",
       "      <td>Below is an instruction that describes a task,...</td>\n",
       "      <td>[]</td>\n",
       "      <td>database</td>\n",
       "      <td>Text: Q:\\n\\nPosition character based on enemy ...</td>\n",
       "    </tr>\n",
       "    <tr>\n",
       "      <th>3</th>\n",
       "      <td>ner_0_4</td>\n",
       "      <td>Below is an instruction that describes a task,...</td>\n",
       "      <td>[\"myPosition\", \"enemyPosition\", \"xValue\", \"yVa...</td>\n",
       "      <td>variable</td>\n",
       "      <td>Text: Q:\\n\\nPosition character based on enemy ...</td>\n",
       "    </tr>\n",
       "    <tr>\n",
       "      <th>4</th>\n",
       "      <td>ner_0_5</td>\n",
       "      <td>Below is an instruction that describes a task,...</td>\n",
       "      <td>[]</td>\n",
       "      <td>Date</td>\n",
       "      <td>Text: Q:\\n\\nPosition character based on enemy ...</td>\n",
       "    </tr>\n",
       "    <tr>\n",
       "      <th>...</th>\n",
       "      <td>...</td>\n",
       "      <td>...</td>\n",
       "      <td>...</td>\n",
       "      <td>...</td>\n",
       "      <td>...</td>\n",
       "    </tr>\n",
       "    <tr>\n",
       "      <th>358176</th>\n",
       "      <td>ner_45888_10</td>\n",
       "      <td>Below is an instruction that describes a task,...</td>\n",
       "      <td>[\"factorial analyses of variance\"]</td>\n",
       "      <td>method</td>\n",
       "      <td>Text: Automatic and Controlled Emotion Regulat...</td>\n",
       "    </tr>\n",
       "    <tr>\n",
       "      <th>358177</th>\n",
       "      <td>ner_45888_11</td>\n",
       "      <td>Below is an instruction that describes a task,...</td>\n",
       "      <td>[]</td>\n",
       "      <td>Person</td>\n",
       "      <td>Text: Automatic and Controlled Emotion Regulat...</td>\n",
       "    </tr>\n",
       "    <tr>\n",
       "      <th>358178</th>\n",
       "      <td>ner_45888_12</td>\n",
       "      <td>Below is an instruction that describes a task,...</td>\n",
       "      <td>[\"young adults\", \"older adults\"]</td>\n",
       "      <td>group</td>\n",
       "      <td>Text: Automatic and Controlled Emotion Regulat...</td>\n",
       "    </tr>\n",
       "    <tr>\n",
       "      <th>358179</th>\n",
       "      <td>ner_45888_13</td>\n",
       "      <td>Below is an instruction that describes a task,...</td>\n",
       "      <td>[]</td>\n",
       "      <td>email</td>\n",
       "      <td>Text: Automatic and Controlled Emotion Regulat...</td>\n",
       "    </tr>\n",
       "    <tr>\n",
       "      <th>358180</th>\n",
       "      <td>ner_45888_14</td>\n",
       "      <td>Below is an instruction that describes a task,...</td>\n",
       "      <td>[\"videos\"]</td>\n",
       "      <td>object</td>\n",
       "      <td>Text: Automatic and Controlled Emotion Regulat...</td>\n",
       "    </tr>\n",
       "  </tbody>\n",
       "</table>\n",
       "<p>358181 rows × 5 columns</p>\n",
       "</div>"
      ],
      "text/plain": [
       "                  id                                               text  \\\n",
       "0            ner_0_1  Below is an instruction that describes a task,...   \n",
       "1            ner_0_2  Below is an instruction that describes a task,...   \n",
       "2            ner_0_3  Below is an instruction that describes a task,...   \n",
       "3            ner_0_4  Below is an instruction that describes a task,...   \n",
       "4            ner_0_5  Below is an instruction that describes a task,...   \n",
       "...              ...                                                ...   \n",
       "358176  ner_45888_10  Below is an instruction that describes a task,...   \n",
       "358177  ner_45888_11  Below is an instruction that describes a task,...   \n",
       "358178  ner_45888_12  Below is an instruction that describes a task,...   \n",
       "358179  ner_45888_13  Below is an instruction that describes a task,...   \n",
       "358180  ner_45888_14  Below is an instruction that describes a task,...   \n",
       "\n",
       "                                                    label  \\\n",
       "0                                            [\"function\"]   \n",
       "1                                                 [\"lua\"]   \n",
       "2                                                      []   \n",
       "3       [\"myPosition\", \"enemyPosition\", \"xValue\", \"yVa...   \n",
       "4                                                      []   \n",
       "...                                                   ...   \n",
       "358176                 [\"factorial analyses of variance\"]   \n",
       "358177                                                 []   \n",
       "358178                   [\"young adults\", \"older adults\"]   \n",
       "358179                                                 []   \n",
       "358180                                         [\"videos\"]   \n",
       "\n",
       "                 entity_type  \\\n",
       "0        programming concept   \n",
       "1       programming language   \n",
       "2                   database   \n",
       "3                   variable   \n",
       "4                       Date   \n",
       "...                      ...   \n",
       "358176                method   \n",
       "358177                Person   \n",
       "358178                 group   \n",
       "358179                 email   \n",
       "358180                object   \n",
       "\n",
       "                                               input_para  \n",
       "0       Text: Q:\\n\\nPosition character based on enemy ...  \n",
       "1       Text: Q:\\n\\nPosition character based on enemy ...  \n",
       "2       Text: Q:\\n\\nPosition character based on enemy ...  \n",
       "3       Text: Q:\\n\\nPosition character based on enemy ...  \n",
       "4       Text: Q:\\n\\nPosition character based on enemy ...  \n",
       "...                                                   ...  \n",
       "358176  Text: Automatic and Controlled Emotion Regulat...  \n",
       "358177  Text: Automatic and Controlled Emotion Regulat...  \n",
       "358178  Text: Automatic and Controlled Emotion Regulat...  \n",
       "358179  Text: Automatic and Controlled Emotion Regulat...  \n",
       "358180  Text: Automatic and Controlled Emotion Regulat...  \n",
       "\n",
       "[358181 rows x 5 columns]"
      ]
     },
     "execution_count": 9,
     "metadata": {},
     "output_type": "execute_result"
    }
   ],
   "source": [
    "df_raw = pd.DataFrame(en_open_ner_instruct)\n",
    "df_raw"
   ]
  },
  {
   "cell_type": "code",
   "execution_count": 10,
   "metadata": {},
   "outputs": [
    {
     "data": {
      "text/plain": [
       "str"
      ]
     },
     "execution_count": 10,
     "metadata": {},
     "output_type": "execute_result"
    }
   ],
   "source": [
    "type(df_raw['label'][0])"
   ]
  },
  {
   "cell_type": "code",
   "execution_count": 11,
   "metadata": {},
   "outputs": [],
   "source": [
    "df = df_raw.copy()\n",
    "df['entity_type_lower'] = df['entity_type'].str.lower()"
   ]
  },
  {
   "cell_type": "code",
   "execution_count": 12,
   "metadata": {},
   "outputs": [
    {
     "data": {
      "text/plain": [
       "(15461,\n",
       " entity_type\n",
       " person          13706\n",
       " Person          11857\n",
       " organization    11831\n",
       " Organization    11157\n",
       " location        10196\n",
       " Location         9479\n",
       " concept          7523\n",
       " Date             6304\n",
       " product          6262\n",
       " date             5071\n",
       " event            3773\n",
       " group            3701\n",
       " technology       3463\n",
       " Event            3032\n",
       " object           3015\n",
       " software         2892\n",
       " Product          2821\n",
       " measurement      2624\n",
       " Nationality      2571\n",
       " variable         2522\n",
       " Name: count, dtype: int64)"
      ]
     },
     "execution_count": 12,
     "metadata": {},
     "output_type": "execute_result"
    }
   ],
   "source": [
    "counts = df['entity_type'].value_counts(sort=True)\n",
    "counts.size, counts[:20]"
   ]
  },
  {
   "cell_type": "code",
   "execution_count": 13,
   "metadata": {},
   "outputs": [
    {
     "data": {
      "text/plain": [
       "(12870,\n",
       " entity_type_lower\n",
       " person               25929\n",
       " organization         23231\n",
       " location             19888\n",
       " date                 11742\n",
       " concept               9908\n",
       " product               9178\n",
       " event                 6887\n",
       " technology            4866\n",
       " group                 4530\n",
       " medical condition     3853\n",
       " nationality           3610\n",
       " object                3602\n",
       " software              3502\n",
       " disease               3212\n",
       " measurement           3131\n",
       " time                  2954\n",
       " title                 2851\n",
       " country               2757\n",
       " variable              2670\n",
       " process               2561\n",
       " Name: count, dtype: int64)"
      ]
     },
     "execution_count": 13,
     "metadata": {},
     "output_type": "execute_result"
    }
   ],
   "source": [
    "counts = df['entity_type_lower'].value_counts(sort=True)\n",
    "counts.size, counts[:20]"
   ]
  },
  {
   "cell_type": "code",
   "execution_count": 14,
   "metadata": {},
   "outputs": [
    {
     "data": {
      "text/plain": [
       "(119862, 358181)"
      ]
     },
     "execution_count": 14,
     "metadata": {},
     "output_type": "execute_result"
    }
   ],
   "source": [
    "# No negative examples vs total\n",
    "df[df['label'] == '[]'].shape[0], df.shape[0]"
   ]
  },
  {
   "cell_type": "code",
   "execution_count": 15,
   "metadata": {},
   "outputs": [
    {
     "data": {
      "text/plain": [
       "((358181, 6), (354402, 6))"
      ]
     },
     "execution_count": 15,
     "metadata": {},
     "output_type": "execute_result"
    }
   ],
   "source": [
    "cleaned_df = df.drop_duplicates(subset=['input_para', 'entity_type_lower', 'label'])\n",
    "df.shape, cleaned_df.shape"
   ]
  },
  {
   "cell_type": "code",
   "execution_count": 17,
   "metadata": {},
   "outputs": [
    {
     "data": {
      "text/plain": [
       "Dataset({\n",
       "    features: ['id', 'text', 'label'],\n",
       "    num_rows: 354402\n",
       "})"
      ]
     },
     "execution_count": 17,
     "metadata": {},
     "output_type": "execute_result"
    }
   ],
   "source": [
    "en_open_ner_cleaned = Dataset.from_pandas(cleaned_df[['id', 'text', 'label']], preserve_index=False)\n",
    "en_open_ner_cleaned"
   ]
  },
  {
   "cell_type": "markdown",
   "metadata": {},
   "source": [
    "#### Convey the lengths of samples in dataset"
   ]
  },
  {
   "cell_type": "code",
   "execution_count": 18,
   "metadata": {},
   "outputs": [
    {
     "name": "stderr",
     "output_type": "stream",
     "text": [
      "Map:  12%|█▏        | 41000/354402 [00:05<00:43, 7157.06 examples/s]"
     ]
    },
    {
     "name": "stderr",
     "output_type": "stream",
     "text": [
      "Map: 100%|██████████| 354402/354402 [00:45<00:00, 7839.64 examples/s]\n"
     ]
    },
    {
     "data": {
      "image/png": "[encoded data removed]",
      "text/plain": [
       "<Figure size 1000x800 with 2 Axes>"
      ]
     },
     "metadata": {},
     "output_type": "display_data"
    },
    {
     "name": "stdout",
     "output_type": "stream",
     "text": [
      "Max text length: 2449\n",
      "Max label length: 1237\n",
      "Current limit: MAX_LENGTH = 1024\n"
     ]
    }
   ],
   "source": [
    "en_open_ner_cleaned_with_length = en_open_ner_cleaned.map(\n",
    "    lambda samples: {\n",
    "        'len_text': [len(x) for x in tokenizer(samples['text'], padding=False, truncation=False, add_special_tokens=True)['input_ids']],\n",
    "        'len_label': [len(x) for x in tokenizer(samples['label'], padding=False, truncation=False, add_special_tokens=True)['input_ids']],\n",
    "    },\n",
    "    batched=True\n",
    ")\n",
    "\n",
    "plt.figure(figsize=(10, 8))\n",
    "plt.subplot(1, 2, 1)\n",
    "plt.hist(en_open_ner_cleaned_with_length['len_text'])\n",
    "plt.title('Text lengths')\n",
    "\n",
    "plt.subplot(1, 2, 2)\n",
    "plt.hist(en_open_ner_cleaned_with_length['len_label'])\n",
    "plt.title('Label lengths')\n",
    "\n",
    "plt.show()\n",
    "\n",
    "print('Max text length:', max(en_open_ner_cleaned_with_length['len_text']))\n",
    "print('Max label length:', max(en_open_ner_cleaned_with_length['len_label']))\n",
    "print('Current limit: MAX_LENGTH =', MAX_LENGTH)"
   ]
  },
  {
   "cell_type": "markdown",
   "metadata": {},
   "source": [
    "Drop those samples that having lengths exceed the pre-defined MAX LENGTH"
   ]
  },
  {
   "cell_type": "code",
   "execution_count": 19,
   "metadata": {},
   "outputs": [
    {
     "name": "stderr",
     "output_type": "stream",
     "text": [
      "Filter: 100%|██████████| 354402/354402 [00:01<00:00, 272884.58 examples/s]\n"
     ]
    }
   ],
   "source": [
    "en_open_ner_cleaned_dropped = en_open_ner_cleaned_with_length.filter(\n",
    "    lambda example: (example['len_text'] <= MAX_LENGTH) and (example['len_label'] <= MAX_LENGTH)\n",
    ")"
   ]
  },
  {
   "cell_type": "code",
   "execution_count": 20,
   "metadata": {},
   "outputs": [
    {
     "name": "stderr",
     "output_type": "stream",
     "text": [
      "Map:   1%|          | 2000/354261 [00:00<00:37, 9405.65 examples/s]"
     ]
    },
    {
     "name": "stderr",
     "output_type": "stream",
     "text": [
      "Map: 100%|██████████| 354261/354261 [00:49<00:00, 7141.90 examples/s]\n"
     ]
    },
    {
     "data": {
      "image/png": "[encoded data removed]",
      "text/plain": [
       "<Figure size 1000x800 with 2 Axes>"
      ]
     },
     "metadata": {},
     "output_type": "display_data"
    },
    {
     "name": "stdout",
     "output_type": "stream",
     "text": [
      "Max text length: 1021\n",
      "Max label length: 1008\n",
      "Current limit: MAX_LENGTH = 1024\n"
     ]
    }
   ],
   "source": [
    "token_lengths = en_open_ner_cleaned_dropped.map(\n",
    "    lambda samples: {\n",
    "        'len_text': [len(x) for x in tokenizer(samples['text'], padding=False, truncation=False, add_special_tokens=True)['input_ids']],\n",
    "        'len_label': [len(x) for x in tokenizer(samples['label'], padding=False, truncation=False, add_special_tokens=True)['input_ids']],\n",
    "    },\n",
    "    batched=True\n",
    ")\n",
    "\n",
    "plt.figure(figsize=(10, 8))\n",
    "plt.subplot(1, 2, 1)\n",
    "plt.hist(token_lengths['len_text'])\n",
    "plt.title('Text lengths')\n",
    "\n",
    "plt.subplot(1, 2, 2)\n",
    "plt.hist(token_lengths['len_label'])\n",
    "plt.title('Label lengths')\n",
    "\n",
    "plt.show()\n",
    "\n",
    "print('Max text length:', max(token_lengths['len_text']))\n",
    "print('Max label length:', max(token_lengths['len_label']))\n",
    "print('Current limit: MAX_LENGTH =', MAX_LENGTH)"
   ]
  },
  {
   "cell_type": "code",
   "execution_count": 21,
   "metadata": {},
   "outputs": [
    {
     "data": {
      "text/plain": [
       "Dataset({\n",
       "    features: ['id', 'text', 'label', 'len_text', 'len_label'],\n",
       "    num_rows: 354261\n",
       "})"
      ]
     },
     "execution_count": 21,
     "metadata": {},
     "output_type": "execute_result"
    }
   ],
   "source": [
    "en_open_ner_cleaned_dropped"
   ]
  },
  {
   "cell_type": "markdown",
   "metadata": {},
   "source": [
    "#### Create tokenized dataset"
   ]
  },
  {
   "cell_type": "code",
   "execution_count": 22,
   "metadata": {},
   "outputs": [
    {
     "name": "stdout",
     "output_type": "stream",
     "text": [
      "> Tokenizing dataset...\n"
     ]
    },
    {
     "name": "stderr",
     "output_type": "stream",
     "text": [
      "Map: 100%|██████████| 354261/354261 [01:11<00:00, 4925.24 examples/s]"
     ]
    },
    {
     "name": "stdout",
     "output_type": "stream",
     "text": [
      ">> Dataset is ready:\n",
      "Dataset({\n",
      "    features: ['id', 'input_ids', 'attention_mask', 'labels'],\n",
      "    num_rows: 354261\n",
      "})\n"
     ]
    },
    {
     "name": "stderr",
     "output_type": "stream",
     "text": [
      "\n"
     ]
    }
   ],
   "source": [
    "def tokenize(samples, tokenizer, input_field, label_field, max_length=MAX_LENGTH):\n",
    "    # Tokenize\n",
    "    tokenized_input = tokenizer(samples[input_field], max_length=max_length, padding=False, truncation=True, add_special_tokens=True)\n",
    "    tokenized_label = tokenizer(samples[label_field], max_length=max_length, padding=False, truncation=True, add_special_tokens=True)\n",
    "\n",
    "    return {\n",
    "        'input_ids': tokenized_input['input_ids'],\n",
    "        'attention_mask': tokenized_input['attention_mask'],\n",
    "        'labels': tokenized_label['input_ids']\n",
    "    }\n",
    "\n",
    "print(\"> Tokenizing dataset...\")\n",
    "en_open_ner_tokenized = en_open_ner_cleaned_dropped.map(\n",
    "    lambda x: tokenize(x, tokenizer, \"text\", \"label\"),\n",
    "    batched=True,\n",
    "    remove_columns=[\"text\", \"label\", \"len_text\", \"len_label\"],\n",
    ")\n",
    "\n",
    "print(\">> Dataset is ready:\")\n",
    "print(en_open_ner_tokenized)"
   ]
  },
  {
   "cell_type": "code",
   "execution_count": 23,
   "metadata": {},
   "outputs": [
    {
     "data": {
      "text/plain": [
       "\"Below is an instruction that describes a task, paired with an input that provides further context. Write a response that appropriately completes the request. ### Instruction: What describes norp in the text? ### Input: Text: Gino Mäder Gino Mäder (born 4 January 1997) is a Swiss road and track cyclist, who currently rides for UCI WorldTeam. He competed at the 2016 UEC European Track Championships in the team pursuit event. Major results 2014 4th Road race, European Junior Road Championships 9th Overall Grand Prix Rüebliland 9th Overall Tour du Pays de Vaud 2015 1st Time trial, National Junior Road Championships 2nd Overall Tour du Pays de Vaud 1st Prologue & Stage 1 2nd Overall Grand Prix Rüebliland 5th Time trial, UCI Junior Road World Championships 2017 3rd Piccolo Giro di Lombardia 6th Rund um den Finanzplatz Eschborn-Frankfurt U23 2018 Tour Alsace 1st Points classification 1st Stage 4 1st Stage 4 Ronde de l'Isard 2nd Time trial, National Under–23 Road Championships 2nd Overall Tour of Hainan 1st Stage 6 3rd Overall Tour de l'Avenir 1st Stages 8 & 10 4th Road race, UCI Road World Under–23 Championships 4th G.P. Palio del Recioto References External links Category:1997 births Category:Living people Category:Swiss male cyclists Category:Swiss track cyclists Category:Place of birth missing (living people) ### Response:</s>\""
      ]
     },
     "execution_count": 23,
     "metadata": {},
     "output_type": "execute_result"
    }
   ],
   "source": [
    "tokenizer.decode(en_open_ner_tokenized[19]['input_ids'])"
   ]
  },
  {
   "cell_type": "code",
   "execution_count": 24,
   "metadata": {},
   "outputs": [
    {
     "data": {
      "text/plain": [
       "'[]</s>'"
      ]
     },
     "execution_count": 24,
     "metadata": {},
     "output_type": "execute_result"
    }
   ],
   "source": [
    "tokenizer.decode(en_open_ner_tokenized[19]['labels'])"
   ]
  },
  {
   "cell_type": "code",
   "execution_count": 26,
   "metadata": {},
   "outputs": [
    {
     "name": "stdout",
     "output_type": "stream",
     "text": [
      "> Pushing to hub: en-mT5-ner-open_domain\n"
     ]
    },
    {
     "name": "stderr",
     "output_type": "stream",
     "text": [
      "Creating parquet from Arrow format: 100%|██████████| 178/178 [00:01<00:00, 101.18ba/s]\n",
      "Creating parquet from Arrow format: 100%|██████████| 178/178 [00:01<00:00, 101.63ba/s]\n",
      "Uploading the dataset shards: 100%|██████████| 2/2 [00:23<00:00, 11.53s/it]\n"
     ]
    },
    {
     "data": {
      "text/plain": [
       "CommitInfo(commit_url='https://huggingface.co/datasets/nqv2291/en-mT5-ner-open_domain/commit/00f95c52a945b0c5dc66cb9a5ea6b50b8984988f', commit_message='Upload dataset', commit_description='', oid='00f95c52a945b0c5dc66cb9a5ea6b50b8984988f', pr_url=None, pr_revision=None, pr_num=None)"
      ]
     },
     "execution_count": 26,
     "metadata": {},
     "output_type": "execute_result"
    }
   ],
   "source": [
    "print(f\"> Pushing to hub: {output_repo}\")\n",
    "en_open_ner_tokenized.push_to_hub(output_repo)"
   ]
  },
  {
   "cell_type": "code",
   "execution_count": null,
   "metadata": {},
   "outputs": [],
   "source": []
  }
 ],
 "metadata": {
  "kernelspec": {
   "display_name": "vietnq-ner",
   "language": "python",
   "name": "python3"
  },
  "language_info": {
   "codemirror_mode": {
    "name": "ipython",
    "version": 3
   },
   "file_extension": ".py",
   "mimetype": "text/x-python",
   "name": "python",
   "nbconvert_exporter": "python",
   "pygments_lexer": "ipython3",
   "version": "3.12.3"
  }
 },
 "nbformat": 4,
 "nbformat_minor": 2
}
